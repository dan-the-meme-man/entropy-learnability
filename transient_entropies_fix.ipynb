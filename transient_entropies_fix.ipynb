{
 "cells": [
  {
   "cell_type": "code",
   "execution_count": 11,
   "metadata": {},
   "outputs": [],
   "source": [
    "import os\n",
    "import json\n",
    "import torch\n",
    "\n",
    "from entropy import (\n",
    "    calculate_transient_entropy_unigram,\n",
    "    calculate_transient_entropy_bigram\n",
    ")"
   ]
  },
  {
   "cell_type": "code",
   "execution_count": 12,
   "metadata": {},
   "outputs": [],
   "source": [
    "results = sorted([\n",
    "    f for f in os.listdir('results') if 'grams' in f\n",
    "])\n",
    "assert sorted(list(set(results))) == sorted(results)"
   ]
  },
  {
   "cell_type": "code",
   "execution_count": 13,
   "metadata": {},
   "outputs": [],
   "source": [
    "sequence_length = 64\n",
    "batch_size = 4\n",
    "bos_token_id = 0\n",
    "eos_token_id = 1\n",
    "pad_token_id = 2"
   ]
  },
  {
   "cell_type": "code",
   "execution_count": 14,
   "metadata": {},
   "outputs": [],
   "source": [
    "def get_entropy(name, table):\n",
    "    if 'unigram' in name:\n",
    "        return calculate_transient_entropy_unigram(\n",
    "            torch.tensor(table),\n",
    "            sequence_length,\n",
    "            batch_size,\n",
    "            bos_token_id,\n",
    "            eos_token_id,\n",
    "            pad_token_id\n",
    "        )\n",
    "    elif 'bigram' in name:\n",
    "        return calculate_transient_entropy_bigram(\n",
    "            torch.tensor(table),\n",
    "            sequence_length,\n",
    "            batch_size,\n",
    "            bos_token_id,\n",
    "            eos_token_id,\n",
    "            pad_token_id\n",
    "        )\n",
    "    else:\n",
    "        raise ValueError('Unknown n-gram type')"
   ]
  },
  {
   "cell_type": "markdown",
   "metadata": {},
   "source": [
    "REDO NORMAL BIGRAMS 10K"
   ]
  },
  {
   "cell_type": "code",
   "execution_count": null,
   "metadata": {},
   "outputs": [
    {
     "name": "stdout",
     "output_type": "stream",
     "text": [
      "Iteration 0, Norm: 0.196116\n",
      "Iteration 50, Norm: 0.002374\n",
      "Iteration 100, Norm: 0.000943\n",
      "Iteration 150, Norm: 0.000582\n",
      "Iteration 200, Norm: 0.000606\n",
      "Iteration 250, Norm: 0.000348\n",
      "Iteration 300, Norm: 0.000271\n",
      "Iteration 350, Norm: 0.000240\n",
      "Iteration 400, Norm: 0.000187\n"
     ]
    },
    {
     "ename": "KeyboardInterrupt",
     "evalue": "",
     "output_type": "error",
     "traceback": [
      "\u001b[0;31m---------------------------------------------------------------------------\u001b[0m",
      "\u001b[0;31mKeyboardInterrupt\u001b[0m                         Traceback (most recent call last)",
      "Cell \u001b[0;32mIn[15], line 8\u001b[0m\n\u001b[1;32m      6\u001b[0m         table \u001b[38;5;241m=\u001b[39m json\u001b[38;5;241m.\u001b[39mload(f)[\u001b[38;5;124m'\u001b[39m\u001b[38;5;124mtable\u001b[39m\u001b[38;5;124m'\u001b[39m]\n\u001b[1;32m      7\u001b[0m         name \u001b[38;5;241m=\u001b[39m result\u001b[38;5;241m.\u001b[39mreplace(\u001b[38;5;124m'\u001b[39m\u001b[38;5;124m.json\u001b[39m\u001b[38;5;124m'\u001b[39m, \u001b[38;5;124m'\u001b[39m\u001b[38;5;124m'\u001b[39m)\n\u001b[0;32m----> 8\u001b[0m         entropy \u001b[38;5;241m=\u001b[39m \u001b[43mget_entropy\u001b[49m\u001b[43m(\u001b[49m\u001b[43mname\u001b[49m\u001b[43m,\u001b[49m\u001b[43m \u001b[49m\u001b[43mtable\u001b[49m\u001b[43m)\u001b[49m\n\u001b[1;32m      9\u001b[0m         name_to_entropy[name] \u001b[38;5;241m=\u001b[39m entropy\n\u001b[1;32m     10\u001b[0m \u001b[38;5;28;01mexcept\u001b[39;00m \u001b[38;5;167;01mException\u001b[39;00m \u001b[38;5;28;01mas\u001b[39;00m e:\n",
      "Cell \u001b[0;32mIn[14], line 3\u001b[0m, in \u001b[0;36mget_entropy\u001b[0;34m(name, table)\u001b[0m\n\u001b[1;32m      1\u001b[0m \u001b[38;5;28;01mdef\u001b[39;00m \u001b[38;5;21mget_entropy\u001b[39m(name, table):\n\u001b[1;32m      2\u001b[0m     \u001b[38;5;28;01mif\u001b[39;00m \u001b[38;5;124m'\u001b[39m\u001b[38;5;124munigram\u001b[39m\u001b[38;5;124m'\u001b[39m \u001b[38;5;129;01min\u001b[39;00m name:\n\u001b[0;32m----> 3\u001b[0m         \u001b[38;5;28;01mreturn\u001b[39;00m \u001b[43mcalculate_transient_entropy_unigram\u001b[49m\u001b[43m(\u001b[49m\n\u001b[1;32m      4\u001b[0m \u001b[43m            \u001b[49m\u001b[43mtorch\u001b[49m\u001b[38;5;241;43m.\u001b[39;49m\u001b[43mtensor\u001b[49m\u001b[43m(\u001b[49m\u001b[43mtable\u001b[49m\u001b[43m)\u001b[49m\u001b[43m,\u001b[49m\n\u001b[1;32m      5\u001b[0m \u001b[43m            \u001b[49m\u001b[43msequence_length\u001b[49m\u001b[43m,\u001b[49m\n\u001b[1;32m      6\u001b[0m \u001b[43m            \u001b[49m\u001b[43mbatch_size\u001b[49m\u001b[43m,\u001b[49m\n\u001b[1;32m      7\u001b[0m \u001b[43m            \u001b[49m\u001b[43mbos_token_id\u001b[49m\u001b[43m,\u001b[49m\n\u001b[1;32m      8\u001b[0m \u001b[43m            \u001b[49m\u001b[43meos_token_id\u001b[49m\u001b[43m,\u001b[49m\n\u001b[1;32m      9\u001b[0m \u001b[43m            \u001b[49m\u001b[43mpad_token_id\u001b[49m\n\u001b[1;32m     10\u001b[0m \u001b[43m        \u001b[49m\u001b[43m)\u001b[49m\n\u001b[1;32m     11\u001b[0m     \u001b[38;5;28;01melif\u001b[39;00m \u001b[38;5;124m'\u001b[39m\u001b[38;5;124mbigram\u001b[39m\u001b[38;5;124m'\u001b[39m \u001b[38;5;129;01min\u001b[39;00m name:\n\u001b[1;32m     12\u001b[0m         \u001b[38;5;28;01mreturn\u001b[39;00m calculate_transient_entropy_bigram(\n\u001b[1;32m     13\u001b[0m             torch\u001b[38;5;241m.\u001b[39mtensor(table),\n\u001b[1;32m     14\u001b[0m             sequence_length,\n\u001b[0;32m   (...)\u001b[0m\n\u001b[1;32m     18\u001b[0m             pad_token_id\n\u001b[1;32m     19\u001b[0m         )\n",
      "File \u001b[0;32m~/entropy-learnability/entropy.py:117\u001b[0m, in \u001b[0;36mcalculate_transient_entropy_unigram\u001b[0;34m(unigram_table, max_length, batch_size, bos_token_id, eos_token_id, pad_token_id)\u001b[0m\n\u001b[1;32m    113\u001b[0m \u001b[38;5;28;01massert\u001b[39;00m torch\u001b[38;5;241m.\u001b[39misclose(unigram_table\u001b[38;5;241m.\u001b[39msum(), torch\u001b[38;5;241m.\u001b[39mtensor(\u001b[38;5;241m1.0\u001b[39m))\n\u001b[1;32m    115\u001b[0m unigram_table \u001b[38;5;241m=\u001b[39m unigram_table\u001b[38;5;241m.\u001b[39mto(device)\n\u001b[0;32m--> 117\u001b[0m p \u001b[38;5;241m=\u001b[39m \u001b[43msample_unigram_seqs_to_convergence\u001b[49m\u001b[43m(\u001b[49m\n\u001b[1;32m    118\u001b[0m \u001b[43m    \u001b[49m\u001b[43munigram_table\u001b[49m\u001b[43m,\u001b[49m\n\u001b[1;32m    119\u001b[0m \u001b[43m    \u001b[49m\u001b[43mmax_length\u001b[49m\u001b[43m,\u001b[49m\n\u001b[1;32m    120\u001b[0m \u001b[43m    \u001b[49m\u001b[43mbatch_size\u001b[49m\u001b[43m,\u001b[49m\n\u001b[1;32m    121\u001b[0m \u001b[43m    \u001b[49m\u001b[43mbos_token_id\u001b[49m\u001b[43m,\u001b[49m\n\u001b[1;32m    122\u001b[0m \u001b[43m    \u001b[49m\u001b[43meos_token_id\u001b[49m\u001b[43m,\u001b[49m\n\u001b[1;32m    123\u001b[0m \u001b[43m    \u001b[49m\u001b[43mpad_token_id\u001b[49m\n\u001b[1;32m    124\u001b[0m \u001b[43m\u001b[49m\u001b[43m)\u001b[49m\n\u001b[1;32m    126\u001b[0m t \u001b[38;5;241m=\u001b[39m \u001b[38;5;241m-\u001b[39m\u001b[38;5;241m1\u001b[39m \u001b[38;5;241m*\u001b[39m (p \u001b[38;5;241m*\u001b[39m p\u001b[38;5;241m.\u001b[39mlog())\u001b[38;5;241m.\u001b[39msum()\n\u001b[1;32m    128\u001b[0m \u001b[38;5;28;01mreturn\u001b[39;00m t\u001b[38;5;241m.\u001b[39mitem()\n",
      "File \u001b[0;32m~/entropy-learnability/entropy.py:226\u001b[0m, in \u001b[0;36msample_unigram_seqs_to_convergence\u001b[0;34m(unigram_table, max_length, batch_size, bos_token_id, eos_token_id, pad_token_id)\u001b[0m\n\u001b[1;32m    223\u001b[0m p \u001b[38;5;241m=\u001b[39m p_next\n\u001b[1;32m    225\u001b[0m \u001b[38;5;66;03m# Generate unigram sequences in larger batches to better utilize GPU\u001b[39;00m\n\u001b[0;32m--> 226\u001b[0m seqs \u001b[38;5;241m=\u001b[39m \u001b[43mgenerate_unigram_sequences_using_table\u001b[49m\u001b[43m(\u001b[49m\n\u001b[1;32m    227\u001b[0m \u001b[43m    \u001b[49m\u001b[43mbatch_size\u001b[49m\u001b[43m,\u001b[49m\n\u001b[1;32m    228\u001b[0m \u001b[43m    \u001b[49m\u001b[43mmax_length\u001b[49m\u001b[43m,\u001b[49m\n\u001b[1;32m    229\u001b[0m \u001b[43m    \u001b[49m\u001b[43munigram_table\u001b[49m\u001b[43m,\u001b[49m\n\u001b[1;32m    230\u001b[0m \u001b[43m    \u001b[49m\u001b[43mbos_token_id\u001b[49m\u001b[43m,\u001b[49m\n\u001b[1;32m    231\u001b[0m \u001b[43m    \u001b[49m\u001b[43meos_token_id\u001b[49m\u001b[43m,\u001b[49m\n\u001b[1;32m    232\u001b[0m \u001b[43m    \u001b[49m\u001b[43mpad_token_id\u001b[49m\n\u001b[1;32m    233\u001b[0m \u001b[43m\u001b[49m\u001b[43m)\u001b[49m\n\u001b[1;32m    235\u001b[0m \u001b[38;5;66;03m# Ensure seqs is on the same device before calling `.unique`\u001b[39;00m\n\u001b[1;32m    236\u001b[0m seqs \u001b[38;5;241m=\u001b[39m seqs\u001b[38;5;241m.\u001b[39mto(device)\n",
      "File \u001b[0;32m~/entropy-learnability/generate_sequences.py:31\u001b[0m, in \u001b[0;36mgenerate_unigram_sequences_using_table\u001b[0;34m(batch_size, sequence_length, unigram_probs, bos_token_id, eos_token_id, pad_token_id, stop_states)\u001b[0m\n\u001b[1;32m     29\u001b[0m \u001b[38;5;28;01mfor\u001b[39;00m i \u001b[38;5;129;01min\u001b[39;00m \u001b[38;5;28mrange\u001b[39m(batch_size):\n\u001b[1;32m     30\u001b[0m     \u001b[38;5;28;01mfor\u001b[39;00m j \u001b[38;5;129;01min\u001b[39;00m \u001b[38;5;28mrange\u001b[39m(sequence_length):\n\u001b[0;32m---> 31\u001b[0m         sampled_id \u001b[38;5;241m=\u001b[39m \u001b[43mtorch\u001b[49m\u001b[38;5;241;43m.\u001b[39;49m\u001b[43mmultinomial\u001b[49m\u001b[43m(\u001b[49m\u001b[43munigram_probs\u001b[49m\u001b[43m,\u001b[49m\u001b[43m \u001b[49m\u001b[38;5;241;43m1\u001b[39;49m\u001b[43m)\u001b[49m\n\u001b[1;32m     32\u001b[0m         \u001b[38;5;28;01mif\u001b[39;00m sampled_id \u001b[38;5;129;01min\u001b[39;00m stop_states:\n\u001b[1;32m     33\u001b[0m             sequences[i, j] \u001b[38;5;241m=\u001b[39m sampled_id\n",
      "\u001b[0;31mKeyboardInterrupt\u001b[0m: "
     ]
    }
   ],
   "source": [
    "name_to_entropy = {}\n",
    "\n",
    "for result in results:\n",
    "    try:\n",
    "        with open(f'results/{result}') as f:\n",
    "            table = json.load(f)['table']\n",
    "            name = result.replace('.json', '')\n",
    "            entropy = get_entropy(name, table)\n",
    "            name_to_entropy[name] = entropy\n",
    "            print(f'{name}: {entropy}')\n",
    "    except Exception as e:\n",
    "        print(e)\n",
    "        print(f'Failed to load {result}')"
   ]
  },
  {
   "cell_type": "code",
   "execution_count": null,
   "metadata": {},
   "outputs": [],
   "source": []
  }
 ],
 "metadata": {
  "kernelspec": {
   "display_name": "base",
   "language": "python",
   "name": "python3"
  },
  "language_info": {
   "codemirror_mode": {
    "name": "ipython",
    "version": 3
   },
   "file_extension": ".py",
   "mimetype": "text/x-python",
   "name": "python",
   "nbconvert_exporter": "python",
   "pygments_lexer": "ipython3",
   "version": "3.9.12"
  }
 },
 "nbformat": 4,
 "nbformat_minor": 2
}
