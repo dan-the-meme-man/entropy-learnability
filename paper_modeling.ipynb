{
 "cells": [
  {
   "cell_type": "code",
   "execution_count": null,
   "metadata": {},
   "outputs": [],
   "source": [
    "import json\n",
    "import numpy as np\n",
    "from scipy.optimize import curve_fit\n",
    "from scipy.stats import ttest_rel\n",
    "import plotly\n",
    "import plotly.express as px\n",
    "import plotly.graph_objects as go\n",
    "import plotly.io as pio\n",
    "import glob\n",
    "import pandas as pd\n",
    "from sklearn.preprocessing import StandardScaler, OrdinalEncoder\n",
    "import statsmodels.api as sm\n",
    "import statsmodels.formula.api as smf\n",
    "pio.renderers.default = 'svg'"
   ]
  },
  {
   "cell_type": "code",
   "execution_count": null,
   "metadata": {},
   "outputs": [],
   "source": [
    "pd.set_option('display.max_rows', None)"
   ]
  },
  {
   "cell_type": "code",
   "execution_count": null,
   "metadata": {},
   "outputs": [],
   "source": [
    "orig_df = pd.read_json('var_results/data_for_modeling.json')\n",
    "orig_df = orig_df.sort_values(by=['Test set average cross-entropy'])"
   ]
  },
  {
   "cell_type": "markdown",
   "metadata": {},
   "source": [
    "# Curve fitting"
   ]
  },
  {
   "cell_type": "code",
   "execution_count": null,
   "metadata": {},
   "outputs": [],
   "source": [
    "# curve fitting\n",
    "def exponential(x, a, b, c):\n",
    "    return a * np.exp(b * x) + c\n",
    "\n",
    "def linear(x, a, b):\n",
    "    return a * x + b\n",
    "\n",
    "def combine_attrs(list1, list2):\n",
    "    list1 = list1.tolist()\n",
    "    list2 = list2.tolist()\n",
    "    return [str(list1[i]) + ', ' + str(list2[i]) for i in range(len(list1))]\n",
    "\n",
    "entropy = orig_df['Entropy']\n",
    "test_set_perplexity = orig_df['Test set perplexity']\n",
    "test_set_avg_cross_entropy = orig_df['Test set average cross-entropy']\n",
    "dist = orig_df['Distribution']\n",
    "uni_or_bi = orig_df['Uni- or bigram']\n",
    "vocab_size = orig_df['Vocab size']\n",
    "softmax = orig_df['Softmax']\n",
    "model_type = orig_df['Model type']\n",
    "embd_size = orig_df['Embedding size']\n",
    "\n",
    "x_ent = np.linspace(min(entropy), max(entropy), 100)\n",
    "\n",
    "ppl_vs_ent = curve_fit(exponential, entropy, test_set_perplexity)\n",
    "\n",
    "y_ppl = exponential(x_ent, *ppl_vs_ent[0])\n",
    "\n",
    "ce_vs_ent = curve_fit(linear, entropy, test_set_avg_cross_entropy)\n",
    "\n",
    "y_ce = linear(x_ent, *ce_vs_ent[0])\n",
    "\n",
    "ppl_fit = go.Scatter(\n",
    "    x=x_ent,\n",
    "    y=y_ppl,\n",
    "    mode='lines',\n",
    "    name=f'{ppl_vs_ent[0][0]:.2f} * exp({ppl_vs_ent[0][1]:.2f} * x) + {ppl_vs_ent[0][2]:.2f}'\n",
    ")\n",
    "\n",
    "ce_fit = go.Scatter(\n",
    "    x=x_ent,\n",
    "    y=y_ce,\n",
    "    mode='lines',\n",
    "    name=f'{ce_vs_ent[0][0]:.2f} * x + {ce_vs_ent[0][1]:.2f}'\n",
    ")\n",
    "\n",
    "y_equals_x = go.Scatter(\n",
    "    x=x_ent,\n",
    "    y=x_ent,\n",
    "    mode='lines',\n",
    "    name='Theoretical limit',\n",
    "    marker=dict(color='red')\n",
    ")\n",
    "\n",
    "default_colors = plotly.colors.qualitative.Plotly\n",
    "next_color = default_colors[13 % len(default_colors)]\n",
    "ppl_fit.update(marker_color=next_color)\n",
    "ce_fit.update(marker_color=next_color)\n",
    "print()"
   ]
  },
  {
   "cell_type": "markdown",
   "metadata": {},
   "source": [
    "# R^2"
   ]
  },
  {
   "cell_type": "code",
   "execution_count": null,
   "metadata": {},
   "outputs": [],
   "source": [
    "residuals = test_set_avg_cross_entropy - linear(np.array(entropy), *ce_vs_ent[0])\n",
    "ss_res = np.sum(residuals**2)\n",
    "ss_tot = np.sum((test_set_avg_cross_entropy - np.mean(test_set_avg_cross_entropy))**2)\n",
    "r_squared = 1 - (ss_res / ss_tot)\n",
    "print(f'Overall R^2: {r_squared}')"
   ]
  },
  {
   "cell_type": "markdown",
   "metadata": {},
   "source": [
    "# Plots"
   ]
  },
  {
   "cell_type": "code",
   "execution_count": null,
   "metadata": {},
   "outputs": [],
   "source": [
    "legend_dict = dict(\n",
    "    orientation='h',\n",
    "    y=-0.15,\n",
    ")\n",
    "\n",
    "marker_dict = dict(\n",
    "    size=12,\n",
    "    opacity=0.5,\n",
    ")"
   ]
  },
  {
   "cell_type": "code",
   "execution_count": null,
   "metadata": {},
   "outputs": [],
   "source": [
    "fig = px.scatter(\n",
    "    orig_df,\n",
    "    x='Entropy',\n",
    "    y='Test set perplexity',\n",
    "    title='Test set perplexity vs. entropy',\n",
    "    labels={'x': 'Entropy', 'y': 'Test set perplexity', 'color': 'Uni- or bigram'},\n",
    "    color=uni_or_bi,\n",
    "    hover_data={'Vocab size': True, 'Softmax': True, 'Distribution': True, 'Model type': True, 'Embedding size': True},\n",
    ")\n",
    "fig.update_layout(legend=legend_dict)\n",
    "fig.update_traces(marker=marker_dict)\n",
    "fig.add_trace(ppl_fit)\n",
    "fig.data = fig.data[::-1]\n",
    "fig.write_html('plots/uni_or_bi.html')\n",
    "pio.write_image(fig, 'plots/uni_or_bi.pdf')\n",
    "fig.show()\n",
    "\n",
    "fig = px.scatter(\n",
    "    orig_df,\n",
    "    x='Entropy',\n",
    "    y='Test set perplexity',\n",
    "    title='Test set perplexity vs. entropy',\n",
    "    labels={'x': 'Entropy', 'y': 'Test set perplexity', 'color': 'Vocab size'},\n",
    "    color=[str(x) for x in vocab_size],\n",
    "    category_orders={'color': reversed([str(x) for x in sorted(vocab_size)])},\n",
    "    hover_data={'Uni- or bigram': True, 'Softmax': True, 'Distribution': True, 'Model type': True, 'Embedding size': True},\n",
    ")\n",
    "fig.update_layout(legend=legend_dict)\n",
    "fig.update_traces(marker=marker_dict)\n",
    "fig.add_trace(ppl_fit)\n",
    "fig.data = fig.data[::-1]\n",
    "fig.write_html('plots/vocab.html')\n",
    "pio.write_image(fig, 'plots/vocab.pdf')\n",
    "fig.show()\n",
    "\n",
    "fig = px.scatter(\n",
    "    orig_df,\n",
    "    x='Entropy',\n",
    "    y='Test set perplexity',\n",
    "    title='Test set perplexity vs. entropy',\n",
    "    labels={'x': 'Entropy', 'y': 'Test set perplexity', 'color': 'Uni- or bigram and distribution'},\n",
    "    color=combine_attrs(uni_or_bi, dist),\n",
    "    hover_data={'Vocab size': True, 'Softmax': True, 'Model type': True, 'Embedding size': True},\n",
    ")\n",
    "fig.update_layout(legend=legend_dict)\n",
    "fig.update_traces(marker=marker_dict)\n",
    "fig.add_trace(ppl_fit)\n",
    "fig.data = fig.data[::-1]\n",
    "fig.write_html('plots/uni_or_bi_dist.html')\n",
    "pio.write_image(fig, 'plots/uni_or_bi_dist.pdf')\n",
    "fig.show()\n",
    "\n",
    "fig = px.scatter(\n",
    "    orig_df,\n",
    "    x='Entropy',\n",
    "    y='Test set perplexity',\n",
    "    title='Test set perplexity vs. entropy',\n",
    "    labels={'x': 'Entropy', 'y': 'Test set perplexity', 'color': 'Model type'},\n",
    "    color='Model type',\n",
    "    hover_data={'Vocab size': True, 'Softmax': True, 'Uni- or bigram': True, 'Distribution': True, 'Embedding size': True},\n",
    ")\n",
    "fig.update_layout(legend=legend_dict)\n",
    "fig.update_traces(marker=marker_dict)\n",
    "fig.add_trace(ppl_fit)\n",
    "fig.data = fig.data[::-1]\n",
    "fig.write_html('plots/model_type.html')\n",
    "pio.write_image(fig, 'plots/model_type.pdf')\n",
    "fig.show()\n",
    "\n",
    "fig = px.scatter(\n",
    "    orig_df,\n",
    "    x='Entropy',\n",
    "    y='Test set perplexity',\n",
    "    title='Test set perplexity vs. entropy',\n",
    "    labels={'x': 'Entropy', 'y': 'Test set perplexity', 'color': 'Embedding size'},\n",
    "    color=[str(x) for x in embd_size],\n",
    "    hover_data={'Vocab size': True, 'Softmax': True, 'Uni- or bigram': True, 'Distribution': True, 'Model type': True},\n",
    ")\n",
    "fig.update_layout(legend=legend_dict)\n",
    "fig.update_traces(marker=marker_dict)\n",
    "fig.add_trace(ppl_fit)\n",
    "fig.data = fig.data[::-1]\n",
    "fig.write_html('plots/embd_size.html')\n",
    "pio.write_image(fig, 'plots/embd_size.pdf')\n",
    "fig.show()\n",
    "\n",
    "fig = px.scatter(\n",
    "    orig_df,\n",
    "    x='Entropy',\n",
    "    y='Test set perplexity',\n",
    "    title='Test set perplexity vs. entropy',\n",
    "    labels={'x': 'Entropy', 'y': 'Test set perplexity', 'color': 'Softmax'},\n",
    "    color='Softmax',\n",
    "    hover_data={'Vocab size': True, 'Uni- or bigram': True, 'Distribution': True, 'Model type': True, 'Embedding size': True},\n",
    ")\n",
    "fig.update_layout(legend=legend_dict)\n",
    "fig.update_traces(marker=marker_dict)\n",
    "fig.add_trace(ppl_fit)\n",
    "fig.data = fig.data[::-1]\n",
    "fig.write_html('plots/softmax.html')\n",
    "pio.write_image(fig, 'plots/softmax.pdf')\n",
    "fig.show()\n",
    "\n",
    "fig = px.scatter(\n",
    "    orig_df,\n",
    "    x='Entropy',\n",
    "    y='Test set average cross-entropy',\n",
    "    title=f'Test set average cross-entropy vs. entropy, R^2={r_squared:.4f}',\n",
    "    labels={'x': 'Entropy', 'y': 'Test set average cross-entropy', 'color': 'Uni- or bigram'},\n",
    "    color='Uni- or bigram',\n",
    "    hover_data={'Vocab size': True, 'Softmax': True, 'Distribution': True, 'Model type': True, 'Embedding size': True},\n",
    ")\n",
    "fig.update_layout(legend=legend_dict)\n",
    "fig.update_traces(marker=marker_dict)\n",
    "fig.add_trace(ce_fit)\n",
    "fig.add_trace(y_equals_x)\n",
    "fig.data = fig.data[::-1]\n",
    "fig.write_html('plots/uni_or_bi_ce.html')\n",
    "pio.write_image(fig, 'plots/uni_or_bi_ce.pdf')\n",
    "fig.show()\n",
    "\n",
    "fig = px.scatter(\n",
    "    orig_df,\n",
    "    x='Entropy',\n",
    "    y='Test set average cross-entropy',\n",
    "    title=f'Test set average cross-entropy vs. entropy, R^2={r_squared:.4f}',\n",
    "    labels={'x': 'Entropy', 'y': 'Test set average cross-entropy', 'color': 'Vocab size'},\n",
    "    color=[str(x) for x in vocab_size],\n",
    "    category_orders={'color': reversed([str(x) for x in sorted(vocab_size)])},\n",
    "    hover_data={'Uni- or bigram': True, 'Softmax': True, 'Distribution': True, 'Model type': True, 'Embedding size': True},\n",
    ")\n",
    "fig.update_layout(legend=legend_dict)\n",
    "fig.update_traces(marker=marker_dict)\n",
    "fig.add_trace(ce_fit)\n",
    "fig.add_trace(y_equals_x)\n",
    "fig.data = fig.data[::-1]\n",
    "fig.write_html('plots/vocab_ce.html')\n",
    "pio.write_image(fig, 'plots/vocab_ce.pdf')\n",
    "fig.show()\n",
    "\n",
    "fig = px.scatter(\n",
    "    orig_df,\n",
    "    x='Entropy',\n",
    "    y='Test set average cross-entropy',\n",
    "    title=f'Test set average cross-entropy vs. entropy, R^2={r_squared:.4f}',\n",
    "    labels={'x': 'Entropy', 'y': 'Test set average cross-entropy', 'color': 'Uni- or bigram and distribution'},\n",
    "    color=combine_attrs(uni_or_bi, dist),\n",
    "    hover_data={'Vocab size': True, 'Softmax': True, 'Model type': True, 'Embedding size': True},\n",
    ")\n",
    "fig.update_layout(legend=legend_dict)\n",
    "fig.update_traces(marker=marker_dict)\n",
    "fig.add_trace(ce_fit)\n",
    "fig.add_trace(y_equals_x)\n",
    "fig.data = fig.data[::-1]\n",
    "fig.write_html('plots/uni_or_bi_dist_ce.html')\n",
    "pio.write_image(fig, 'plots/uni_or_bi_dist_ce.pdf')\n",
    "fig.show()\n",
    "\n",
    "fig = px.scatter(\n",
    "    orig_df,\n",
    "    x='Entropy',\n",
    "    y='Test set average cross-entropy',\n",
    "    title=f'Test set average cross-entropy vs. entropy, R^2={r_squared:.4f}',\n",
    "    labels={'x': 'Entropy', 'y': 'Test set average cross-entropy', 'color': 'Model type'},\n",
    "    color='Model type',\n",
    "    hover_data={'Vocab size': True, 'Softmax': True, 'Uni- or bigram': True, 'Distribution': True, 'Embedding size': True},\n",
    ")\n",
    "fig.update_layout(legend=legend_dict)\n",
    "fig.update_traces(marker=marker_dict)\n",
    "fig.add_trace(ce_fit)\n",
    "fig.add_trace(y_equals_x)\n",
    "fig.data = fig.data[::-1]\n",
    "fig.write_html('plots/model_type_ce.html')\n",
    "pio.write_image(fig, 'plots/model_type_ce.pdf')\n",
    "fig.show()\n",
    "\n",
    "fig = px.scatter(\n",
    "    orig_df,\n",
    "    x='Entropy',\n",
    "    y='Test set average cross-entropy',\n",
    "    title=f'Test set average cross-entropy vs. entropy, R^2={r_squared:.4f}',\n",
    "    labels={'x': 'Entropy', 'y': 'Test set average cross-entropy', 'color': 'Embedding size'},\n",
    "    color=[str(x) for x in embd_size],\n",
    "    hover_data={'Vocab size': True, 'Softmax': True, 'Uni- or bigram': True, 'Distribution': True, 'Model type': True},\n",
    ")\n",
    "fig.update_layout(legend=legend_dict)\n",
    "fig.update_traces(marker=marker_dict)\n",
    "fig.add_trace(ce_fit)\n",
    "fig.add_trace(y_equals_x)\n",
    "fig.data = fig.data[::-1]\n",
    "fig.write_html('plots/embd_size_ce.html')\n",
    "pio.write_image(fig, 'plots/embd_size_ce.pdf')\n",
    "fig.show()\n",
    "\n",
    "fig = px.scatter(\n",
    "    orig_df,\n",
    "    x='Entropy',\n",
    "    y='Test set average cross-entropy',\n",
    "    title=f'Test set average cross-entropy vs. entropy, R^2={r_squared:.4f}',\n",
    "    labels={'x': 'Entropy', 'y': 'Test set average cross-entropy', 'color': 'Softmax'},\n",
    "    color='Softmax',\n",
    "    hover_data={'Vocab size': True, 'Embedding size': True, 'Uni- or bigram': True, 'Distribution': True, 'Model type': True},\n",
    ")\n",
    "fig.update_layout(legend=legend_dict)\n",
    "fig.update_traces(marker=marker_dict)\n",
    "fig.add_trace(ce_fit)\n",
    "fig.add_trace(y_equals_x)\n",
    "fig.data = fig.data[::-1]\n",
    "fig.write_html('plots/softmax_ce.html')\n",
    "pio.write_image(fig, 'plots/softmax_ce.pdf')\n",
    "fig.show()"
   ]
  },
  {
   "cell_type": "markdown",
   "metadata": {},
   "source": [
    "# Linear models"
   ]
  },
  {
   "cell_type": "code",
   "execution_count": null,
   "metadata": {},
   "outputs": [],
   "source": [
    "def encode_and_fit(df_arg):\n",
    "    \n",
    "    df = df_arg.copy()\n",
    "    \n",
    "    enc = OrdinalEncoder()\n",
    "    scaler = StandardScaler()\n",
    "    try:\n",
    "        df['Distribution'] = enc.fit_transform(df[['Distribution']])\n",
    "    except:\n",
    "        pass\n",
    "    try:\n",
    "        df['Uni- or bigram'] = enc.fit_transform(df[['Uni- or bigram']])\n",
    "    except:\n",
    "        pass\n",
    "    try:\n",
    "        df['Softmax'] = enc.fit_transform(df[['Softmax']])\n",
    "    except:\n",
    "        pass\n",
    "    try:\n",
    "        df['Model type'] = enc.fit_transform(df[['Model type']])\n",
    "    except:\n",
    "        pass\n",
    "    for col in df.columns:\n",
    "        if col not in ['Distribution', 'Uni- or bigram', 'Softmax', 'Model type', 'Test set perplexity']:\n",
    "            df[col] = scaler.fit_transform(df[[col]])\n",
    "    \n",
    "    reg = sm.OLS(\n",
    "        df['Test set average cross-entropy'],\n",
    "        sm.add_constant(df.drop(columns=['Test set average cross-entropy', 'Test set perplexity']))\n",
    "    )\n",
    "    res = reg.fit()\n",
    "    # print(res.summary2())\n",
    "    # print('\\n\\n\\n')\n",
    "    # print(f'{res.rsquared:.4f}\\n')\n",
    "    return res"
   ]
  },
  {
   "cell_type": "code",
   "execution_count": null,
   "metadata": {},
   "outputs": [],
   "source": [
    "# all variables, all data\n",
    "print('All variables, all data')\n",
    "encode_and_fit(orig_df)"
   ]
  },
  {
   "cell_type": "code",
   "execution_count": null,
   "metadata": {},
   "outputs": [],
   "source": [
    "for var in ['Entropy', 'Distribution', 'Uni- or bigram', 'Vocab size', 'Softmax', 'Model type', 'Embedding size']:\n",
    "    print('independent variable:', var)\n",
    "    df_to_fit = orig_df[[var, 'Test set average cross-entropy', 'Test set perplexity']]\n",
    "    if len(df_to_fit) <= 4:\n",
    "        continue\n",
    "    res = encode_and_fit(df_to_fit)"
   ]
  },
  {
   "cell_type": "markdown",
   "metadata": {},
   "source": [
    "# Single features on subsets"
   ]
  },
  {
   "cell_type": "code",
   "execution_count": null,
   "metadata": {},
   "outputs": [],
   "source": [
    "vars = ['Distribution', 'Uni- or bigram', 'Vocab size', 'Softmax', 'Model type', 'Embedding size']\n",
    "\n",
    "single_feature_subsets_df = pd.DataFrame(columns=['All'] + vars)\n",
    "index = [f'{var}={unique_val}' for var in vars for unique_val in orig_df[var].unique()]\n",
    "# insert enough rows for the index\n",
    "for i in range(len(index)):\n",
    "    single_feature_subsets_df.loc[i] = 0\n",
    "single_feature_subsets_df.index = index\n",
    "\n",
    "for var in vars:\n",
    "    for unique_val in orig_df[var].unique():\n",
    "        for other_var in ['Entropy'] + vars:\n",
    "            df_to_fit = orig_df[orig_df[var] == unique_val]\n",
    "            if len(df_to_fit) <= 4:\n",
    "                continue\n",
    "            # print('data subset:', var, '=', unique_val)\n",
    "            # print('feature:', other_var)\n",
    "            res = encode_and_fit(df_to_fit[[other_var, 'Test set average cross-entropy', 'Test set perplexity']])\n",
    "            single_feature_subsets_df.loc[f'{var}={unique_val}', other_var] = res.rsquared\n",
    "        # use all variables\n",
    "        res = encode_and_fit(df_to_fit)\n",
    "        single_feature_subsets_df.loc[f'{var}={unique_val}', 'All'] = res.rsquared"
   ]
  },
  {
   "cell_type": "code",
   "execution_count": null,
   "metadata": {},
   "outputs": [],
   "source": [
    "nu_df = pd.DataFrame(columns=['All'] + vars)\n",
    "for other_var in ['Entropy'] + vars:\n",
    "    df_to_fit = orig_df[orig_df['Distribution'] == 'normal']\n",
    "    df_to_fit = df_to_fit[df_to_fit['Uni- or bigram'] == 'unigrams']\n",
    "    if len(df_to_fit) <= 4:\n",
    "        continue\n",
    "    # print('data subset:', var, '=', unique_val)\n",
    "    # print('feature:', other_var)\n",
    "    res = encode_and_fit(df_to_fit[[other_var, 'Test set average cross-entropy', 'Test set perplexity']])\n",
    "    nu_df.loc[f'{var}={unique_val}', other_var] = res.rsquared\n",
    "# use all variables\n",
    "res = encode_and_fit(df_to_fit)\n",
    "nu_df.loc[f'{var}={unique_val}', 'All'] = res.rsquared\n",
    "\n",
    "nb_df = pd.DataFrame(columns=['All'] + vars)\n",
    "for other_var in ['Entropy'] + vars:\n",
    "    df_to_fit = orig_df[orig_df['Distribution'] == 'normal']\n",
    "    df_to_fit = df_to_fit[df_to_fit['Uni- or bigram'] == 'bigrams']\n",
    "    if len(df_to_fit) <= 4:\n",
    "        continue\n",
    "    # print('data subset:', var, '=', unique_val)\n",
    "    # print('feature:', other_var)\n",
    "    res = encode_and_fit(df_to_fit[[other_var, 'Test set average cross-entropy', 'Test set perplexity']])\n",
    "    nb_df.loc[f'{var}={unique_val}', other_var] = res.rsquared\n",
    "# use all variables\n",
    "res = encode_and_fit(df_to_fit)\n",
    "nb_df.loc[f'{var}={unique_val}', 'All'] = res.rsquared"
   ]
  },
  {
   "cell_type": "code",
   "execution_count": null,
   "metadata": {},
   "outputs": [],
   "source": [
    "nb_df[['All', 'Entropy', 'Distribution', 'Uni- or bigram', 'Vocab size', 'Softmax', 'Model type', 'Embedding size']]"
   ]
  },
  {
   "cell_type": "code",
   "execution_count": null,
   "metadata": {},
   "outputs": [],
   "source": [
    "# display floats in pandas as rounded to 3 decimal places, no scientific notation\n",
    "pd.options.display.float_format = '{:.3f}'.format\n",
    "\n",
    "# sort rows by the index\n",
    "single_feature_subsets_df = single_feature_subsets_df.sort_index()\n",
    "# manually re-order columns\n",
    "single_feature_subsets_df = single_feature_subsets_df[[\n",
    "    'All', 'Entropy', 'Distribution', 'Uni- or bigram', 'Vocab size', 'Softmax', 'Model type', 'Embedding size'\n",
    "]]\n",
    "\n",
    "print(single_feature_subsets_df)"
   ]
  },
  {
   "cell_type": "code",
   "execution_count": null,
   "metadata": {},
   "outputs": [],
   "source": [
    "# just vocab size rows\n",
    "print('Vocab size rows')\n",
    "vocab_size_rows = single_feature_subsets_df.loc[[f'Vocab size={x}' for x in orig_df['Vocab size'].unique()]]\n",
    "\n",
    "# sort by integer value following equal sign\n",
    "vocab_size_rows = vocab_size_rows.reindex(sorted(vocab_size_rows.index, key=lambda x: int(x.split('=')[1])))\n",
    "\n",
    "# drop 26, 60, 283, 8193\n",
    "vocab_size_rows = vocab_size_rows.drop('Vocab size=26')\n",
    "vocab_size_rows = vocab_size_rows.drop('Vocab size=60')\n",
    "vocab_size_rows = vocab_size_rows.drop('Vocab size=283')\n",
    "vocab_size_rows = vocab_size_rows.drop('Vocab size=8193')\n",
    "\n",
    "print(vocab_size_rows)"
   ]
  },
  {
   "cell_type": "markdown",
   "metadata": {},
   "source": [
    "# Feature exclusion"
   ]
  },
  {
   "cell_type": "code",
   "execution_count": null,
   "metadata": {},
   "outputs": [],
   "source": [
    "# model all the data\n",
    "print('Model all the data')\n",
    "\n",
    "vars = ['Distribution', 'Uni- or bigram', 'Vocab size', 'Softmax', 'Model type', 'Embedding size']\n",
    "\n",
    "for excluded_var in ['Entropy'] + vars:\n",
    "    independent_vars = ['Entropy'] + vars.copy()\n",
    "    independent_vars.remove(excluded_var)\n",
    "    df_to_fit = orig_df[independent_vars + ['Test set average cross-entropy', 'Test set perplexity']]\n",
    "    if len(df_to_fit) <= 4:\n",
    "        continue\n",
    "    res = encode_and_fit(df_to_fit)\n",
    "    print(f'Excluding {excluded_var}: {res.rsquared:.3f}')"
   ]
  },
  {
   "cell_type": "code",
   "execution_count": null,
   "metadata": {},
   "outputs": [],
   "source": [
    "vars = ['Distribution', 'Uni- or bigram', 'Vocab size', 'Softmax', 'Model type', 'Embedding size']\n",
    "\n",
    "excluded_df = pd.DataFrame(columns=['Entropy'] + vars)\n",
    "index = [f'{var}={unique_val}' for var in vars for unique_val in orig_df[var].unique()]\n",
    "# insert enough rows for the index\n",
    "for i in range(len(index)):\n",
    "    excluded_df.loc[i] = 0\n",
    "excluded_df.index = index\n",
    "\n",
    "for var in vars:\n",
    "    for unique_val in orig_df[var].unique():\n",
    "        for excluded_var in ['Entropy'] + vars:\n",
    "            independent_vars = ['Entropy'] + vars.copy()\n",
    "            independent_vars.remove(excluded_var)\n",
    "            df_to_fit = orig_df[orig_df[var] == unique_val][independent_vars + ['Test set average cross-entropy', 'Test set perplexity']]\n",
    "            if len(df_to_fit) <= 4:\n",
    "                continue\n",
    "            res = encode_and_fit(df_to_fit)\n",
    "            excluded_df.loc[f'{var}={unique_val}', excluded_var] = res.rsquared\n",
    "            \n",
    "# drop vocab size 8193, 283, 60, 26\n",
    "excluded_df = excluded_df.drop('Vocab size=26')\n",
    "excluded_df = excluded_df.drop('Vocab size=60')\n",
    "excluded_df = excluded_df.drop('Vocab size=283')\n",
    "excluded_df = excluded_df.drop('Vocab size=8193')"
   ]
  },
  {
   "cell_type": "code",
   "execution_count": null,
   "metadata": {},
   "outputs": [],
   "source": [
    "excluded_nu_df = pd.DataFrame(columns=['Entropy'] + vars)\n",
    "\n",
    "for excluded_var in ['Entropy'] + vars:\n",
    "    independent_vars = ['Entropy'] + vars.copy()\n",
    "    independent_vars.remove(excluded_var)\n",
    "    df_to_fit = orig_df[orig_df['Distribution'] == 'normal']\n",
    "    df_to_fit = df_to_fit[df_to_fit['Uni- or bigram'] == 'unigrams'][independent_vars + ['Test set average cross-entropy', 'Test set perplexity']]\n",
    "    if len(df_to_fit) <= 4:\n",
    "        continue\n",
    "    res = encode_and_fit(df_to_fit)\n",
    "    excluded_nu_df.loc[f'normal, unigrams', excluded_var] = res.rsquared\n",
    "    \n",
    "excluded_nb_df = pd.DataFrame(columns=['Entropy'] + vars)\n",
    "\n",
    "for excluded_var in ['Entropy'] + vars:\n",
    "    independent_vars = ['Entropy'] + vars.copy()\n",
    "    independent_vars.remove(excluded_var)\n",
    "    df_to_fit = orig_df[orig_df['Distribution'] == 'normal']\n",
    "    df_to_fit = df_to_fit[df_to_fit['Uni- or bigram'] == 'bigrams'][independent_vars + ['Test set average cross-entropy', 'Test set perplexity']]\n",
    "    if len(df_to_fit) <= 4:\n",
    "        continue\n",
    "    res = encode_and_fit(df_to_fit)\n",
    "    excluded_nb_df.loc[f'normal, bigrams', excluded_var] = res.rsquared\n",
    "    \n",
    "print(excluded_nu_df)\n",
    "print(excluded_nb_df)"
   ]
  },
  {
   "cell_type": "code",
   "execution_count": null,
   "metadata": {},
   "outputs": [],
   "source": [
    "excluded_df"
   ]
  },
  {
   "cell_type": "markdown",
   "metadata": {},
   "source": [
    "# Pearson and Spearman rhos"
   ]
  },
  {
   "cell_type": "code",
   "execution_count": null,
   "metadata": {},
   "outputs": [],
   "source": [
    "orig_df.corr(method='pearson')"
   ]
  },
  {
   "cell_type": "code",
   "execution_count": null,
   "metadata": {},
   "outputs": [],
   "source": [
    "orig_df.corr(method='spearman')"
   ]
  },
  {
   "cell_type": "code",
   "execution_count": null,
   "metadata": {},
   "outputs": [],
   "source": [
    "orig_df['Entropy'].describe()"
   ]
  },
  {
   "cell_type": "code",
   "execution_count": null,
   "metadata": {},
   "outputs": [],
   "source": [
    "enc = OrdinalEncoder()\n",
    "\n",
    "pearsons = []\n",
    "spearmans = []\n",
    "\n",
    "for v in orig_df['Vocab size'].unique():\n",
    "    subset = orig_df[orig_df['Vocab size'] == v].copy()\n",
    "    subset['Distribution'] = enc.fit_transform(subset[['Distribution']])\n",
    "    if v in (8193, 283, 60, 26):\n",
    "        continue\n",
    "    print(v, f'dist count = {len(subset[\"Distribution\"].unique())}')\n",
    "    pearsons.append(subset[['Entropy', 'Distribution']].corr(method='pearson').iloc[0, 1])\n",
    "    spearmans.append(subset[['Entropy', 'Distribution']].corr(method='spearman').iloc[0, 1])\n",
    "    \n",
    "print(sum(pearsons) / len(pearsons))\n",
    "print(sum(spearmans) / len(spearmans))"
   ]
  },
  {
   "cell_type": "markdown",
   "metadata": {},
   "source": [
    "# Mixed Effects"
   ]
  },
  {
   "cell_type": "code",
   "execution_count": null,
   "metadata": {},
   "outputs": [],
   "source": [
    "formula = \"Q('Test set average cross-entropy') ~ Q('Entropy') + Q('Distribution') + Q('Uni- or bigram') + Q('Vocab size') + Q('Softmax') + Q('Model type') + Q('Embedding size') - 1\""
   ]
  },
  {
   "cell_type": "code",
   "execution_count": null,
   "metadata": {},
   "outputs": [],
   "source": [
    "model = smf.mixedlm(\n",
    "    formula,\n",
    "    data=orig_df,\n",
    "    groups=orig_df['Entropy'] \n",
    ").fit()\n",
    "print(model.summary())"
   ]
  },
  {
   "cell_type": "code",
   "execution_count": null,
   "metadata": {},
   "outputs": [],
   "source": [
    "x = orig_df['Entropy']\n",
    "y = orig_df['Test set average cross-entropy']\n",
    "x = sm.add_constant(x)\n",
    "model = sm.OLS(y, x).fit()\n",
    "orig_df['Entropy residual'] = model.resid\n",
    "\n",
    "formula = \"Q('Entropy residual') ~ Q('Distribution') + Q('Uni- or bigram') + Q('Vocab size') + Q('Softmax') + Q('Model type') + Q('Embedding size') - 1\"\n",
    "\n",
    "model = smf.mixedlm(\n",
    "    formula,\n",
    "    data=orig_df,\n",
    "    groups=orig_df['Entropy']\n",
    ").fit()\n",
    "print(model.summary())"
   ]
  },
  {
   "cell_type": "markdown",
   "metadata": {},
   "source": [
    "# Paired test - effect of long-range dependencies"
   ]
  },
  {
   "cell_type": "code",
   "execution_count": null,
   "metadata": {},
   "outputs": [],
   "source": [
    "normal_bigrams = orig_df[orig_df['Uni- or bigram'] == 'bigrams']\n",
    "normal_bigrams = normal_bigrams[normal_bigrams['Distribution'] == 'normal']\n",
    "normal_bigrams = normal_bigrams.sort_values(by=['Vocab size', 'Softmax', 'Model type', 'Embedding size']).reset_index(drop=True)\n",
    "normal_bigrams = normal_bigrams[['Test set average cross-entropy', 'Entropy', 'Distribution']]\n",
    "normal_bigrams = normal_bigrams.rename(columns={'Test set average cross-entropy': 'ce', 'Entropy': 'ent', 'Distribution': 'dist'})\n",
    "normal_bigrams['pair_idx'] = normal_bigrams.index\n",
    "normal_bigrams.shape, normal_bigrams.head()"
   ]
  },
  {
   "cell_type": "code",
   "execution_count": null,
   "metadata": {},
   "outputs": [],
   "source": [
    "long_range_bigrams = orig_df[orig_df['Uni- or bigram'] == 'bigrams']\n",
    "long_range_bigrams = long_range_bigrams[long_range_bigrams['Distribution'] == 'long_range']\n",
    "long_range_bigrams = long_range_bigrams.sort_values(by=['Vocab size', 'Softmax', 'Model type', 'Embedding size']).reset_index(drop=True)\n",
    "long_range_bigrams = long_range_bigrams[['Test set average cross-entropy', 'Entropy', 'Distribution']]\n",
    "long_range_bigrams = long_range_bigrams.rename(columns={'Test set average cross-entropy': 'ce', 'Entropy': 'ent', 'Distribution': 'dist'})\n",
    "long_range_bigrams['pair_idx'] = long_range_bigrams.index\n",
    "long_range_bigrams.shape, long_range_bigrams.head()"
   ]
  },
  {
   "cell_type": "code",
   "execution_count": null,
   "metadata": {},
   "outputs": [],
   "source": [
    "paired_test_df = pd.concat([normal_bigrams, long_range_bigrams], axis=0)\n",
    "paired_test_df['deviation'] = paired_test_df['ent'] - paired_test_df['ce']\n",
    "paired_test_df['dist'] = pd.Categorical(paired_test_df['dist'], categories=['normal', 'long_range'], ordered=True)\n",
    "paired_test_df.shape, paired_test_df.head()"
   ]
  },
  {
   "cell_type": "code",
   "execution_count": null,
   "metadata": {},
   "outputs": [],
   "source": [
    "model = smf.mixedlm(\n",
    "    \"deviation ~ dist - 1\",\n",
    "    data=paired_test_df,\n",
    "    groups=paired_test_df['pair_idx']\n",
    ")\n",
    "res = model.fit()\n",
    "print(res.summary())"
   ]
  },
  {
   "cell_type": "code",
   "execution_count": null,
   "metadata": {},
   "outputs": [],
   "source": [
    "normal_bigrams['deviation'] = normal_bigrams['ent'] - normal_bigrams['ce']\n",
    "normal_bigrams.shape, normal_bigrams.head()"
   ]
  },
  {
   "cell_type": "code",
   "execution_count": null,
   "metadata": {},
   "outputs": [],
   "source": [
    "long_range_bigrams['deviation'] = long_range_bigrams['ent'] - long_range_bigrams['ce']\n",
    "long_range_bigrams.shape, long_range_bigrams.head()"
   ]
  },
  {
   "cell_type": "code",
   "execution_count": null,
   "metadata": {},
   "outputs": [],
   "source": [
    "ttest_rel(\n",
    "    normal_bigrams['deviation'],\n",
    "    long_range_bigrams['deviation']\n",
    ")"
   ]
  },
  {
   "cell_type": "markdown",
   "metadata": {},
   "source": [
    "# Heatmaps to show dists"
   ]
  },
  {
   "cell_type": "code",
   "execution_count": null,
   "metadata": {},
   "outputs": [],
   "source": [
    "fnames_100_nosoftmax = glob.glob('var_results/*_50_nosoftmax.json')\n",
    "fnames_100_softmax = glob.glob('var_results/*_50_softmax.json')\n",
    "jsons_100_nosoftmax = [\n",
    "    json.load(open(f)) for f in fnames_100_nosoftmax\n",
    "]\n",
    "jsons_100_softmax = [\n",
    "    json.load(open(f)) for f in fnames_100_softmax\n",
    "]\n",
    "\n",
    "manual = 'var_results/manual_unigrams_60_nosoftmax_manual_0.6.json'\n",
    "manual_json = json.load(open(manual))\n",
    "\n",
    "fnames = fnames_100_nosoftmax + fnames_100_softmax + [manual]\n",
    "tables = [j['table'] for j in jsons_100_nosoftmax] + [j['table'] for j in jsons_100_softmax] + [manual_json['table']]\n",
    "entropies = [j['entropy'] for j in jsons_100_nosoftmax] + [j['entropy'] for j in jsons_100_softmax] + [manual_json['entropy']]\n",
    "\n",
    "del jsons_100_nosoftmax\n",
    "del jsons_100_softmax"
   ]
  },
  {
   "cell_type": "code",
   "execution_count": null,
   "metadata": {},
   "outputs": [],
   "source": [
    "fnames[0]"
   ]
  },
  {
   "cell_type": "code",
   "execution_count": 216,
   "metadata": {},
   "outputs": [],
   "source": [
    "def plot_heatmap(fname, data, entropy):\n",
    "    save_name = fname.split('/')[-1].replace('.json', '.png')\n",
    "    title = fname.split('/')[-1].replace('.json', '').replace('_50_', ', ').replace(', nosoftmax', '').replace('_', ' ')\n",
    "    title = title[0].upper() + title[1:]\n",
    "    title += f', entropy={entropy:.4f}'\n",
    "    if 'manual' in title:\n",
    "        title = f'Manual unigrams, entropy={entropy:.4f}'\n",
    "    # plt.figure()\n",
    "    # sns.heatmap(data, cmap='coolwarm', square=True)\n",
    "    # plt.title(title)\n",
    "    # plt.savefig('heatmaps/' + save_name)\n",
    "    # plt.show()\n",
    "    # plt.close()\n",
    "    layout = go.Layout(\n",
    "        margin = go.layout.Margin(\n",
    "            l=5,\n",
    "            r=5,\n",
    "            b=20,\n",
    "            t=50,\n",
    "        )\n",
    "    )\n",
    "    if 'unigram' in title:\n",
    "        fig = px.imshow(\n",
    "            data,\n",
    "            title=title,\n",
    "            color_continuous_scale='RdBu_r',\n",
    "            width = 500,\n",
    "            height = 200\n",
    "        )\n",
    "        fig.update_yaxes(showticklabels=False)\n",
    "    else:\n",
    "        fig = px.imshow(\n",
    "            data,\n",
    "            title=title,\n",
    "            color_continuous_scale='RdBu_r',\n",
    "            width = 500,\n",
    "            height = 400\n",
    "        )\n",
    "    fig.update_traces(\n",
    "        dict(\n",
    "            showscale=False,\n",
    "            coloraxis=None\n",
    "        )\n",
    "    )\n",
    "    fig.update_layout(layout, title_x=0.5)\n",
    "    fig.show()\n",
    "    fig.write_html('heatmaps/' + save_name.replace('.png', '.html'))\n",
    "    pio.write_image(fig, 'heatmaps/' + save_name.replace('.png', '.pdf'))"
   ]
  },
  {
   "cell_type": "code",
   "execution_count": 217,
   "metadata": {},
   "outputs": [
    {
     "data": {
      "image/svg+xml": [
       "<svg class=\"main-svg\" xmlns=\"http://www.w3.org/2000/svg\" xmlns:xlink=\"http://www.w3.org/1999/xlink\" width=\"500\" height=\"400\" style=\"\" viewBox=\"0 0 500 400\"><rect x=\"0\" y=\"0\" width=\"500\" height=\"400\" style=\"fill: rgb(255, 255, 255); fill-opacity: 1;\"/><defs id=\"defs-e86e18\"><g class=\"clips\"><clipPath id=\"clipe86e18xyplot\" class=\"plotclip\"><rect width=\"329.99999999999994\" height=\"330\"/></clipPath><clipPath class=\"axesclip\" id=\"clipe86e18x\"><rect x=\"85.00000000000003\" y=\"0\" width=\"329.99999999999994\" height=\"400\"/></clipPath><clipPath class=\"axesclip\" id=\"clipe86e18y\"><rect x=\"0\" y=\"50\" width=\"500\" height=\"330\"/></clipPath><clipPath class=\"axesclip\" id=\"clipe86e18xy\"><rect x=\"85.00000000000003\" y=\"50\" width=\"329.99999999999994\" height=\"330\"/></clipPath></g><g class=\"gradients\"/><g class=\"patterns\"/></defs><g class=\"bglayer\"><rect class=\"bg\" x=\"85.00000000000003\" y=\"50\" width=\"329.99999999999994\" height=\"330\" style=\"fill: rgb(229, 236, 246); fill-opacity: 1; stroke-width: 0;\"/></g><g class=\"layer-below\"><g class=\"imagelayer\"/><g class=\"shapelayer\"/></g><g class=\"cartesianlayer\"><g class=\"subplot xy\"><g class=\"layer-subplot\"><g class=\"shapelayer\"/><g class=\"imagelayer\"/></g><g class=\"gridlayer\"><g class=\"x\"><path class=\"xgrid crisp\" transform=\"translate(154.3,0)\" d=\"M0,50v330\" style=\"stroke: rgb(255, 255, 255); stroke-opacity: 1; stroke-width: 1px;\"/><path class=\"xgrid crisp\" transform=\"translate(220.30000000000004,0)\" d=\"M0,50v330\" style=\"stroke: rgb(255, 255, 255); stroke-opacity: 1; stroke-width: 1px;\"/><path class=\"xgrid crisp\" transform=\"translate(286.30000000000007,0)\" d=\"M0,50v330\" style=\"stroke: rgb(255, 255, 255); stroke-opacity: 1; stroke-width: 1px;\"/><path class=\"xgrid crisp\" transform=\"translate(352.30000000000007,0)\" d=\"M0,50v330\" style=\"stroke: rgb(255, 255, 255); stroke-opacity: 1; stroke-width: 1px;\"/></g><g class=\"y\"><path class=\"ygrid crisp\" transform=\"translate(0,317.3)\" d=\"M85.00000000000003,0h329.99999999999994\" style=\"stroke: rgb(255, 255, 255); stroke-opacity: 1; stroke-width: 1px;\"/><path class=\"ygrid crisp\" transform=\"translate(0,251.3)\" d=\"M85.00000000000003,0h329.99999999999994\" style=\"stroke: rgb(255, 255, 255); stroke-opacity: 1; stroke-width: 1px;\"/><path class=\"ygrid crisp\" transform=\"translate(0,185.3)\" d=\"M85.00000000000003,0h329.99999999999994\" style=\"stroke: rgb(255, 255, 255); stroke-opacity: 1; stroke-width: 1px;\"/><path class=\"ygrid crisp\" transform=\"translate(0,119.3)\" d=\"M85.00000000000003,0h329.99999999999994\" style=\"stroke: rgb(255, 255, 255); stroke-opacity: 1; stroke-width: 1px;\"/></g></g><g class=\"zerolinelayer\"><path class=\"xzl zl crisp\" transform=\"translate(88.30000000000003,0)\" d=\"M0,50v330\" style=\"stroke: rgb(255, 255, 255); stroke-opacity: 1; stroke-width: 2px;\"/><path class=\"yzl zl crisp\" transform=\"translate(0,53.3)\" d=\"M85.00000000000003,0h329.99999999999994\" style=\"stroke: rgb(255, 255, 255); stroke-opacity: 1; stroke-width: 2px;\"/></g><path class=\"xlines-below\"/><path class=\"ylines-below\"/><g class=\"overlines-below\"/><g class=\"xaxislayer-below\"/><g class=\"yaxislayer-below\"/><g class=\"overaxes-below\"/><g class=\"plot\" transform=\"translate(85.00000000000003,50)\" clip-path=\"url(#clipe86e18xyplot)\"><g class=\"heatmaplayer mlayer\"><g class=\"hm\"><image xmlns=\"http://www.w3.org/2000/svg\" preserveAspectRatio=\"none\" height=\"330\" width=\"330\" x=\"0\" y=\"0\" xlink:href=\"data:image/png;base64,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\" style=\"opacity: 1;\"/></g></g></g><g class=\"overplot\"/><path class=\"xlines-above crisp\" d=\"M0,0\" style=\"fill: none;\"/><path class=\"ylines-above crisp\" d=\"M0,0\" style=\"fill: none;\"/><g class=\"overlines-above\"/><g class=\"xaxislayer-above\"><g class=\"xtick\"><text text-anchor=\"middle\" x=\"0\" y=\"393\" transform=\"translate(88.30000000000003,0)\" style=\"font-family: 'Open Sans', verdana, arial, sans-serif; font-size: 12px; fill: rgb(42, 63, 95); fill-opacity: 1; white-space: pre; opacity: 1;\">0</text></g><g class=\"xtick\"><text text-anchor=\"middle\" x=\"0\" y=\"393\" style=\"font-family: 'Open Sans', verdana, arial, sans-serif; font-size: 12px; fill: rgb(42, 63, 95); fill-opacity: 1; white-space: pre; opacity: 1;\" transform=\"translate(154.3,0)\">10</text></g><g class=\"xtick\"><text text-anchor=\"middle\" x=\"0\" y=\"393\" style=\"font-family: 'Open Sans', verdana, arial, sans-serif; font-size: 12px; fill: rgb(42, 63, 95); fill-opacity: 1; white-space: pre; opacity: 1;\" transform=\"translate(220.30000000000004,0)\">20</text></g><g class=\"xtick\"><text text-anchor=\"middle\" x=\"0\" y=\"393\" style=\"font-family: 'Open Sans', verdana, arial, sans-serif; font-size: 12px; fill: rgb(42, 63, 95); fill-opacity: 1; white-space: pre; opacity: 1;\" transform=\"translate(286.30000000000007,0)\">30</text></g><g class=\"xtick\"><text text-anchor=\"middle\" x=\"0\" y=\"393\" style=\"font-family: 'Open Sans', verdana, arial, sans-serif; font-size: 12px; fill: rgb(42, 63, 95); fill-opacity: 1; white-space: pre; opacity: 1;\" transform=\"translate(352.30000000000007,0)\">40</text></g></g><g class=\"yaxislayer-above\"><g class=\"ytick\"><text text-anchor=\"end\" x=\"84.00000000000003\" y=\"4.199999999999999\" transform=\"translate(0,317.3)\" style=\"font-family: 'Open Sans', verdana, arial, sans-serif; font-size: 12px; fill: rgb(42, 63, 95); fill-opacity: 1; white-space: pre; opacity: 1;\">40</text></g><g class=\"ytick\"><text text-anchor=\"end\" x=\"84.00000000000003\" y=\"4.199999999999999\" style=\"font-family: 'Open Sans', verdana, arial, sans-serif; font-size: 12px; fill: rgb(42, 63, 95); fill-opacity: 1; white-space: pre; opacity: 1;\" transform=\"translate(0,251.3)\">30</text></g><g class=\"ytick\"><text text-anchor=\"end\" x=\"84.00000000000003\" y=\"4.199999999999999\" style=\"font-family: 'Open Sans', verdana, arial, sans-serif; font-size: 12px; fill: rgb(42, 63, 95); fill-opacity: 1; white-space: pre; opacity: 1;\" transform=\"translate(0,185.3)\">20</text></g><g class=\"ytick\"><text text-anchor=\"end\" x=\"84.00000000000003\" y=\"4.199999999999999\" style=\"font-family: 'Open Sans', verdana, arial, sans-serif; font-size: 12px; fill: rgb(42, 63, 95); fill-opacity: 1; white-space: pre; opacity: 1;\" transform=\"translate(0,119.3)\">10</text></g><g class=\"ytick\"><text text-anchor=\"end\" x=\"84.00000000000003\" y=\"4.199999999999999\" style=\"font-family: 'Open Sans', verdana, arial, sans-serif; font-size: 12px; fill: rgb(42, 63, 95); fill-opacity: 1; white-space: pre; opacity: 1;\" transform=\"translate(0,53.3)\">0</text></g></g><g class=\"overaxes-above\"/></g></g><g class=\"polarlayer\"/><g class=\"smithlayer\"/><g class=\"ternarylayer\"/><g class=\"geolayer\"/><g class=\"funnelarealayer\"/><g class=\"pielayer\"/><g class=\"iciclelayer\"/><g class=\"treemaplayer\"/><g class=\"sunburstlayer\"/><g class=\"glimages\"/><defs id=\"topdefs-e86e18\"><g class=\"clips\"/></defs><g class=\"layer-above\"><g class=\"imagelayer\"/><g class=\"shapelayer\"/></g><g class=\"infolayer\"><g class=\"g-gtitle\"><text class=\"gtitle\" x=\"250\" y=\"25\" text-anchor=\"middle\" dy=\"0em\" style=\"font-family: 'Open Sans', verdana, arial, sans-serif; font-size: 17px; fill: rgb(42, 63, 95); opacity: 1; font-weight: normal; white-space: pre;\">Long range bigrams, entropy=5.8842</text></g><g class=\"g-xtitle\"/><g class=\"g-ytitle\"/></g></svg>"
      ]
     },
     "metadata": {},
     "output_type": "display_data"
    },
    {
     "data": {
      "image/svg+xml": [
       "<svg class=\"main-svg\" xmlns=\"http://www.w3.org/2000/svg\" xmlns:xlink=\"http://www.w3.org/1999/xlink\" width=\"500\" height=\"400\" style=\"\" viewBox=\"0 0 500 400\"><rect x=\"0\" y=\"0\" width=\"500\" height=\"400\" style=\"fill: rgb(255, 255, 255); fill-opacity: 1;\"/><defs id=\"defs-65ca67\"><g class=\"clips\"><clipPath id=\"clip65ca67xyplot\" class=\"plotclip\"><rect width=\"329.99999999999994\" height=\"330\"/></clipPath><clipPath class=\"axesclip\" id=\"clip65ca67x\"><rect x=\"85.00000000000003\" y=\"0\" width=\"329.99999999999994\" height=\"400\"/></clipPath><clipPath class=\"axesclip\" id=\"clip65ca67y\"><rect x=\"0\" y=\"50\" width=\"500\" height=\"330\"/></clipPath><clipPath class=\"axesclip\" id=\"clip65ca67xy\"><rect x=\"85.00000000000003\" y=\"50\" width=\"329.99999999999994\" height=\"330\"/></clipPath></g><g class=\"gradients\"/><g class=\"patterns\"/></defs><g class=\"bglayer\"><rect class=\"bg\" x=\"85.00000000000003\" y=\"50\" width=\"329.99999999999994\" height=\"330\" style=\"fill: rgb(229, 236, 246); fill-opacity: 1; stroke-width: 0;\"/></g><g class=\"layer-below\"><g class=\"imagelayer\"/><g class=\"shapelayer\"/></g><g class=\"cartesianlayer\"><g class=\"subplot xy\"><g class=\"layer-subplot\"><g class=\"shapelayer\"/><g class=\"imagelayer\"/></g><g class=\"gridlayer\"><g class=\"x\"><path class=\"xgrid crisp\" transform=\"translate(154.3,0)\" d=\"M0,50v330\" style=\"stroke: rgb(255, 255, 255); stroke-opacity: 1; stroke-width: 1px;\"/><path class=\"xgrid crisp\" transform=\"translate(220.30000000000004,0)\" d=\"M0,50v330\" style=\"stroke: rgb(255, 255, 255); stroke-opacity: 1; stroke-width: 1px;\"/><path class=\"xgrid crisp\" transform=\"translate(286.30000000000007,0)\" d=\"M0,50v330\" style=\"stroke: rgb(255, 255, 255); stroke-opacity: 1; stroke-width: 1px;\"/><path class=\"xgrid crisp\" transform=\"translate(352.30000000000007,0)\" d=\"M0,50v330\" style=\"stroke: rgb(255, 255, 255); stroke-opacity: 1; stroke-width: 1px;\"/></g><g class=\"y\"><path class=\"ygrid crisp\" transform=\"translate(0,317.3)\" d=\"M85.00000000000003,0h329.99999999999994\" style=\"stroke: rgb(255, 255, 255); stroke-opacity: 1; stroke-width: 1px;\"/><path class=\"ygrid crisp\" transform=\"translate(0,251.3)\" d=\"M85.00000000000003,0h329.99999999999994\" style=\"stroke: rgb(255, 255, 255); stroke-opacity: 1; stroke-width: 1px;\"/><path class=\"ygrid crisp\" transform=\"translate(0,185.3)\" d=\"M85.00000000000003,0h329.99999999999994\" style=\"stroke: rgb(255, 255, 255); stroke-opacity: 1; stroke-width: 1px;\"/><path class=\"ygrid crisp\" transform=\"translate(0,119.3)\" d=\"M85.00000000000003,0h329.99999999999994\" style=\"stroke: rgb(255, 255, 255); stroke-opacity: 1; stroke-width: 1px;\"/></g></g><g class=\"zerolinelayer\"><path class=\"xzl zl crisp\" transform=\"translate(88.30000000000003,0)\" d=\"M0,50v330\" style=\"stroke: rgb(255, 255, 255); stroke-opacity: 1; stroke-width: 2px;\"/><path class=\"yzl zl crisp\" transform=\"translate(0,53.3)\" d=\"M85.00000000000003,0h329.99999999999994\" style=\"stroke: rgb(255, 255, 255); stroke-opacity: 1; stroke-width: 2px;\"/></g><path class=\"xlines-below\"/><path class=\"ylines-below\"/><g class=\"overlines-below\"/><g class=\"xaxislayer-below\"/><g class=\"yaxislayer-below\"/><g class=\"overaxes-below\"/><g class=\"plot\" transform=\"translate(85.00000000000003,50)\" clip-path=\"url(#clip65ca67xyplot)\"><g class=\"heatmaplayer mlayer\"><g class=\"hm\"><image xmlns=\"http://www.w3.org/2000/svg\" preserveAspectRatio=\"none\" height=\"330\" width=\"330\" x=\"0\" y=\"0\" xlink:href=\"data:image/png;base64,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\" style=\"opacity: 1;\"/></g></g></g><g class=\"overplot\"/><path class=\"xlines-above crisp\" d=\"M0,0\" style=\"fill: none;\"/><path class=\"ylines-above crisp\" d=\"M0,0\" style=\"fill: none;\"/><g class=\"overlines-above\"/><g class=\"xaxislayer-above\"><g class=\"xtick\"><text text-anchor=\"middle\" x=\"0\" y=\"393\" transform=\"translate(88.30000000000003,0)\" style=\"font-family: 'Open Sans', verdana, arial, sans-serif; font-size: 12px; fill: rgb(42, 63, 95); fill-opacity: 1; white-space: pre; opacity: 1;\">0</text></g><g class=\"xtick\"><text text-anchor=\"middle\" x=\"0\" y=\"393\" style=\"font-family: 'Open Sans', verdana, arial, sans-serif; font-size: 12px; fill: rgb(42, 63, 95); fill-opacity: 1; white-space: pre; opacity: 1;\" transform=\"translate(154.3,0)\">10</text></g><g class=\"xtick\"><text text-anchor=\"middle\" x=\"0\" y=\"393\" style=\"font-family: 'Open Sans', verdana, arial, sans-serif; font-size: 12px; fill: rgb(42, 63, 95); fill-opacity: 1; white-space: pre; opacity: 1;\" transform=\"translate(220.30000000000004,0)\">20</text></g><g class=\"xtick\"><text text-anchor=\"middle\" x=\"0\" y=\"393\" style=\"font-family: 'Open Sans', verdana, arial, sans-serif; font-size: 12px; fill: rgb(42, 63, 95); fill-opacity: 1; white-space: pre; opacity: 1;\" transform=\"translate(286.30000000000007,0)\">30</text></g><g class=\"xtick\"><text text-anchor=\"middle\" x=\"0\" y=\"393\" style=\"font-family: 'Open Sans', verdana, arial, sans-serif; font-size: 12px; fill: rgb(42, 63, 95); fill-opacity: 1; white-space: pre; opacity: 1;\" transform=\"translate(352.30000000000007,0)\">40</text></g></g><g class=\"yaxislayer-above\"><g class=\"ytick\"><text text-anchor=\"end\" x=\"84.00000000000003\" y=\"4.199999999999999\" transform=\"translate(0,317.3)\" style=\"font-family: 'Open Sans', verdana, arial, sans-serif; font-size: 12px; fill: rgb(42, 63, 95); fill-opacity: 1; white-space: pre; opacity: 1;\">40</text></g><g class=\"ytick\"><text text-anchor=\"end\" x=\"84.00000000000003\" y=\"4.199999999999999\" style=\"font-family: 'Open Sans', verdana, arial, sans-serif; font-size: 12px; fill: rgb(42, 63, 95); fill-opacity: 1; white-space: pre; opacity: 1;\" transform=\"translate(0,251.3)\">30</text></g><g class=\"ytick\"><text text-anchor=\"end\" x=\"84.00000000000003\" y=\"4.199999999999999\" style=\"font-family: 'Open Sans', verdana, arial, sans-serif; font-size: 12px; fill: rgb(42, 63, 95); fill-opacity: 1; white-space: pre; opacity: 1;\" transform=\"translate(0,185.3)\">20</text></g><g class=\"ytick\"><text text-anchor=\"end\" x=\"84.00000000000003\" y=\"4.199999999999999\" style=\"font-family: 'Open Sans', verdana, arial, sans-serif; font-size: 12px; fill: rgb(42, 63, 95); fill-opacity: 1; white-space: pre; opacity: 1;\" transform=\"translate(0,119.3)\">10</text></g><g class=\"ytick\"><text text-anchor=\"end\" x=\"84.00000000000003\" y=\"4.199999999999999\" style=\"font-family: 'Open Sans', verdana, arial, sans-serif; font-size: 12px; fill: rgb(42, 63, 95); fill-opacity: 1; white-space: pre; opacity: 1;\" transform=\"translate(0,53.3)\">0</text></g></g><g class=\"overaxes-above\"/></g></g><g class=\"polarlayer\"/><g class=\"smithlayer\"/><g class=\"ternarylayer\"/><g class=\"geolayer\"/><g class=\"funnelarealayer\"/><g class=\"pielayer\"/><g class=\"iciclelayer\"/><g class=\"treemaplayer\"/><g class=\"sunburstlayer\"/><g class=\"glimages\"/><defs id=\"topdefs-65ca67\"><g class=\"clips\"/></defs><g class=\"layer-above\"><g class=\"imagelayer\"/><g class=\"shapelayer\"/></g><g class=\"infolayer\"><g class=\"g-gtitle\"><text class=\"gtitle\" x=\"250\" y=\"25\" text-anchor=\"middle\" dy=\"0em\" style=\"font-family: 'Open Sans', verdana, arial, sans-serif; font-size: 17px; fill: rgb(42, 63, 95); opacity: 1; font-weight: normal; white-space: pre;\">Normal bigrams, entropy=7.7892</text></g><g class=\"g-xtitle\"/><g class=\"g-ytitle\"/></g></svg>"
      ]
     },
     "metadata": {},
     "output_type": "display_data"
    },
    {
     "data": {
      "image/svg+xml": [
       "<svg class=\"main-svg\" xmlns=\"http://www.w3.org/2000/svg\" xmlns:xlink=\"http://www.w3.org/1999/xlink\" width=\"500\" height=\"200\" style=\"\" viewBox=\"0 0 500 200\"><rect x=\"0\" y=\"0\" width=\"500\" height=\"200\" style=\"fill: rgb(255, 255, 255); fill-opacity: 1;\"/><defs id=\"defs-46f016\"><g class=\"clips\"><clipPath id=\"clip46f016xyplot\" class=\"plotclip\"><rect width=\"490\" height=\"9.8\"/></clipPath><clipPath class=\"axesclip\" id=\"clip46f016x\"><rect x=\"5\" y=\"0\" width=\"490\" height=\"200\"/></clipPath><clipPath class=\"axesclip\" id=\"clip46f016y\"><rect x=\"0\" y=\"110.1\" width=\"500\" height=\"9.8\"/></clipPath><clipPath class=\"axesclip\" id=\"clip46f016xy\"><rect x=\"5\" y=\"110.1\" width=\"490\" height=\"9.8\"/></clipPath></g><g class=\"gradients\"/><g class=\"patterns\"/></defs><g class=\"bglayer\"><rect class=\"bg\" x=\"5\" y=\"110.1\" width=\"490\" height=\"9.8\" style=\"fill: rgb(229, 236, 246); fill-opacity: 1; stroke-width: 0;\"/></g><g class=\"layer-below\"><g class=\"imagelayer\"/><g class=\"shapelayer\"/></g><g class=\"cartesianlayer\"><g class=\"subplot xy\"><g class=\"layer-subplot\"><g class=\"shapelayer\"/><g class=\"imagelayer\"/></g><g class=\"gridlayer\"><g class=\"x\"><path class=\"xgrid crisp\" transform=\"translate(107.9,0)\" d=\"M0,110.1v9.8\" style=\"stroke: rgb(255, 255, 255); stroke-opacity: 1; stroke-width: 1px;\"/><path class=\"xgrid crisp\" transform=\"translate(205.9,0)\" d=\"M0,110.1v9.8\" style=\"stroke: rgb(255, 255, 255); stroke-opacity: 1; stroke-width: 1px;\"/><path class=\"xgrid crisp\" transform=\"translate(303.9,0)\" d=\"M0,110.1v9.8\" style=\"stroke: rgb(255, 255, 255); stroke-opacity: 1; stroke-width: 1px;\"/><path class=\"xgrid crisp\" transform=\"translate(401.9,0)\" d=\"M0,110.1v9.8\" style=\"stroke: rgb(255, 255, 255); stroke-opacity: 1; stroke-width: 1px;\"/></g><g class=\"y\"/></g><g class=\"zerolinelayer\"><path class=\"xzl zl crisp\" transform=\"translate(9.9,0)\" d=\"M0,110.1v9.8\" style=\"stroke: rgb(255, 255, 255); stroke-opacity: 1; stroke-width: 2px;\"/><path class=\"yzl zl crisp\" transform=\"translate(0,115)\" d=\"M5,0h490\" style=\"stroke: rgb(255, 255, 255); stroke-opacity: 1; stroke-width: 2px;\"/></g><path class=\"xlines-below\"/><path class=\"ylines-below\"/><g class=\"overlines-below\"/><g class=\"xaxislayer-below\"/><g class=\"yaxislayer-below\"/><g class=\"overaxes-below\"/><g class=\"plot\" transform=\"translate(5,110.1)\" clip-path=\"url(#clip46f016xyplot)\"><g class=\"heatmaplayer mlayer\"><g class=\"hm\"><image xmlns=\"http://www.w3.org/2000/svg\" preserveAspectRatio=\"none\" height=\"10\" width=\"490\" x=\"0\" y=\"0\" xlink:href=\"data:image/png;base64,iVBORw0KGgoAAAANSUhEUgAAAeoAAAAKCAYAAAB7Xh0MAAAAjklEQVR4Xu3VQQ0AIBADQVCHJjQiChJU7GNOQTO9pPOsfYcjQIAAAQIEkgLTUCd7EYoAAQIECHwBQ+0RCBAgQIBAWMBQh8sRjQABAgQIGGo/QIAAAQIEwgKGOlyOaAQIECBAwFD7AQIECBAgEBYw1OFyRCNAgAABAobaDxAgQIAAgbCAoQ6XIxoBAgQIEHinwBlvFYHPoAAAAABJRU5ErkJggg==\" style=\"opacity: 1;\"/></g></g></g><g class=\"overplot\"/><path class=\"xlines-above crisp\" d=\"M0,0\" style=\"fill: none;\"/><path class=\"ylines-above crisp\" d=\"M0,0\" style=\"fill: none;\"/><g class=\"overlines-above\"/><g class=\"xaxislayer-above\"><g class=\"xtick\"><text text-anchor=\"middle\" x=\"0\" y=\"132.89999999999998\" transform=\"translate(9.9,0)\" style=\"font-family: 'Open Sans', verdana, arial, sans-serif; font-size: 12px; fill: rgb(42, 63, 95); fill-opacity: 1; white-space: pre; opacity: 1;\">0</text></g><g class=\"xtick\"><text text-anchor=\"middle\" x=\"0\" y=\"132.89999999999998\" style=\"font-family: 'Open Sans', verdana, arial, sans-serif; font-size: 12px; fill: rgb(42, 63, 95); fill-opacity: 1; white-space: pre; opacity: 1;\" transform=\"translate(107.9,0)\">10</text></g><g class=\"xtick\"><text text-anchor=\"middle\" x=\"0\" y=\"132.89999999999998\" style=\"font-family: 'Open Sans', verdana, arial, sans-serif; font-size: 12px; fill: rgb(42, 63, 95); fill-opacity: 1; white-space: pre; opacity: 1;\" transform=\"translate(205.9,0)\">20</text></g><g class=\"xtick\"><text text-anchor=\"middle\" x=\"0\" y=\"132.89999999999998\" style=\"font-family: 'Open Sans', verdana, arial, sans-serif; font-size: 12px; fill: rgb(42, 63, 95); fill-opacity: 1; white-space: pre; opacity: 1;\" transform=\"translate(303.9,0)\">30</text></g><g class=\"xtick\"><text text-anchor=\"middle\" x=\"0\" y=\"132.89999999999998\" style=\"font-family: 'Open Sans', verdana, arial, sans-serif; font-size: 12px; fill: rgb(42, 63, 95); fill-opacity: 1; white-space: pre; opacity: 1;\" transform=\"translate(401.9,0)\">40</text></g></g><g class=\"yaxislayer-above\"/><g class=\"overaxes-above\"/></g></g><g class=\"polarlayer\"/><g class=\"smithlayer\"/><g class=\"ternarylayer\"/><g class=\"geolayer\"/><g class=\"funnelarealayer\"/><g class=\"pielayer\"/><g class=\"iciclelayer\"/><g class=\"treemaplayer\"/><g class=\"sunburstlayer\"/><g class=\"glimages\"/><defs id=\"topdefs-46f016\"><g class=\"clips\"/></defs><g class=\"layer-above\"><g class=\"imagelayer\"/><g class=\"shapelayer\"/></g><g class=\"infolayer\"><g class=\"g-gtitle\"><text class=\"gtitle\" x=\"250\" y=\"25\" text-anchor=\"middle\" dy=\"0em\" style=\"font-family: 'Open Sans', verdana, arial, sans-serif; font-size: 17px; fill: rgb(42, 63, 95); opacity: 1; font-weight: normal; white-space: pre;\">Uniform unigrams, entropy=3.9120</text></g><g class=\"g-xtitle\"/><g class=\"g-ytitle\"/></g></svg>"
      ]
     },
     "metadata": {},
     "output_type": "display_data"
    },
    {
     "data": {
      "image/svg+xml": [
       "<svg class=\"main-svg\" xmlns=\"http://www.w3.org/2000/svg\" xmlns:xlink=\"http://www.w3.org/1999/xlink\" width=\"500\" height=\"400\" style=\"\" viewBox=\"0 0 500 400\"><rect x=\"0\" y=\"0\" width=\"500\" height=\"400\" style=\"fill: rgb(255, 255, 255); fill-opacity: 1;\"/><defs id=\"defs-6ade21\"><g class=\"clips\"><clipPath id=\"clip6ade21xyplot\" class=\"plotclip\"><rect width=\"329.99999999999994\" height=\"330\"/></clipPath><clipPath class=\"axesclip\" id=\"clip6ade21x\"><rect x=\"85.00000000000003\" y=\"0\" width=\"329.99999999999994\" height=\"400\"/></clipPath><clipPath class=\"axesclip\" id=\"clip6ade21y\"><rect x=\"0\" y=\"50\" width=\"500\" height=\"330\"/></clipPath><clipPath class=\"axesclip\" id=\"clip6ade21xy\"><rect x=\"85.00000000000003\" y=\"50\" width=\"329.99999999999994\" height=\"330\"/></clipPath></g><g class=\"gradients\"/><g class=\"patterns\"/></defs><g class=\"bglayer\"><rect class=\"bg\" x=\"85.00000000000003\" y=\"50\" width=\"329.99999999999994\" height=\"330\" style=\"fill: rgb(229, 236, 246); fill-opacity: 1; stroke-width: 0;\"/></g><g class=\"layer-below\"><g class=\"imagelayer\"/><g class=\"shapelayer\"/></g><g class=\"cartesianlayer\"><g class=\"subplot xy\"><g class=\"layer-subplot\"><g class=\"shapelayer\"/><g class=\"imagelayer\"/></g><g class=\"gridlayer\"><g class=\"x\"><path class=\"xgrid crisp\" transform=\"translate(154.3,0)\" d=\"M0,50v330\" style=\"stroke: rgb(255, 255, 255); stroke-opacity: 1; stroke-width: 1px;\"/><path class=\"xgrid crisp\" transform=\"translate(220.30000000000004,0)\" d=\"M0,50v330\" style=\"stroke: rgb(255, 255, 255); stroke-opacity: 1; stroke-width: 1px;\"/><path class=\"xgrid crisp\" transform=\"translate(286.30000000000007,0)\" d=\"M0,50v330\" style=\"stroke: rgb(255, 255, 255); stroke-opacity: 1; stroke-width: 1px;\"/><path class=\"xgrid crisp\" transform=\"translate(352.30000000000007,0)\" d=\"M0,50v330\" style=\"stroke: rgb(255, 255, 255); stroke-opacity: 1; stroke-width: 1px;\"/></g><g class=\"y\"><path class=\"ygrid crisp\" transform=\"translate(0,317.3)\" d=\"M85.00000000000003,0h329.99999999999994\" style=\"stroke: rgb(255, 255, 255); stroke-opacity: 1; stroke-width: 1px;\"/><path class=\"ygrid crisp\" transform=\"translate(0,251.3)\" d=\"M85.00000000000003,0h329.99999999999994\" style=\"stroke: rgb(255, 255, 255); stroke-opacity: 1; stroke-width: 1px;\"/><path class=\"ygrid crisp\" transform=\"translate(0,185.3)\" d=\"M85.00000000000003,0h329.99999999999994\" style=\"stroke: rgb(255, 255, 255); stroke-opacity: 1; stroke-width: 1px;\"/><path class=\"ygrid crisp\" transform=\"translate(0,119.3)\" d=\"M85.00000000000003,0h329.99999999999994\" style=\"stroke: rgb(255, 255, 255); stroke-opacity: 1; stroke-width: 1px;\"/></g></g><g class=\"zerolinelayer\"><path class=\"xzl zl crisp\" transform=\"translate(88.30000000000003,0)\" d=\"M0,50v330\" style=\"stroke: rgb(255, 255, 255); stroke-opacity: 1; stroke-width: 2px;\"/><path class=\"yzl zl crisp\" transform=\"translate(0,53.3)\" d=\"M85.00000000000003,0h329.99999999999994\" style=\"stroke: rgb(255, 255, 255); stroke-opacity: 1; stroke-width: 2px;\"/></g><path class=\"xlines-below\"/><path class=\"ylines-below\"/><g class=\"overlines-below\"/><g class=\"xaxislayer-below\"/><g class=\"yaxislayer-below\"/><g class=\"overaxes-below\"/><g class=\"plot\" transform=\"translate(85.00000000000003,50)\" clip-path=\"url(#clip6ade21xyplot)\"><g class=\"heatmaplayer mlayer\"><g class=\"hm\"><image xmlns=\"http://www.w3.org/2000/svg\" preserveAspectRatio=\"none\" height=\"330\" width=\"330\" x=\"0\" y=\"0\" xlink:href=\"data:image/png;base64,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\" style=\"opacity: 1;\"/></g></g></g><g class=\"overplot\"/><path class=\"xlines-above crisp\" d=\"M0,0\" style=\"fill: none;\"/><path class=\"ylines-above crisp\" d=\"M0,0\" style=\"fill: none;\"/><g class=\"overlines-above\"/><g class=\"xaxislayer-above\"><g class=\"xtick\"><text text-anchor=\"middle\" x=\"0\" y=\"393\" transform=\"translate(88.30000000000003,0)\" style=\"font-family: 'Open Sans', verdana, arial, sans-serif; font-size: 12px; fill: rgb(42, 63, 95); fill-opacity: 1; white-space: pre; opacity: 1;\">0</text></g><g class=\"xtick\"><text text-anchor=\"middle\" x=\"0\" y=\"393\" style=\"font-family: 'Open Sans', verdana, arial, sans-serif; font-size: 12px; fill: rgb(42, 63, 95); fill-opacity: 1; white-space: pre; opacity: 1;\" transform=\"translate(154.3,0)\">10</text></g><g class=\"xtick\"><text text-anchor=\"middle\" x=\"0\" y=\"393\" style=\"font-family: 'Open Sans', verdana, arial, sans-serif; font-size: 12px; fill: rgb(42, 63, 95); fill-opacity: 1; white-space: pre; opacity: 1;\" transform=\"translate(220.30000000000004,0)\">20</text></g><g class=\"xtick\"><text text-anchor=\"middle\" x=\"0\" y=\"393\" style=\"font-family: 'Open Sans', verdana, arial, sans-serif; font-size: 12px; fill: rgb(42, 63, 95); fill-opacity: 1; white-space: pre; opacity: 1;\" transform=\"translate(286.30000000000007,0)\">30</text></g><g class=\"xtick\"><text text-anchor=\"middle\" x=\"0\" y=\"393\" style=\"font-family: 'Open Sans', verdana, arial, sans-serif; font-size: 12px; fill: rgb(42, 63, 95); fill-opacity: 1; white-space: pre; opacity: 1;\" transform=\"translate(352.30000000000007,0)\">40</text></g></g><g class=\"yaxislayer-above\"><g class=\"ytick\"><text text-anchor=\"end\" x=\"84.00000000000003\" y=\"4.199999999999999\" transform=\"translate(0,317.3)\" style=\"font-family: 'Open Sans', verdana, arial, sans-serif; font-size: 12px; fill: rgb(42, 63, 95); fill-opacity: 1; white-space: pre; opacity: 1;\">40</text></g><g class=\"ytick\"><text text-anchor=\"end\" x=\"84.00000000000003\" y=\"4.199999999999999\" style=\"font-family: 'Open Sans', verdana, arial, sans-serif; font-size: 12px; fill: rgb(42, 63, 95); fill-opacity: 1; white-space: pre; opacity: 1;\" transform=\"translate(0,251.3)\">30</text></g><g class=\"ytick\"><text text-anchor=\"end\" x=\"84.00000000000003\" y=\"4.199999999999999\" style=\"font-family: 'Open Sans', verdana, arial, sans-serif; font-size: 12px; fill: rgb(42, 63, 95); fill-opacity: 1; white-space: pre; opacity: 1;\" transform=\"translate(0,185.3)\">20</text></g><g class=\"ytick\"><text text-anchor=\"end\" x=\"84.00000000000003\" y=\"4.199999999999999\" style=\"font-family: 'Open Sans', verdana, arial, sans-serif; font-size: 12px; fill: rgb(42, 63, 95); fill-opacity: 1; white-space: pre; opacity: 1;\" transform=\"translate(0,119.3)\">10</text></g><g class=\"ytick\"><text text-anchor=\"end\" x=\"84.00000000000003\" y=\"4.199999999999999\" style=\"font-family: 'Open Sans', verdana, arial, sans-serif; font-size: 12px; fill: rgb(42, 63, 95); fill-opacity: 1; white-space: pre; opacity: 1;\" transform=\"translate(0,53.3)\">0</text></g></g><g class=\"overaxes-above\"/></g></g><g class=\"polarlayer\"/><g class=\"smithlayer\"/><g class=\"ternarylayer\"/><g class=\"geolayer\"/><g class=\"funnelarealayer\"/><g class=\"pielayer\"/><g class=\"iciclelayer\"/><g class=\"treemaplayer\"/><g class=\"sunburstlayer\"/><g class=\"glimages\"/><defs id=\"topdefs-6ade21\"><g class=\"clips\"/></defs><g class=\"layer-above\"><g class=\"imagelayer\"/><g class=\"shapelayer\"/></g><g class=\"infolayer\"><g class=\"g-gtitle\"><text class=\"gtitle\" x=\"250\" y=\"25\" text-anchor=\"middle\" dy=\"0em\" style=\"font-family: 'Open Sans', verdana, arial, sans-serif; font-size: 17px; fill: rgb(42, 63, 95); opacity: 1; font-weight: normal; white-space: pre;\">Uneven bigrams, entropy=7.7275</text></g><g class=\"g-xtitle\"/><g class=\"g-ytitle\"/></g></svg>"
      ]
     },
     "metadata": {},
     "output_type": "display_data"
    },
    {
     "data": {
      "image/svg+xml": [
       "<svg class=\"main-svg\" xmlns=\"http://www.w3.org/2000/svg\" xmlns:xlink=\"http://www.w3.org/1999/xlink\" width=\"500\" height=\"200\" style=\"\" viewBox=\"0 0 500 200\"><rect x=\"0\" y=\"0\" width=\"500\" height=\"200\" style=\"fill: rgb(255, 255, 255); fill-opacity: 1;\"/><defs id=\"defs-fc4c77\"><g class=\"clips\"><clipPath id=\"clipfc4c77xyplot\" class=\"plotclip\"><rect width=\"490\" height=\"9.8\"/></clipPath><clipPath class=\"axesclip\" id=\"clipfc4c77x\"><rect x=\"5\" y=\"0\" width=\"490\" height=\"200\"/></clipPath><clipPath class=\"axesclip\" id=\"clipfc4c77y\"><rect x=\"0\" y=\"110.1\" width=\"500\" height=\"9.8\"/></clipPath><clipPath class=\"axesclip\" id=\"clipfc4c77xy\"><rect x=\"5\" y=\"110.1\" width=\"490\" height=\"9.8\"/></clipPath></g><g class=\"gradients\"/><g class=\"patterns\"/></defs><g class=\"bglayer\"><rect class=\"bg\" x=\"5\" y=\"110.1\" width=\"490\" height=\"9.8\" style=\"fill: rgb(229, 236, 246); fill-opacity: 1; stroke-width: 0;\"/></g><g class=\"layer-below\"><g class=\"imagelayer\"/><g class=\"shapelayer\"/></g><g class=\"cartesianlayer\"><g class=\"subplot xy\"><g class=\"layer-subplot\"><g class=\"shapelayer\"/><g class=\"imagelayer\"/></g><g class=\"gridlayer\"><g class=\"x\"><path class=\"xgrid crisp\" transform=\"translate(107.9,0)\" d=\"M0,110.1v9.8\" style=\"stroke: rgb(255, 255, 255); stroke-opacity: 1; stroke-width: 1px;\"/><path class=\"xgrid crisp\" transform=\"translate(205.9,0)\" d=\"M0,110.1v9.8\" style=\"stroke: rgb(255, 255, 255); stroke-opacity: 1; stroke-width: 1px;\"/><path class=\"xgrid crisp\" transform=\"translate(303.9,0)\" d=\"M0,110.1v9.8\" style=\"stroke: rgb(255, 255, 255); stroke-opacity: 1; stroke-width: 1px;\"/><path class=\"xgrid crisp\" transform=\"translate(401.9,0)\" d=\"M0,110.1v9.8\" style=\"stroke: rgb(255, 255, 255); stroke-opacity: 1; stroke-width: 1px;\"/></g><g class=\"y\"/></g><g class=\"zerolinelayer\"><path class=\"xzl zl crisp\" transform=\"translate(9.9,0)\" d=\"M0,110.1v9.8\" style=\"stroke: rgb(255, 255, 255); stroke-opacity: 1; stroke-width: 2px;\"/><path class=\"yzl zl crisp\" transform=\"translate(0,115)\" d=\"M5,0h490\" style=\"stroke: rgb(255, 255, 255); stroke-opacity: 1; stroke-width: 2px;\"/></g><path class=\"xlines-below\"/><path class=\"ylines-below\"/><g class=\"overlines-below\"/><g class=\"xaxislayer-below\"/><g class=\"yaxislayer-below\"/><g class=\"overaxes-below\"/><g class=\"plot\" transform=\"translate(5,110.1)\" clip-path=\"url(#clipfc4c77xyplot)\"><g class=\"heatmaplayer mlayer\"><g class=\"hm\"><image xmlns=\"http://www.w3.org/2000/svg\" preserveAspectRatio=\"none\" height=\"10\" width=\"490\" x=\"0\" y=\"0\" xlink:href=\"data:image/png;base64,iVBORw0KGgoAAAANSUhEUgAAAeoAAAAKCAYAAAB7Xh0MAAACOElEQVR4Xu2azyuDcRzHn0Uiyfwqy8VBLkouW9ywIqVcKH8BztxQw4XLuKCkdpk4GCml5NdFlCJcOGnlam00aeZXX7fHd/V+txzfu+7Vt/XZ+3lez+fzeTxlxbPfDvFpzdYSlOO0FRZBbvRlEjIGiPpCFDeysEJxl9FOivNPb0EutdsEGQMEw0GKiw3eUFz9wAXFJU8bIJdJl0DGACXeV4qLLPZR3PpbmuIi3Q+Qq/QlIGOAs0M/xXUNHlHc1Fw/xdWVfkBuLfMMGQM0f5ZT3BdFOU5HNf5t5qiDpwJ4YqjvCjIGSCW8FFdRk6S47T3ufx3fmIfnpW/rIGOA6/0AxcXj3D2zveecOm8mgu8l4YlN6qzP90KKKyjO/it3d9wCz7u4bISMAVoD9xTXe1JFcY/LOxQ3MDQEudgq56SlsWF4lgE8ErVdJ4naXROJ2s6IRO2uiURtZ0SitmsiUbtrIlHneE5RR+0uijpqOyTqqO2aqKN210QdtZ0RtvOWqCVqOEKQqCVqFBKJWqJGGZGoJWqUEY2+c1RIO2q7KNpRu2uiHbWdEe2o3TXRjjp/AaujdtdOopao0cPc7/cStUSNgiJRS9QoI6yAWU6jb42+UeYcjb41+kYh0ehbo2+UEY2+8++8JWqJGl1fEvWfCullMjsyErVEjW4kErVEjTKi0bdG3ygjGn3nqJB21NpRowtHO+r8BazRt3bU6Ppy9DKZXSLtqLWjRheOdtTaUaOMsAJmOY2+8xt9/wCb7fqzLUusnQAAAABJRU5ErkJggg==\" style=\"opacity: 1;\"/></g></g></g><g class=\"overplot\"/><path class=\"xlines-above crisp\" d=\"M0,0\" style=\"fill: none;\"/><path class=\"ylines-above crisp\" d=\"M0,0\" style=\"fill: none;\"/><g class=\"overlines-above\"/><g class=\"xaxislayer-above\"><g class=\"xtick\"><text text-anchor=\"middle\" x=\"0\" y=\"132.89999999999998\" transform=\"translate(9.9,0)\" style=\"font-family: 'Open Sans', verdana, arial, sans-serif; font-size: 12px; fill: rgb(42, 63, 95); fill-opacity: 1; white-space: pre; opacity: 1;\">0</text></g><g class=\"xtick\"><text text-anchor=\"middle\" x=\"0\" y=\"132.89999999999998\" style=\"font-family: 'Open Sans', verdana, arial, sans-serif; font-size: 12px; fill: rgb(42, 63, 95); fill-opacity: 1; white-space: pre; opacity: 1;\" transform=\"translate(107.9,0)\">10</text></g><g class=\"xtick\"><text text-anchor=\"middle\" x=\"0\" y=\"132.89999999999998\" style=\"font-family: 'Open Sans', verdana, arial, sans-serif; font-size: 12px; fill: rgb(42, 63, 95); fill-opacity: 1; white-space: pre; opacity: 1;\" transform=\"translate(205.9,0)\">20</text></g><g class=\"xtick\"><text text-anchor=\"middle\" x=\"0\" y=\"132.89999999999998\" style=\"font-family: 'Open Sans', verdana, arial, sans-serif; font-size: 12px; fill: rgb(42, 63, 95); fill-opacity: 1; white-space: pre; opacity: 1;\" transform=\"translate(303.9,0)\">30</text></g><g class=\"xtick\"><text text-anchor=\"middle\" x=\"0\" y=\"132.89999999999998\" style=\"font-family: 'Open Sans', verdana, arial, sans-serif; font-size: 12px; fill: rgb(42, 63, 95); fill-opacity: 1; white-space: pre; opacity: 1;\" transform=\"translate(401.9,0)\">40</text></g></g><g class=\"yaxislayer-above\"/><g class=\"overaxes-above\"/></g></g><g class=\"polarlayer\"/><g class=\"smithlayer\"/><g class=\"ternarylayer\"/><g class=\"geolayer\"/><g class=\"funnelarealayer\"/><g class=\"pielayer\"/><g class=\"iciclelayer\"/><g class=\"treemaplayer\"/><g class=\"sunburstlayer\"/><g class=\"glimages\"/><defs id=\"topdefs-fc4c77\"><g class=\"clips\"/></defs><g class=\"layer-above\"><g class=\"imagelayer\"/><g class=\"shapelayer\"/></g><g class=\"infolayer\"><g class=\"g-gtitle\"><text class=\"gtitle\" x=\"250\" y=\"25\" text-anchor=\"middle\" dy=\"0em\" style=\"font-family: 'Open Sans', verdana, arial, sans-serif; font-size: 17px; fill: rgb(42, 63, 95); opacity: 1; font-weight: normal; white-space: pre;\">Normal unigrams, entropy=3.7621</text></g><g class=\"g-xtitle\"/><g class=\"g-ytitle\"/></g></svg>"
      ]
     },
     "metadata": {},
     "output_type": "display_data"
    },
    {
     "data": {
      "image/svg+xml": [
       "<svg class=\"main-svg\" xmlns=\"http://www.w3.org/2000/svg\" xmlns:xlink=\"http://www.w3.org/1999/xlink\" width=\"500\" height=\"400\" style=\"\" viewBox=\"0 0 500 400\"><rect x=\"0\" y=\"0\" width=\"500\" height=\"400\" style=\"fill: rgb(255, 255, 255); fill-opacity: 1;\"/><defs id=\"defs-c20f7e\"><g class=\"clips\"><clipPath id=\"clipc20f7exyplot\" class=\"plotclip\"><rect width=\"329.99999999999994\" height=\"330\"/></clipPath><clipPath class=\"axesclip\" id=\"clipc20f7ex\"><rect x=\"85.00000000000003\" y=\"0\" width=\"329.99999999999994\" height=\"400\"/></clipPath><clipPath class=\"axesclip\" id=\"clipc20f7ey\"><rect x=\"0\" y=\"50\" width=\"500\" height=\"330\"/></clipPath><clipPath class=\"axesclip\" id=\"clipc20f7exy\"><rect x=\"85.00000000000003\" y=\"50\" width=\"329.99999999999994\" height=\"330\"/></clipPath></g><g class=\"gradients\"/><g class=\"patterns\"/></defs><g class=\"bglayer\"><rect class=\"bg\" x=\"85.00000000000003\" y=\"50\" width=\"329.99999999999994\" height=\"330\" style=\"fill: rgb(229, 236, 246); fill-opacity: 1; stroke-width: 0;\"/></g><g class=\"layer-below\"><g class=\"imagelayer\"/><g class=\"shapelayer\"/></g><g class=\"cartesianlayer\"><g class=\"subplot xy\"><g class=\"layer-subplot\"><g class=\"shapelayer\"/><g class=\"imagelayer\"/></g><g class=\"gridlayer\"><g class=\"x\"><path class=\"xgrid crisp\" transform=\"translate(154.3,0)\" d=\"M0,50v330\" style=\"stroke: rgb(255, 255, 255); stroke-opacity: 1; stroke-width: 1px;\"/><path class=\"xgrid crisp\" transform=\"translate(220.30000000000004,0)\" d=\"M0,50v330\" style=\"stroke: rgb(255, 255, 255); stroke-opacity: 1; stroke-width: 1px;\"/><path class=\"xgrid crisp\" transform=\"translate(286.30000000000007,0)\" d=\"M0,50v330\" style=\"stroke: rgb(255, 255, 255); stroke-opacity: 1; stroke-width: 1px;\"/><path class=\"xgrid crisp\" transform=\"translate(352.30000000000007,0)\" d=\"M0,50v330\" style=\"stroke: rgb(255, 255, 255); stroke-opacity: 1; stroke-width: 1px;\"/></g><g class=\"y\"><path class=\"ygrid crisp\" transform=\"translate(0,317.3)\" d=\"M85.00000000000003,0h329.99999999999994\" style=\"stroke: rgb(255, 255, 255); stroke-opacity: 1; stroke-width: 1px;\"/><path class=\"ygrid crisp\" transform=\"translate(0,251.3)\" d=\"M85.00000000000003,0h329.99999999999994\" style=\"stroke: rgb(255, 255, 255); stroke-opacity: 1; stroke-width: 1px;\"/><path class=\"ygrid crisp\" transform=\"translate(0,185.3)\" d=\"M85.00000000000003,0h329.99999999999994\" style=\"stroke: rgb(255, 255, 255); stroke-opacity: 1; stroke-width: 1px;\"/><path class=\"ygrid crisp\" transform=\"translate(0,119.3)\" d=\"M85.00000000000003,0h329.99999999999994\" style=\"stroke: rgb(255, 255, 255); stroke-opacity: 1; stroke-width: 1px;\"/></g></g><g class=\"zerolinelayer\"><path class=\"xzl zl crisp\" transform=\"translate(88.30000000000003,0)\" d=\"M0,50v330\" style=\"stroke: rgb(255, 255, 255); stroke-opacity: 1; stroke-width: 2px;\"/><path class=\"yzl zl crisp\" transform=\"translate(0,53.3)\" d=\"M85.00000000000003,0h329.99999999999994\" style=\"stroke: rgb(255, 255, 255); stroke-opacity: 1; stroke-width: 2px;\"/></g><path class=\"xlines-below\"/><path class=\"ylines-below\"/><g class=\"overlines-below\"/><g class=\"xaxislayer-below\"/><g class=\"yaxislayer-below\"/><g class=\"overaxes-below\"/><g class=\"plot\" transform=\"translate(85.00000000000003,50)\" clip-path=\"url(#clipc20f7exyplot)\"><g class=\"heatmaplayer mlayer\"><g class=\"hm\"><image xmlns=\"http://www.w3.org/2000/svg\" preserveAspectRatio=\"none\" height=\"330\" width=\"330\" x=\"0\" y=\"0\" xlink:href=\"data:image/png;base64,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\" style=\"opacity: 1;\"/></g></g></g><g class=\"overplot\"/><path class=\"xlines-above crisp\" d=\"M0,0\" style=\"fill: none;\"/><path class=\"ylines-above crisp\" d=\"M0,0\" style=\"fill: none;\"/><g class=\"overlines-above\"/><g class=\"xaxislayer-above\"><g class=\"xtick\"><text text-anchor=\"middle\" x=\"0\" y=\"393\" transform=\"translate(88.30000000000003,0)\" style=\"font-family: 'Open Sans', verdana, arial, sans-serif; font-size: 12px; fill: rgb(42, 63, 95); fill-opacity: 1; white-space: pre; opacity: 1;\">0</text></g><g class=\"xtick\"><text text-anchor=\"middle\" x=\"0\" y=\"393\" style=\"font-family: 'Open Sans', verdana, arial, sans-serif; font-size: 12px; fill: rgb(42, 63, 95); fill-opacity: 1; white-space: pre; opacity: 1;\" transform=\"translate(154.3,0)\">10</text></g><g class=\"xtick\"><text text-anchor=\"middle\" x=\"0\" y=\"393\" style=\"font-family: 'Open Sans', verdana, arial, sans-serif; font-size: 12px; fill: rgb(42, 63, 95); fill-opacity: 1; white-space: pre; opacity: 1;\" transform=\"translate(220.30000000000004,0)\">20</text></g><g class=\"xtick\"><text text-anchor=\"middle\" x=\"0\" y=\"393\" style=\"font-family: 'Open Sans', verdana, arial, sans-serif; font-size: 12px; fill: rgb(42, 63, 95); fill-opacity: 1; white-space: pre; opacity: 1;\" transform=\"translate(286.30000000000007,0)\">30</text></g><g class=\"xtick\"><text text-anchor=\"middle\" x=\"0\" y=\"393\" style=\"font-family: 'Open Sans', verdana, arial, sans-serif; font-size: 12px; fill: rgb(42, 63, 95); fill-opacity: 1; white-space: pre; opacity: 1;\" transform=\"translate(352.30000000000007,0)\">40</text></g></g><g class=\"yaxislayer-above\"><g class=\"ytick\"><text text-anchor=\"end\" x=\"84.00000000000003\" y=\"4.199999999999999\" transform=\"translate(0,317.3)\" style=\"font-family: 'Open Sans', verdana, arial, sans-serif; font-size: 12px; fill: rgb(42, 63, 95); fill-opacity: 1; white-space: pre; opacity: 1;\">40</text></g><g class=\"ytick\"><text text-anchor=\"end\" x=\"84.00000000000003\" y=\"4.199999999999999\" style=\"font-family: 'Open Sans', verdana, arial, sans-serif; font-size: 12px; fill: rgb(42, 63, 95); fill-opacity: 1; white-space: pre; opacity: 1;\" transform=\"translate(0,251.3)\">30</text></g><g class=\"ytick\"><text text-anchor=\"end\" x=\"84.00000000000003\" y=\"4.199999999999999\" style=\"font-family: 'Open Sans', verdana, arial, sans-serif; font-size: 12px; fill: rgb(42, 63, 95); fill-opacity: 1; white-space: pre; opacity: 1;\" transform=\"translate(0,185.3)\">20</text></g><g class=\"ytick\"><text text-anchor=\"end\" x=\"84.00000000000003\" y=\"4.199999999999999\" style=\"font-family: 'Open Sans', verdana, arial, sans-serif; font-size: 12px; fill: rgb(42, 63, 95); fill-opacity: 1; white-space: pre; opacity: 1;\" transform=\"translate(0,119.3)\">10</text></g><g class=\"ytick\"><text text-anchor=\"end\" x=\"84.00000000000003\" y=\"4.199999999999999\" style=\"font-family: 'Open Sans', verdana, arial, sans-serif; font-size: 12px; fill: rgb(42, 63, 95); fill-opacity: 1; white-space: pre; opacity: 1;\" transform=\"translate(0,53.3)\">0</text></g></g><g class=\"overaxes-above\"/></g></g><g class=\"polarlayer\"/><g class=\"smithlayer\"/><g class=\"ternarylayer\"/><g class=\"geolayer\"/><g class=\"funnelarealayer\"/><g class=\"pielayer\"/><g class=\"iciclelayer\"/><g class=\"treemaplayer\"/><g class=\"sunburstlayer\"/><g class=\"glimages\"/><defs id=\"topdefs-c20f7e\"><g class=\"clips\"/></defs><g class=\"layer-above\"><g class=\"imagelayer\"/><g class=\"shapelayer\"/></g><g class=\"infolayer\"><g class=\"g-gtitle\"><text class=\"gtitle\" x=\"250\" y=\"25\" text-anchor=\"middle\" dy=\"0em\" style=\"font-family: 'Open Sans', verdana, arial, sans-serif; font-size: 17px; fill: rgb(42, 63, 95); opacity: 1; font-weight: normal; white-space: pre;\">Normal bigrams, softmax, entropy=7.3345</text></g><g class=\"g-xtitle\"/><g class=\"g-ytitle\"/></g></svg>"
      ]
     },
     "metadata": {},
     "output_type": "display_data"
    },
    {
     "data": {
      "image/svg+xml": [
       "<svg class=\"main-svg\" xmlns=\"http://www.w3.org/2000/svg\" xmlns:xlink=\"http://www.w3.org/1999/xlink\" width=\"500\" height=\"400\" style=\"\" viewBox=\"0 0 500 400\"><rect x=\"0\" y=\"0\" width=\"500\" height=\"400\" style=\"fill: rgb(255, 255, 255); fill-opacity: 1;\"/><defs id=\"defs-3db24f\"><g class=\"clips\"><clipPath id=\"clip3db24fxyplot\" class=\"plotclip\"><rect width=\"329.99999999999994\" height=\"330\"/></clipPath><clipPath class=\"axesclip\" id=\"clip3db24fx\"><rect x=\"85.00000000000003\" y=\"0\" width=\"329.99999999999994\" height=\"400\"/></clipPath><clipPath class=\"axesclip\" id=\"clip3db24fy\"><rect x=\"0\" y=\"50\" width=\"500\" height=\"330\"/></clipPath><clipPath class=\"axesclip\" id=\"clip3db24fxy\"><rect x=\"85.00000000000003\" y=\"50\" width=\"329.99999999999994\" height=\"330\"/></clipPath></g><g class=\"gradients\"/><g class=\"patterns\"/></defs><g class=\"bglayer\"><rect class=\"bg\" x=\"85.00000000000003\" y=\"50\" width=\"329.99999999999994\" height=\"330\" style=\"fill: rgb(229, 236, 246); fill-opacity: 1; stroke-width: 0;\"/></g><g class=\"layer-below\"><g class=\"imagelayer\"/><g class=\"shapelayer\"/></g><g class=\"cartesianlayer\"><g class=\"subplot xy\"><g class=\"layer-subplot\"><g class=\"shapelayer\"/><g class=\"imagelayer\"/></g><g class=\"gridlayer\"><g class=\"x\"><path class=\"xgrid crisp\" transform=\"translate(154.3,0)\" d=\"M0,50v330\" style=\"stroke: rgb(255, 255, 255); stroke-opacity: 1; stroke-width: 1px;\"/><path class=\"xgrid crisp\" transform=\"translate(220.30000000000004,0)\" d=\"M0,50v330\" style=\"stroke: rgb(255, 255, 255); stroke-opacity: 1; stroke-width: 1px;\"/><path class=\"xgrid crisp\" transform=\"translate(286.30000000000007,0)\" d=\"M0,50v330\" style=\"stroke: rgb(255, 255, 255); stroke-opacity: 1; stroke-width: 1px;\"/><path class=\"xgrid crisp\" transform=\"translate(352.30000000000007,0)\" d=\"M0,50v330\" style=\"stroke: rgb(255, 255, 255); stroke-opacity: 1; stroke-width: 1px;\"/></g><g class=\"y\"><path class=\"ygrid crisp\" transform=\"translate(0,317.3)\" d=\"M85.00000000000003,0h329.99999999999994\" style=\"stroke: rgb(255, 255, 255); stroke-opacity: 1; stroke-width: 1px;\"/><path class=\"ygrid crisp\" transform=\"translate(0,251.3)\" d=\"M85.00000000000003,0h329.99999999999994\" style=\"stroke: rgb(255, 255, 255); stroke-opacity: 1; stroke-width: 1px;\"/><path class=\"ygrid crisp\" transform=\"translate(0,185.3)\" d=\"M85.00000000000003,0h329.99999999999994\" style=\"stroke: rgb(255, 255, 255); stroke-opacity: 1; stroke-width: 1px;\"/><path class=\"ygrid crisp\" transform=\"translate(0,119.3)\" d=\"M85.00000000000003,0h329.99999999999994\" style=\"stroke: rgb(255, 255, 255); stroke-opacity: 1; stroke-width: 1px;\"/></g></g><g class=\"zerolinelayer\"><path class=\"xzl zl crisp\" transform=\"translate(88.30000000000003,0)\" d=\"M0,50v330\" style=\"stroke: rgb(255, 255, 255); stroke-opacity: 1; stroke-width: 2px;\"/><path class=\"yzl zl crisp\" transform=\"translate(0,53.3)\" d=\"M85.00000000000003,0h329.99999999999994\" style=\"stroke: rgb(255, 255, 255); stroke-opacity: 1; stroke-width: 2px;\"/></g><path class=\"xlines-below\"/><path class=\"ylines-below\"/><g class=\"overlines-below\"/><g class=\"xaxislayer-below\"/><g class=\"yaxislayer-below\"/><g class=\"overaxes-below\"/><g class=\"plot\" transform=\"translate(85.00000000000003,50)\" clip-path=\"url(#clip3db24fxyplot)\"><g class=\"heatmaplayer mlayer\"><g class=\"hm\"><image xmlns=\"http://www.w3.org/2000/svg\" preserveAspectRatio=\"none\" height=\"330\" width=\"330\" x=\"0\" y=\"0\" xlink:href=\"data:image/png;base64,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\" style=\"opacity: 1;\"/></g></g></g><g class=\"overplot\"/><path class=\"xlines-above crisp\" d=\"M0,0\" style=\"fill: none;\"/><path class=\"ylines-above crisp\" d=\"M0,0\" style=\"fill: none;\"/><g class=\"overlines-above\"/><g class=\"xaxislayer-above\"><g class=\"xtick\"><text text-anchor=\"middle\" x=\"0\" y=\"393\" transform=\"translate(88.30000000000003,0)\" style=\"font-family: 'Open Sans', verdana, arial, sans-serif; font-size: 12px; fill: rgb(42, 63, 95); fill-opacity: 1; white-space: pre; opacity: 1;\">0</text></g><g class=\"xtick\"><text text-anchor=\"middle\" x=\"0\" y=\"393\" style=\"font-family: 'Open Sans', verdana, arial, sans-serif; font-size: 12px; fill: rgb(42, 63, 95); fill-opacity: 1; white-space: pre; opacity: 1;\" transform=\"translate(154.3,0)\">10</text></g><g class=\"xtick\"><text text-anchor=\"middle\" x=\"0\" y=\"393\" style=\"font-family: 'Open Sans', verdana, arial, sans-serif; font-size: 12px; fill: rgb(42, 63, 95); fill-opacity: 1; white-space: pre; opacity: 1;\" transform=\"translate(220.30000000000004,0)\">20</text></g><g class=\"xtick\"><text text-anchor=\"middle\" x=\"0\" y=\"393\" style=\"font-family: 'Open Sans', verdana, arial, sans-serif; font-size: 12px; fill: rgb(42, 63, 95); fill-opacity: 1; white-space: pre; opacity: 1;\" transform=\"translate(286.30000000000007,0)\">30</text></g><g class=\"xtick\"><text text-anchor=\"middle\" x=\"0\" y=\"393\" style=\"font-family: 'Open Sans', verdana, arial, sans-serif; font-size: 12px; fill: rgb(42, 63, 95); fill-opacity: 1; white-space: pre; opacity: 1;\" transform=\"translate(352.30000000000007,0)\">40</text></g></g><g class=\"yaxislayer-above\"><g class=\"ytick\"><text text-anchor=\"end\" x=\"84.00000000000003\" y=\"4.199999999999999\" transform=\"translate(0,317.3)\" style=\"font-family: 'Open Sans', verdana, arial, sans-serif; font-size: 12px; fill: rgb(42, 63, 95); fill-opacity: 1; white-space: pre; opacity: 1;\">40</text></g><g class=\"ytick\"><text text-anchor=\"end\" x=\"84.00000000000003\" y=\"4.199999999999999\" style=\"font-family: 'Open Sans', verdana, arial, sans-serif; font-size: 12px; fill: rgb(42, 63, 95); fill-opacity: 1; white-space: pre; opacity: 1;\" transform=\"translate(0,251.3)\">30</text></g><g class=\"ytick\"><text text-anchor=\"end\" x=\"84.00000000000003\" y=\"4.199999999999999\" style=\"font-family: 'Open Sans', verdana, arial, sans-serif; font-size: 12px; fill: rgb(42, 63, 95); fill-opacity: 1; white-space: pre; opacity: 1;\" transform=\"translate(0,185.3)\">20</text></g><g class=\"ytick\"><text text-anchor=\"end\" x=\"84.00000000000003\" y=\"4.199999999999999\" style=\"font-family: 'Open Sans', verdana, arial, sans-serif; font-size: 12px; fill: rgb(42, 63, 95); fill-opacity: 1; white-space: pre; opacity: 1;\" transform=\"translate(0,119.3)\">10</text></g><g class=\"ytick\"><text text-anchor=\"end\" x=\"84.00000000000003\" y=\"4.199999999999999\" style=\"font-family: 'Open Sans', verdana, arial, sans-serif; font-size: 12px; fill: rgb(42, 63, 95); fill-opacity: 1; white-space: pre; opacity: 1;\" transform=\"translate(0,53.3)\">0</text></g></g><g class=\"overaxes-above\"/></g></g><g class=\"polarlayer\"/><g class=\"smithlayer\"/><g class=\"ternarylayer\"/><g class=\"geolayer\"/><g class=\"funnelarealayer\"/><g class=\"pielayer\"/><g class=\"iciclelayer\"/><g class=\"treemaplayer\"/><g class=\"sunburstlayer\"/><g class=\"glimages\"/><defs id=\"topdefs-3db24f\"><g class=\"clips\"/></defs><g class=\"layer-above\"><g class=\"imagelayer\"/><g class=\"shapelayer\"/></g><g class=\"infolayer\"><g class=\"g-gtitle\"><text class=\"gtitle\" x=\"250\" y=\"25\" text-anchor=\"middle\" dy=\"0em\" style=\"font-family: 'Open Sans', verdana, arial, sans-serif; font-size: 17px; fill: rgb(42, 63, 95); opacity: 1; font-weight: normal; white-space: pre;\">Long range bigrams, softmax, entropy=5.6627</text></g><g class=\"g-xtitle\"/><g class=\"g-ytitle\"/></g></svg>"
      ]
     },
     "metadata": {},
     "output_type": "display_data"
    },
    {
     "data": {
      "image/svg+xml": [
       "<svg class=\"main-svg\" xmlns=\"http://www.w3.org/2000/svg\" xmlns:xlink=\"http://www.w3.org/1999/xlink\" width=\"500\" height=\"200\" style=\"\" viewBox=\"0 0 500 200\"><rect x=\"0\" y=\"0\" width=\"500\" height=\"200\" style=\"fill: rgb(255, 255, 255); fill-opacity: 1;\"/><defs id=\"defs-1dfdab\"><g class=\"clips\"><clipPath id=\"clip1dfdabxyplot\" class=\"plotclip\"><rect width=\"490\" height=\"9.8\"/></clipPath><clipPath class=\"axesclip\" id=\"clip1dfdabx\"><rect x=\"5\" y=\"0\" width=\"490\" height=\"200\"/></clipPath><clipPath class=\"axesclip\" id=\"clip1dfdaby\"><rect x=\"0\" y=\"110.1\" width=\"500\" height=\"9.8\"/></clipPath><clipPath class=\"axesclip\" id=\"clip1dfdabxy\"><rect x=\"5\" y=\"110.1\" width=\"490\" height=\"9.8\"/></clipPath></g><g class=\"gradients\"/><g class=\"patterns\"/></defs><g class=\"bglayer\"><rect class=\"bg\" x=\"5\" y=\"110.1\" width=\"490\" height=\"9.8\" style=\"fill: rgb(229, 236, 246); fill-opacity: 1; stroke-width: 0;\"/></g><g class=\"layer-below\"><g class=\"imagelayer\"/><g class=\"shapelayer\"/></g><g class=\"cartesianlayer\"><g class=\"subplot xy\"><g class=\"layer-subplot\"><g class=\"shapelayer\"/><g class=\"imagelayer\"/></g><g class=\"gridlayer\"><g class=\"x\"><path class=\"xgrid crisp\" transform=\"translate(107.9,0)\" d=\"M0,110.1v9.8\" style=\"stroke: rgb(255, 255, 255); stroke-opacity: 1; stroke-width: 1px;\"/><path class=\"xgrid crisp\" transform=\"translate(205.9,0)\" d=\"M0,110.1v9.8\" style=\"stroke: rgb(255, 255, 255); stroke-opacity: 1; stroke-width: 1px;\"/><path class=\"xgrid crisp\" transform=\"translate(303.9,0)\" d=\"M0,110.1v9.8\" style=\"stroke: rgb(255, 255, 255); stroke-opacity: 1; stroke-width: 1px;\"/><path class=\"xgrid crisp\" transform=\"translate(401.9,0)\" d=\"M0,110.1v9.8\" style=\"stroke: rgb(255, 255, 255); stroke-opacity: 1; stroke-width: 1px;\"/></g><g class=\"y\"/></g><g class=\"zerolinelayer\"><path class=\"xzl zl crisp\" transform=\"translate(9.9,0)\" d=\"M0,110.1v9.8\" style=\"stroke: rgb(255, 255, 255); stroke-opacity: 1; stroke-width: 2px;\"/><path class=\"yzl zl crisp\" transform=\"translate(0,115)\" d=\"M5,0h490\" style=\"stroke: rgb(255, 255, 255); stroke-opacity: 1; stroke-width: 2px;\"/></g><path class=\"xlines-below\"/><path class=\"ylines-below\"/><g class=\"overlines-below\"/><g class=\"xaxislayer-below\"/><g class=\"yaxislayer-below\"/><g class=\"overaxes-below\"/><g class=\"plot\" transform=\"translate(5,110.1)\" clip-path=\"url(#clip1dfdabxyplot)\"><g class=\"heatmaplayer mlayer\"><g class=\"hm\"><image xmlns=\"http://www.w3.org/2000/svg\" preserveAspectRatio=\"none\" height=\"10\" width=\"490\" x=\"0\" y=\"0\" xlink:href=\"data:image/png;base64,iVBORw0KGgoAAAANSUhEUgAAAeoAAAAKCAYAAAB7Xh0MAAACRUlEQVR4Xu2bLUhDYRiF74/TIYhz/iSLIqJlqEmZoNi1iRhWLA7EVRGzJhEFk8k+GdocGATLbIImy4rFn+EwbXrnlRvfvRfeg/ms7uHj7nDuPff79h633hwJHeDT2JkFKMe5Li6Z3Hbtw2QiYNcfhrjT4BXipoMBiKt0vJncYJg0mQh4OC5B3EJhHeKq/hfEpYHr6wo9aK2G24K4fHcvxu2fQ9xKIWdyNa9pMhEwH6Qgrpx4h7ijyW+Iq77Ynts8PIPWerzIQpzn/0JcqTwDcWvL9ya3dZkxmQhIhQmI+3R/IC7Xj3l4r14z1+sBry0TpM21ImDMxX7rjVeH1juZs59zG5U+aC3fcSGu5UDx4KDcRMu+D7NJH7q2u0YAcVdPBxA3OpWHuNvVZ5NbLI6bTAQUOocgzmVQa50Y1FITBrX2CINaasKg1h5hUGtNGNRSEwZ1zHsKd9RSFO6otUm4o9aacEctNeGOWnuEO2qpCXfUMQHMo28tCo++pSY8+tYe4dG31IRH3/8PYAY1g9o8w2dQM6gtkzCoGdSWRxjUDGrLI9H3/I+6TSUOk2nbcJhMasJhMu0RDpNpTThMJjXhMJn2CIfJ2jTh1Lc2Cae+tSac+paacOpbe4RT31ITTn1rj3DqO+acgPUsKQrrWdokedazhCisZ2mPsJ6lNWE9S2rCelZMALNHLUVhjzomgNmjVqKwRy0lYY9a3zfsUUtN2KPWHmGPOualhD1qKQp71Nok7FFLTdij1h5hj1prwh611ATtUf8Bv6fSWZn0wk4AAAAASUVORK5CYII=\" style=\"opacity: 1;\"/></g></g></g><g class=\"overplot\"/><path class=\"xlines-above crisp\" d=\"M0,0\" style=\"fill: none;\"/><path class=\"ylines-above crisp\" d=\"M0,0\" style=\"fill: none;\"/><g class=\"overlines-above\"/><g class=\"xaxislayer-above\"><g class=\"xtick\"><text text-anchor=\"middle\" x=\"0\" y=\"132.89999999999998\" transform=\"translate(9.9,0)\" style=\"font-family: 'Open Sans', verdana, arial, sans-serif; font-size: 12px; fill: rgb(42, 63, 95); fill-opacity: 1; white-space: pre; opacity: 1;\">0</text></g><g class=\"xtick\"><text text-anchor=\"middle\" x=\"0\" y=\"132.89999999999998\" style=\"font-family: 'Open Sans', verdana, arial, sans-serif; font-size: 12px; fill: rgb(42, 63, 95); fill-opacity: 1; white-space: pre; opacity: 1;\" transform=\"translate(107.9,0)\">10</text></g><g class=\"xtick\"><text text-anchor=\"middle\" x=\"0\" y=\"132.89999999999998\" style=\"font-family: 'Open Sans', verdana, arial, sans-serif; font-size: 12px; fill: rgb(42, 63, 95); fill-opacity: 1; white-space: pre; opacity: 1;\" transform=\"translate(205.9,0)\">20</text></g><g class=\"xtick\"><text text-anchor=\"middle\" x=\"0\" y=\"132.89999999999998\" style=\"font-family: 'Open Sans', verdana, arial, sans-serif; font-size: 12px; fill: rgb(42, 63, 95); fill-opacity: 1; white-space: pre; opacity: 1;\" transform=\"translate(303.9,0)\">30</text></g><g class=\"xtick\"><text text-anchor=\"middle\" x=\"0\" y=\"132.89999999999998\" style=\"font-family: 'Open Sans', verdana, arial, sans-serif; font-size: 12px; fill: rgb(42, 63, 95); fill-opacity: 1; white-space: pre; opacity: 1;\" transform=\"translate(401.9,0)\">40</text></g></g><g class=\"yaxislayer-above\"/><g class=\"overaxes-above\"/></g></g><g class=\"polarlayer\"/><g class=\"smithlayer\"/><g class=\"ternarylayer\"/><g class=\"geolayer\"/><g class=\"funnelarealayer\"/><g class=\"pielayer\"/><g class=\"iciclelayer\"/><g class=\"treemaplayer\"/><g class=\"sunburstlayer\"/><g class=\"glimages\"/><defs id=\"topdefs-1dfdab\"><g class=\"clips\"/></defs><g class=\"layer-above\"><g class=\"imagelayer\"/><g class=\"shapelayer\"/></g><g class=\"infolayer\"><g class=\"g-gtitle\"><text class=\"gtitle\" x=\"250\" y=\"25\" text-anchor=\"middle\" dy=\"0em\" style=\"font-family: 'Open Sans', verdana, arial, sans-serif; font-size: 17px; fill: rgb(42, 63, 95); opacity: 1; font-weight: normal; white-space: pre;\">Normal unigrams, softmax, entropy=3.4912</text></g><g class=\"g-xtitle\"/><g class=\"g-ytitle\"/></g></svg>"
      ]
     },
     "metadata": {},
     "output_type": "display_data"
    },
    {
     "data": {
      "image/svg+xml": [
       "<svg class=\"main-svg\" xmlns=\"http://www.w3.org/2000/svg\" xmlns:xlink=\"http://www.w3.org/1999/xlink\" width=\"500\" height=\"200\" viewBox=\"0 0 500 200\" style=\"\"><rect x=\"0\" y=\"0\" width=\"500\" height=\"200\" style=\"fill: rgb(255, 255, 255); fill-opacity: 1;\"/><defs id=\"defs-d27426\"><g class=\"clips\"><clipPath id=\"clipd27426xyplot\" class=\"plotclip\"><rect width=\"490\" height=\"8.166666666666666\"/></clipPath><clipPath class=\"axesclip\" id=\"clipd27426x\"><rect x=\"5\" y=\"0\" width=\"490\" height=\"200\"/></clipPath><clipPath class=\"axesclip\" id=\"clipd27426y\"><rect x=\"0\" y=\"110.91666666666666\" width=\"500\" height=\"8.166666666666666\"/></clipPath><clipPath class=\"axesclip\" id=\"clipd27426xy\"><rect x=\"5\" y=\"110.91666666666666\" width=\"490\" height=\"8.166666666666666\"/></clipPath></g><g class=\"gradients\"/><g class=\"patterns\"/></defs><g class=\"bglayer\"><rect class=\"bg\" x=\"5\" y=\"110.91666666666666\" width=\"490\" height=\"8.166666666666666\" style=\"fill: rgb(229, 236, 246); fill-opacity: 1; stroke-width: 0;\"/></g><g class=\"layer-below\"><g class=\"imagelayer\"/><g class=\"shapelayer\"/></g><g class=\"cartesianlayer\"><g class=\"subplot xy\"><g class=\"layer-subplot\"><g class=\"shapelayer\"/><g class=\"imagelayer\"/></g><g class=\"gridlayer\"><g class=\"x\"><path class=\"xgrid crisp\" transform=\"translate(90.75,0)\" d=\"M0,110.91666666666666v8.166666666666666\" style=\"stroke: rgb(255, 255, 255); stroke-opacity: 1; stroke-width: 1px;\"/><path class=\"xgrid crisp\" transform=\"translate(172.42,0)\" d=\"M0,110.91666666666666v8.166666666666666\" style=\"stroke: rgb(255, 255, 255); stroke-opacity: 1; stroke-width: 1px;\"/><path class=\"xgrid crisp\" transform=\"translate(254.08,0)\" d=\"M0,110.91666666666666v8.166666666666666\" style=\"stroke: rgb(255, 255, 255); stroke-opacity: 1; stroke-width: 1px;\"/><path class=\"xgrid crisp\" transform=\"translate(335.75,0)\" d=\"M0,110.91666666666666v8.166666666666666\" style=\"stroke: rgb(255, 255, 255); stroke-opacity: 1; stroke-width: 1px;\"/><path class=\"xgrid crisp\" transform=\"translate(417.42,0)\" d=\"M0,110.91666666666666v8.166666666666666\" style=\"stroke: rgb(255, 255, 255); stroke-opacity: 1; stroke-width: 1px;\"/></g><g class=\"y\"/></g><g class=\"zerolinelayer\"><path class=\"xzl zl crisp\" transform=\"translate(9.08,0)\" d=\"M0,110.91666666666666v8.166666666666666\" style=\"stroke: rgb(255, 255, 255); stroke-opacity: 1; stroke-width: 2px;\"/><path class=\"yzl zl crisp\" transform=\"translate(0,114.99666666666666)\" d=\"M5,0h490\" style=\"stroke: rgb(255, 255, 255); stroke-opacity: 1; stroke-width: 2px;\"/></g><path class=\"xlines-below\"/><path class=\"ylines-below\"/><g class=\"overlines-below\"/><g class=\"xaxislayer-below\"/><g class=\"yaxislayer-below\"/><g class=\"overaxes-below\"/><g class=\"plot\" transform=\"translate(5,110.91666666666666)\" clip-path=\"url(#clipd27426xyplot)\"><g class=\"heatmaplayer mlayer\"><g class=\"hm\"><image xmlns=\"http://www.w3.org/2000/svg\" preserveAspectRatio=\"none\" height=\"8\" width=\"490\" x=\"0\" y=\"0\" xlink:href=\"data:image/png;base64,iVBORw0KGgoAAAANSUhEUgAAAeoAAAAICAYAAAA2lrwHAAAAi0lEQVRoQ+3VoRHAIBREwVBBKoigudQfiwodYG7OLZb5J9a88a35X4f33O/p2x8BAgQIECBQFBhCXdQ1TYAAAQIEQgGhDgGdEyBAgACBpoBQN3VtEyBAgACBUECoQ0DnBAgQIECgKSDUTV3bBAgQIEAgFBDqENA5AQIECBBoCgh1U9c2AQIECBAIBTb3hhzhgTMt8gAAAABJRU5ErkJggg==\" style=\"opacity: 1;\"/></g></g></g><g class=\"overplot\"/><path class=\"xlines-above crisp\" d=\"M0,0\" style=\"fill: none;\"/><path class=\"ylines-above crisp\" d=\"M0,0\" style=\"fill: none;\"/><g class=\"overlines-above\"/><g class=\"xaxislayer-above\"><g class=\"xtick\"><text text-anchor=\"middle\" x=\"0\" y=\"132.08333333333331\" transform=\"translate(9.08,0)\" style=\"font-family: 'Open Sans', verdana, arial, sans-serif; font-size: 12px; fill: rgb(42, 63, 95); fill-opacity: 1; white-space: pre; opacity: 1;\">0</text></g><g class=\"xtick\"><text text-anchor=\"middle\" x=\"0\" y=\"132.08333333333331\" style=\"font-family: 'Open Sans', verdana, arial, sans-serif; font-size: 12px; fill: rgb(42, 63, 95); fill-opacity: 1; white-space: pre; opacity: 1;\" transform=\"translate(90.75,0)\">10</text></g><g class=\"xtick\"><text text-anchor=\"middle\" x=\"0\" y=\"132.08333333333331\" style=\"font-family: 'Open Sans', verdana, arial, sans-serif; font-size: 12px; fill: rgb(42, 63, 95); fill-opacity: 1; white-space: pre; opacity: 1;\" transform=\"translate(172.42,0)\">20</text></g><g class=\"xtick\"><text text-anchor=\"middle\" x=\"0\" y=\"132.08333333333331\" style=\"font-family: 'Open Sans', verdana, arial, sans-serif; font-size: 12px; fill: rgb(42, 63, 95); fill-opacity: 1; white-space: pre; opacity: 1;\" transform=\"translate(254.08,0)\">30</text></g><g class=\"xtick\"><text text-anchor=\"middle\" x=\"0\" y=\"132.08333333333331\" style=\"font-family: 'Open Sans', verdana, arial, sans-serif; font-size: 12px; fill: rgb(42, 63, 95); fill-opacity: 1; white-space: pre; opacity: 1;\" transform=\"translate(335.75,0)\">40</text></g><g class=\"xtick\"><text text-anchor=\"middle\" x=\"0\" y=\"132.08333333333331\" style=\"font-family: 'Open Sans', verdana, arial, sans-serif; font-size: 12px; fill: rgb(42, 63, 95); fill-opacity: 1; white-space: pre; opacity: 1;\" transform=\"translate(417.42,0)\">50</text></g></g><g class=\"yaxislayer-above\"/><g class=\"overaxes-above\"/></g></g><g class=\"polarlayer\"/><g class=\"smithlayer\"/><g class=\"ternarylayer\"/><g class=\"geolayer\"/><g class=\"funnelarealayer\"/><g class=\"pielayer\"/><g class=\"iciclelayer\"/><g class=\"treemaplayer\"/><g class=\"sunburstlayer\"/><g class=\"glimages\"/><defs id=\"topdefs-d27426\"><g class=\"clips\"/></defs><g class=\"layer-above\"><g class=\"imagelayer\"/><g class=\"shapelayer\"/></g><g class=\"infolayer\"><g class=\"g-gtitle\"><text class=\"gtitle\" x=\"250\" y=\"25\" text-anchor=\"middle\" dy=\"0em\" style=\"font-family: 'Open Sans', verdana, arial, sans-serif; font-size: 17px; fill: rgb(42, 63, 95); opacity: 1; font-weight: normal; white-space: pre;\">Manual unigrams, entropy=2.3040</text></g><g class=\"g-xtitle\"/><g class=\"g-ytitle\"/></g></svg>"
      ]
     },
     "metadata": {},
     "output_type": "display_data"
    }
   ],
   "source": [
    "for fname, table, entropy in zip(fnames, tables, entropies):\n",
    "    if 'unigrams' in fname:\n",
    "        table = [table]\n",
    "    plot_heatmap(fname, table, entropy)"
   ]
  },
  {
   "cell_type": "code",
   "execution_count": null,
   "metadata": {},
   "outputs": [],
   "source": []
  }
 ],
 "metadata": {
  "kernelspec": {
   "display_name": "base",
   "language": "python",
   "name": "python3"
  },
  "language_info": {
   "codemirror_mode": {
    "name": "ipython",
    "version": 3
   },
   "file_extension": ".py",
   "mimetype": "text/x-python",
   "name": "python",
   "nbconvert_exporter": "python",
   "pygments_lexer": "ipython3",
   "version": "3.9.12"
  }
 },
 "nbformat": 4,
 "nbformat_minor": 2
}
