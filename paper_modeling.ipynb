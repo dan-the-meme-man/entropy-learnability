{
 "cells": [
  {
   "cell_type": "code",
   "execution_count": null,
   "metadata": {},
   "outputs": [],
   "source": [
    "import json\n",
    "import numpy as np\n",
    "from scipy.optimize import curve_fit\n",
    "from scipy.stats import ttest_rel\n",
    "import plotly\n",
    "import plotly.express as px\n",
    "import plotly.graph_objects as go\n",
    "import plotly.io as pio\n",
    "import glob\n",
    "import pandas as pd\n",
    "from sklearn.preprocessing import StandardScaler, OrdinalEncoder\n",
    "import statsmodels.api as sm\n",
    "import statsmodels.formula.api as smf\n",
    "pio.renderers.default = 'svg'"
   ]
  },
  {
   "cell_type": "code",
   "execution_count": null,
   "metadata": {},
   "outputs": [],
   "source": [
    "pd.set_option('display.max_rows', None)"
   ]
  },
  {
   "cell_type": "code",
   "execution_count": null,
   "metadata": {},
   "outputs": [],
   "source": [
    "orig_df = pd.read_json('var_results/data_for_modeling.json')\n",
    "orig_df = orig_df.sort_values(by=['Test set average cross-entropy'])"
   ]
  },
  {
   "cell_type": "markdown",
   "metadata": {},
   "source": [
    "# Curve fitting"
   ]
  },
  {
   "cell_type": "code",
   "execution_count": null,
   "metadata": {},
   "outputs": [],
   "source": [
    "# curve fitting\n",
    "def exponential(x, a, b, c):\n",
    "    return a * np.exp(b * x) + c\n",
    "\n",
    "def linear(x, a, b):\n",
    "    return a * x + b\n",
    "\n",
    "def combine_attrs(list1, list2):\n",
    "    list1 = list1.tolist()\n",
    "    list2 = list2.tolist()\n",
    "    return [str(list1[i]) + ', ' + str(list2[i]) for i in range(len(list1))]\n",
    "\n",
    "entropy = orig_df['Entropy']\n",
    "test_set_perplexity = orig_df['Test set perplexity']\n",
    "test_set_avg_cross_entropy = orig_df['Test set average cross-entropy']\n",
    "dist = orig_df['Distribution']\n",
    "uni_or_bi = orig_df['Uni- or bigram']\n",
    "vocab_size = orig_df['Vocab size']\n",
    "softmax = orig_df['Softmax']\n",
    "model_type = orig_df['Model type']\n",
    "embd_size = orig_df['Embedding size']\n",
    "\n",
    "x_ent = np.linspace(min(entropy), max(entropy), 100)\n",
    "\n",
    "ppl_vs_ent = curve_fit(exponential, entropy, test_set_perplexity)\n",
    "\n",
    "y_ppl = exponential(x_ent, *ppl_vs_ent[0])\n",
    "\n",
    "ce_vs_ent = curve_fit(linear, entropy, test_set_avg_cross_entropy)\n",
    "\n",
    "y_ce = linear(x_ent, *ce_vs_ent[0])\n",
    "\n",
    "ppl_fit = go.Scatter(\n",
    "    x=x_ent,\n",
    "    y=y_ppl,\n",
    "    mode='lines',\n",
    "    name=f'{ppl_vs_ent[0][0]:.2f} * exp({ppl_vs_ent[0][1]:.2f} * x) + {ppl_vs_ent[0][2]:.2f}'\n",
    ")\n",
    "\n",
    "ce_fit = go.Scatter(\n",
    "    x=x_ent,\n",
    "    y=y_ce,\n",
    "    mode='lines',\n",
    "    name=f'{ce_vs_ent[0][0]:.2f} * x + {ce_vs_ent[0][1]:.2f}'\n",
    ")\n",
    "\n",
    "y_equals_x = go.Scatter(\n",
    "    x=x_ent,\n",
    "    y=x_ent,\n",
    "    mode='lines',\n",
    "    name='Theoretical limit',\n",
    "    marker=dict(color='red')\n",
    ")\n",
    "\n",
    "default_colors = plotly.colors.qualitative.Plotly\n",
    "next_color = default_colors[13 % len(default_colors)]\n",
    "ppl_fit.update(marker_color=next_color)\n",
    "ce_fit.update(marker_color=next_color)\n",
    "print()"
   ]
  },
  {
   "cell_type": "markdown",
   "metadata": {},
   "source": [
    "# R^2"
   ]
  },
  {
   "cell_type": "code",
   "execution_count": null,
   "metadata": {},
   "outputs": [],
   "source": [
    "residuals = test_set_avg_cross_entropy - linear(np.array(entropy), *ce_vs_ent[0])\n",
    "ss_res = np.sum(residuals**2)\n",
    "ss_tot = np.sum((test_set_avg_cross_entropy - np.mean(test_set_avg_cross_entropy))**2)\n",
    "r_squared = 1 - (ss_res / ss_tot)\n",
    "print(f'Overall R^2: {r_squared}')"
   ]
  },
  {
   "cell_type": "markdown",
   "metadata": {},
   "source": [
    "# Plots"
   ]
  },
  {
   "cell_type": "code",
   "execution_count": null,
   "metadata": {},
   "outputs": [],
   "source": [
    "legend_dict = dict(\n",
    "    orientation='h',\n",
    "    y=-0.15,\n",
    ")\n",
    "\n",
    "marker_dict = dict(\n",
    "    size=12,\n",
    "    opacity=0.5,\n",
    ")"
   ]
  },
  {
   "cell_type": "code",
   "execution_count": null,
   "metadata": {},
   "outputs": [],
   "source": [
    "fig = px.scatter(\n",
    "    orig_df,\n",
    "    x='Entropy',\n",
    "    y='Test set perplexity',\n",
    "    title='Test set perplexity vs. entropy',\n",
    "    labels={'x': 'Entropy', 'y': 'Test set perplexity', 'color': 'Uni- or bigram'},\n",
    "    color=uni_or_bi,\n",
    "    hover_data={'Vocab size': True, 'Softmax': True, 'Distribution': True, 'Model type': True, 'Embedding size': True},\n",
    ")\n",
    "fig.update_layout(legend=legend_dict)\n",
    "fig.update_traces(marker=marker_dict)\n",
    "fig.add_trace(ppl_fit)\n",
    "fig.data = fig.data[::-1]\n",
    "fig.write_html('plots/uni_or_bi.html')\n",
    "pio.write_image(fig, 'plots/uni_or_bi.pdf')\n",
    "fig.show()\n",
    "\n",
    "fig = px.scatter(\n",
    "    orig_df,\n",
    "    x='Entropy',\n",
    "    y='Test set perplexity',\n",
    "    title='Test set perplexity vs. entropy',\n",
    "    labels={'x': 'Entropy', 'y': 'Test set perplexity', 'color': 'Vocab size'},\n",
    "    color=[str(x) for x in vocab_size],\n",
    "    category_orders={'color': reversed([str(x) for x in sorted(vocab_size)])},\n",
    "    hover_data={'Uni- or bigram': True, 'Softmax': True, 'Distribution': True, 'Model type': True, 'Embedding size': True},\n",
    ")\n",
    "fig.update_layout(legend=legend_dict)\n",
    "fig.update_traces(marker=marker_dict)\n",
    "fig.add_trace(ppl_fit)\n",
    "fig.data = fig.data[::-1]\n",
    "fig.write_html('plots/vocab.html')\n",
    "pio.write_image(fig, 'plots/vocab.pdf')\n",
    "fig.show()\n",
    "\n",
    "fig = px.scatter(\n",
    "    orig_df,\n",
    "    x='Entropy',\n",
    "    y='Test set perplexity',\n",
    "    title='Test set perplexity vs. entropy',\n",
    "    labels={'x': 'Entropy', 'y': 'Test set perplexity', 'color': 'Uni- or bigram and distribution'},\n",
    "    color=combine_attrs(uni_or_bi, dist),\n",
    "    hover_data={'Vocab size': True, 'Softmax': True, 'Model type': True, 'Embedding size': True},\n",
    ")\n",
    "fig.update_layout(legend=legend_dict)\n",
    "fig.update_traces(marker=marker_dict)\n",
    "fig.add_trace(ppl_fit)\n",
    "fig.data = fig.data[::-1]\n",
    "fig.write_html('plots/uni_or_bi_dist.html')\n",
    "pio.write_image(fig, 'plots/uni_or_bi_dist.pdf')\n",
    "fig.show()\n",
    "\n",
    "fig = px.scatter(\n",
    "    orig_df,\n",
    "    x='Entropy',\n",
    "    y='Test set perplexity',\n",
    "    title='Test set perplexity vs. entropy',\n",
    "    labels={'x': 'Entropy', 'y': 'Test set perplexity', 'color': 'Model type'},\n",
    "    color='Model type',\n",
    "    hover_data={'Vocab size': True, 'Softmax': True, 'Uni- or bigram': True, 'Distribution': True, 'Embedding size': True},\n",
    ")\n",
    "fig.update_layout(legend=legend_dict)\n",
    "fig.update_traces(marker=marker_dict)\n",
    "fig.add_trace(ppl_fit)\n",
    "fig.data = fig.data[::-1]\n",
    "fig.write_html('plots/model_type.html')\n",
    "pio.write_image(fig, 'plots/model_type.pdf')\n",
    "fig.show()\n",
    "\n",
    "fig = px.scatter(\n",
    "    orig_df,\n",
    "    x='Entropy',\n",
    "    y='Test set perplexity',\n",
    "    title='Test set perplexity vs. entropy',\n",
    "    labels={'x': 'Entropy', 'y': 'Test set perplexity', 'color': 'Embedding size'},\n",
    "    color=[str(x) for x in embd_size],\n",
    "    hover_data={'Vocab size': True, 'Softmax': True, 'Uni- or bigram': True, 'Distribution': True, 'Model type': True},\n",
    ")\n",
    "fig.update_layout(legend=legend_dict)\n",
    "fig.update_traces(marker=marker_dict)\n",
    "fig.add_trace(ppl_fit)\n",
    "fig.data = fig.data[::-1]\n",
    "fig.write_html('plots/embd_size.html')\n",
    "pio.write_image(fig, 'plots/embd_size.pdf')\n",
    "fig.show()\n",
    "\n",
    "fig = px.scatter(\n",
    "    orig_df,\n",
    "    x='Entropy',\n",
    "    y='Test set perplexity',\n",
    "    title='Test set perplexity vs. entropy',\n",
    "    labels={'x': 'Entropy', 'y': 'Test set perplexity', 'color': 'Softmax'},\n",
    "    color='Softmax',\n",
    "    hover_data={'Vocab size': True, 'Uni- or bigram': True, 'Distribution': True, 'Model type': True, 'Embedding size': True},\n",
    ")\n",
    "fig.update_layout(legend=legend_dict)\n",
    "fig.update_traces(marker=marker_dict)\n",
    "fig.add_trace(ppl_fit)\n",
    "fig.data = fig.data[::-1]\n",
    "fig.write_html('plots/softmax.html')\n",
    "pio.write_image(fig, 'plots/softmax.pdf')\n",
    "fig.show()\n",
    "\n",
    "fig = px.scatter(\n",
    "    orig_df,\n",
    "    x='Entropy',\n",
    "    y='Test set average cross-entropy',\n",
    "    title=f'Test set average cross-entropy vs. entropy, R^2={r_squared:.4f}',\n",
    "    labels={'x': 'Entropy', 'y': 'Test set average cross-entropy', 'color': 'Uni- or bigram'},\n",
    "    color='Uni- or bigram',\n",
    "    hover_data={'Vocab size': True, 'Softmax': True, 'Distribution': True, 'Model type': True, 'Embedding size': True},\n",
    ")\n",
    "fig.update_layout(legend=legend_dict)\n",
    "fig.update_traces(marker=marker_dict)\n",
    "fig.add_trace(ce_fit)\n",
    "fig.add_trace(y_equals_x)\n",
    "fig.data = fig.data[::-1]\n",
    "fig.write_html('plots/uni_or_bi_ce.html')\n",
    "pio.write_image(fig, 'plots/uni_or_bi_ce.pdf')\n",
    "fig.show()\n",
    "\n",
    "fig = px.scatter(\n",
    "    orig_df,\n",
    "    x='Entropy',\n",
    "    y='Test set average cross-entropy',\n",
    "    title=f'Test set average cross-entropy vs. entropy, R^2={r_squared:.4f}',\n",
    "    labels={'x': 'Entropy', 'y': 'Test set average cross-entropy', 'color': 'Vocab size'},\n",
    "    color=[str(x) for x in vocab_size],\n",
    "    category_orders={'color': reversed([str(x) for x in sorted(vocab_size)])},\n",
    "    hover_data={'Uni- or bigram': True, 'Softmax': True, 'Distribution': True, 'Model type': True, 'Embedding size': True},\n",
    ")\n",
    "fig.update_layout(legend=legend_dict)\n",
    "fig.update_traces(marker=marker_dict)\n",
    "fig.add_trace(ce_fit)\n",
    "fig.add_trace(y_equals_x)\n",
    "fig.data = fig.data[::-1]\n",
    "fig.write_html('plots/vocab_ce.html')\n",
    "pio.write_image(fig, 'plots/vocab_ce.pdf')\n",
    "fig.show()\n",
    "\n",
    "fig = px.scatter(\n",
    "    orig_df,\n",
    "    x='Entropy',\n",
    "    y='Test set average cross-entropy',\n",
    "    title=f'Test set average cross-entropy vs. entropy, R^2={r_squared:.4f}',\n",
    "    labels={'x': 'Entropy', 'y': 'Test set average cross-entropy', 'color': 'Uni- or bigram and distribution'},\n",
    "    color=combine_attrs(uni_or_bi, dist),\n",
    "    hover_data={'Vocab size': True, 'Softmax': True, 'Model type': True, 'Embedding size': True},\n",
    ")\n",
    "fig.update_layout(legend=legend_dict)\n",
    "fig.update_traces(marker=marker_dict)\n",
    "fig.add_trace(ce_fit)\n",
    "fig.add_trace(y_equals_x)\n",
    "fig.data = fig.data[::-1]\n",
    "fig.write_html('plots/uni_or_bi_dist_ce.html')\n",
    "pio.write_image(fig, 'plots/uni_or_bi_dist_ce.pdf')\n",
    "fig.show()\n",
    "\n",
    "fig = px.scatter(\n",
    "    orig_df,\n",
    "    x='Entropy',\n",
    "    y='Test set average cross-entropy',\n",
    "    title=f'Test set average cross-entropy vs. entropy, R^2={r_squared:.4f}',\n",
    "    labels={'x': 'Entropy', 'y': 'Test set average cross-entropy', 'color': 'Model type'},\n",
    "    color='Model type',\n",
    "    hover_data={'Vocab size': True, 'Softmax': True, 'Uni- or bigram': True, 'Distribution': True, 'Embedding size': True},\n",
    ")\n",
    "fig.update_layout(legend=legend_dict)\n",
    "fig.update_traces(marker=marker_dict)\n",
    "fig.add_trace(ce_fit)\n",
    "fig.add_trace(y_equals_x)\n",
    "fig.data = fig.data[::-1]\n",
    "fig.write_html('plots/model_type_ce.html')\n",
    "pio.write_image(fig, 'plots/model_type_ce.pdf')\n",
    "fig.show()\n",
    "\n",
    "fig = px.scatter(\n",
    "    orig_df,\n",
    "    x='Entropy',\n",
    "    y='Test set average cross-entropy',\n",
    "    title=f'Test set average cross-entropy vs. entropy, R^2={r_squared:.4f}',\n",
    "    labels={'x': 'Entropy', 'y': 'Test set average cross-entropy', 'color': 'Embedding size'},\n",
    "    color=[str(x) for x in embd_size],\n",
    "    hover_data={'Vocab size': True, 'Softmax': True, 'Uni- or bigram': True, 'Distribution': True, 'Model type': True},\n",
    ")\n",
    "fig.update_layout(legend=legend_dict)\n",
    "fig.update_traces(marker=marker_dict)\n",
    "fig.add_trace(ce_fit)\n",
    "fig.add_trace(y_equals_x)\n",
    "fig.data = fig.data[::-1]\n",
    "fig.write_html('plots/embd_size_ce.html')\n",
    "pio.write_image(fig, 'plots/embd_size_ce.pdf')\n",
    "fig.show()\n",
    "\n",
    "fig = px.scatter(\n",
    "    orig_df,\n",
    "    x='Entropy',\n",
    "    y='Test set average cross-entropy',\n",
    "    title=f'Test set average cross-entropy vs. entropy, R^2={r_squared:.4f}',\n",
    "    labels={'x': 'Entropy', 'y': 'Test set average cross-entropy', 'color': 'Softmax'},\n",
    "    color='Softmax',\n",
    "    hover_data={'Vocab size': True, 'Embedding size': True, 'Uni- or bigram': True, 'Distribution': True, 'Model type': True},\n",
    ")\n",
    "fig.update_layout(legend=legend_dict)\n",
    "fig.update_traces(marker=marker_dict)\n",
    "fig.add_trace(ce_fit)\n",
    "fig.add_trace(y_equals_x)\n",
    "fig.data = fig.data[::-1]\n",
    "fig.write_html('plots/softmax_ce.html')\n",
    "pio.write_image(fig, 'plots/softmax_ce.pdf')\n",
    "fig.show()"
   ]
  },
  {
   "cell_type": "markdown",
   "metadata": {},
   "source": [
    "# Linear models"
   ]
  },
  {
   "cell_type": "code",
   "execution_count": null,
   "metadata": {},
   "outputs": [],
   "source": [
    "def encode_and_fit(df_arg):\n",
    "    \n",
    "    df = df_arg.copy()\n",
    "    \n",
    "    enc = OrdinalEncoder()\n",
    "    scaler = StandardScaler()\n",
    "    try:\n",
    "        df['Distribution'] = enc.fit_transform(df[['Distribution']])\n",
    "    except:\n",
    "        pass\n",
    "    try:\n",
    "        df['Uni- or bigram'] = enc.fit_transform(df[['Uni- or bigram']])\n",
    "    except:\n",
    "        pass\n",
    "    try:\n",
    "        df['Softmax'] = enc.fit_transform(df[['Softmax']])\n",
    "    except:\n",
    "        pass\n",
    "    try:\n",
    "        df['Model type'] = enc.fit_transform(df[['Model type']])\n",
    "    except:\n",
    "        pass\n",
    "    for col in df.columns:\n",
    "        if col not in ['Distribution', 'Uni- or bigram', 'Softmax', 'Model type', 'Test set perplexity']:\n",
    "            df[col] = scaler.fit_transform(df[[col]])\n",
    "    \n",
    "    reg = sm.OLS(\n",
    "        df['Test set average cross-entropy'],\n",
    "        sm.add_constant(df.drop(columns=['Test set average cross-entropy', 'Test set perplexity']))\n",
    "    )\n",
    "    res = reg.fit()\n",
    "    # print(res.summary2())\n",
    "    # print('\\n\\n\\n')\n",
    "    # print(f'{res.rsquared:.4f}\\n')\n",
    "    return res"
   ]
  },
  {
   "cell_type": "code",
   "execution_count": null,
   "metadata": {},
   "outputs": [],
   "source": [
    "# all variables, all data\n",
    "print('All variables, all data')\n",
    "encode_and_fit(orig_df)"
   ]
  },
  {
   "cell_type": "code",
   "execution_count": null,
   "metadata": {},
   "outputs": [],
   "source": [
    "for var in ['Entropy', 'Distribution', 'Uni- or bigram', 'Vocab size', 'Softmax', 'Model type', 'Embedding size']:\n",
    "    print('independent variable:', var)\n",
    "    df_to_fit = orig_df[[var, 'Test set average cross-entropy', 'Test set perplexity']]\n",
    "    if len(df_to_fit) <= 4:\n",
    "        continue\n",
    "    res = encode_and_fit(df_to_fit)"
   ]
  },
  {
   "cell_type": "markdown",
   "metadata": {},
   "source": [
    "# Single features on subsets"
   ]
  },
  {
   "cell_type": "code",
   "execution_count": null,
   "metadata": {},
   "outputs": [],
   "source": [
    "vars = ['Distribution', 'Uni- or bigram', 'Vocab size', 'Softmax', 'Model type', 'Embedding size']\n",
    "\n",
    "single_feature_subsets_df = pd.DataFrame(columns=['All'] + vars)\n",
    "index = [f'{var}={unique_val}' for var in vars for unique_val in orig_df[var].unique()]\n",
    "# insert enough rows for the index\n",
    "for i in range(len(index)):\n",
    "    single_feature_subsets_df.loc[i] = 0\n",
    "single_feature_subsets_df.index = index\n",
    "\n",
    "for var in vars:\n",
    "    for unique_val in orig_df[var].unique():\n",
    "        for other_var in ['Entropy'] + vars:\n",
    "            df_to_fit = orig_df[orig_df[var] == unique_val]\n",
    "            if len(df_to_fit) <= 4:\n",
    "                continue\n",
    "            # print('data subset:', var, '=', unique_val)\n",
    "            # print('feature:', other_var)\n",
    "            res = encode_and_fit(df_to_fit[[other_var, 'Test set average cross-entropy', 'Test set perplexity']])\n",
    "            single_feature_subsets_df.loc[f'{var}={unique_val}', other_var] = res.rsquared\n",
    "        # use all variables\n",
    "        res = encode_and_fit(df_to_fit)\n",
    "        single_feature_subsets_df.loc[f'{var}={unique_val}', 'All'] = res.rsquared"
   ]
  },
  {
   "cell_type": "code",
   "execution_count": null,
   "metadata": {},
   "outputs": [],
   "source": [
    "nu_df = pd.DataFrame(columns=['All'] + vars)\n",
    "for other_var in ['Entropy'] + vars:\n",
    "    df_to_fit = orig_df[orig_df['Distribution'] == 'normal']\n",
    "    df_to_fit = df_to_fit[df_to_fit['Uni- or bigram'] == 'unigrams']\n",
    "    if len(df_to_fit) <= 4:\n",
    "        continue\n",
    "    # print('data subset:', var, '=', unique_val)\n",
    "    # print('feature:', other_var)\n",
    "    res = encode_and_fit(df_to_fit[[other_var, 'Test set average cross-entropy', 'Test set perplexity']])\n",
    "    nu_df.loc[f'{var}={unique_val}', other_var] = res.rsquared\n",
    "# use all variables\n",
    "res = encode_and_fit(df_to_fit)\n",
    "nu_df.loc[f'{var}={unique_val}', 'All'] = res.rsquared\n",
    "\n",
    "nb_df = pd.DataFrame(columns=['All'] + vars)\n",
    "for other_var in ['Entropy'] + vars:\n",
    "    df_to_fit = orig_df[orig_df['Distribution'] == 'normal']\n",
    "    df_to_fit = df_to_fit[df_to_fit['Uni- or bigram'] == 'bigrams']\n",
    "    if len(df_to_fit) <= 4:\n",
    "        continue\n",
    "    # print('data subset:', var, '=', unique_val)\n",
    "    # print('feature:', other_var)\n",
    "    res = encode_and_fit(df_to_fit[[other_var, 'Test set average cross-entropy', 'Test set perplexity']])\n",
    "    nb_df.loc[f'{var}={unique_val}', other_var] = res.rsquared\n",
    "# use all variables\n",
    "res = encode_and_fit(df_to_fit)\n",
    "nb_df.loc[f'{var}={unique_val}', 'All'] = res.rsquared"
   ]
  },
  {
   "cell_type": "code",
   "execution_count": null,
   "metadata": {},
   "outputs": [],
   "source": [
    "nb_df[['All', 'Entropy', 'Distribution', 'Uni- or bigram', 'Vocab size', 'Softmax', 'Model type', 'Embedding size']]"
   ]
  },
  {
   "cell_type": "code",
   "execution_count": null,
   "metadata": {},
   "outputs": [],
   "source": [
    "# display floats in pandas as rounded to 3 decimal places, no scientific notation\n",
    "pd.options.display.float_format = '{:.3f}'.format\n",
    "\n",
    "# sort rows by the index\n",
    "single_feature_subsets_df = single_feature_subsets_df.sort_index()\n",
    "# manually re-order columns\n",
    "single_feature_subsets_df = single_feature_subsets_df[[\n",
    "    'All', 'Entropy', 'Distribution', 'Uni- or bigram', 'Vocab size', 'Softmax', 'Model type', 'Embedding size'\n",
    "]]\n",
    "\n",
    "print(single_feature_subsets_df)"
   ]
  },
  {
   "cell_type": "code",
   "execution_count": null,
   "metadata": {},
   "outputs": [],
   "source": [
    "# just vocab size rows\n",
    "print('Vocab size rows')\n",
    "vocab_size_rows = single_feature_subsets_df.loc[[f'Vocab size={x}' for x in orig_df['Vocab size'].unique()]]\n",
    "\n",
    "# sort by integer value following equal sign\n",
    "vocab_size_rows = vocab_size_rows.reindex(sorted(vocab_size_rows.index, key=lambda x: int(x.split('=')[1])))\n",
    "\n",
    "# drop 26, 60, 283, 8193\n",
    "vocab_size_rows = vocab_size_rows.drop('Vocab size=26')\n",
    "vocab_size_rows = vocab_size_rows.drop('Vocab size=60')\n",
    "vocab_size_rows = vocab_size_rows.drop('Vocab size=283')\n",
    "vocab_size_rows = vocab_size_rows.drop('Vocab size=8193')\n",
    "\n",
    "print(vocab_size_rows)"
   ]
  },
  {
   "cell_type": "markdown",
   "metadata": {},
   "source": [
    "# Feature exclusion"
   ]
  },
  {
   "cell_type": "code",
   "execution_count": null,
   "metadata": {},
   "outputs": [],
   "source": [
    "# model all the data\n",
    "print('Model all the data')\n",
    "\n",
    "vars = ['Distribution', 'Uni- or bigram', 'Vocab size', 'Softmax', 'Model type', 'Embedding size']\n",
    "\n",
    "for excluded_var in ['Entropy'] + vars:\n",
    "    independent_vars = ['Entropy'] + vars.copy()\n",
    "    independent_vars.remove(excluded_var)\n",
    "    df_to_fit = orig_df[independent_vars + ['Test set average cross-entropy', 'Test set perplexity']]\n",
    "    if len(df_to_fit) <= 4:\n",
    "        continue\n",
    "    res = encode_and_fit(df_to_fit)\n",
    "    print(f'Excluding {excluded_var}: {res.rsquared:.3f}')"
   ]
  },
  {
   "cell_type": "code",
   "execution_count": null,
   "metadata": {},
   "outputs": [],
   "source": [
    "vars = ['Distribution', 'Uni- or bigram', 'Vocab size', 'Softmax', 'Model type', 'Embedding size']\n",
    "\n",
    "excluded_df = pd.DataFrame(columns=['Entropy'] + vars)\n",
    "index = [f'{var}={unique_val}' for var in vars for unique_val in orig_df[var].unique()]\n",
    "# insert enough rows for the index\n",
    "for i in range(len(index)):\n",
    "    excluded_df.loc[i] = 0\n",
    "excluded_df.index = index\n",
    "\n",
    "for var in vars:\n",
    "    for unique_val in orig_df[var].unique():\n",
    "        for excluded_var in ['Entropy'] + vars:\n",
    "            independent_vars = ['Entropy'] + vars.copy()\n",
    "            independent_vars.remove(excluded_var)\n",
    "            df_to_fit = orig_df[orig_df[var] == unique_val][independent_vars + ['Test set average cross-entropy', 'Test set perplexity']]\n",
    "            if len(df_to_fit) <= 4:\n",
    "                continue\n",
    "            res = encode_and_fit(df_to_fit)\n",
    "            excluded_df.loc[f'{var}={unique_val}', excluded_var] = res.rsquared\n",
    "            \n",
    "# drop vocab size 8193, 283, 60, 26\n",
    "excluded_df = excluded_df.drop('Vocab size=26')\n",
    "excluded_df = excluded_df.drop('Vocab size=60')\n",
    "excluded_df = excluded_df.drop('Vocab size=283')\n",
    "excluded_df = excluded_df.drop('Vocab size=8193')"
   ]
  },
  {
   "cell_type": "code",
   "execution_count": null,
   "metadata": {},
   "outputs": [],
   "source": [
    "excluded_nu_df = pd.DataFrame(columns=['Entropy'] + vars)\n",
    "\n",
    "for excluded_var in ['Entropy'] + vars:\n",
    "    independent_vars = ['Entropy'] + vars.copy()\n",
    "    independent_vars.remove(excluded_var)\n",
    "    df_to_fit = orig_df[orig_df['Distribution'] == 'normal']\n",
    "    df_to_fit = df_to_fit[df_to_fit['Uni- or bigram'] == 'unigrams'][independent_vars + ['Test set average cross-entropy', 'Test set perplexity']]\n",
    "    if len(df_to_fit) <= 4:\n",
    "        continue\n",
    "    res = encode_and_fit(df_to_fit)\n",
    "    excluded_nu_df.loc[f'normal, unigrams', excluded_var] = res.rsquared\n",
    "    \n",
    "excluded_nb_df = pd.DataFrame(columns=['Entropy'] + vars)\n",
    "\n",
    "for excluded_var in ['Entropy'] + vars:\n",
    "    independent_vars = ['Entropy'] + vars.copy()\n",
    "    independent_vars.remove(excluded_var)\n",
    "    df_to_fit = orig_df[orig_df['Distribution'] == 'normal']\n",
    "    df_to_fit = df_to_fit[df_to_fit['Uni- or bigram'] == 'bigrams'][independent_vars + ['Test set average cross-entropy', 'Test set perplexity']]\n",
    "    if len(df_to_fit) <= 4:\n",
    "        continue\n",
    "    res = encode_and_fit(df_to_fit)\n",
    "    excluded_nb_df.loc[f'normal, bigrams', excluded_var] = res.rsquared\n",
    "    \n",
    "print(excluded_nu_df)\n",
    "print(excluded_nb_df)"
   ]
  },
  {
   "cell_type": "code",
   "execution_count": null,
   "metadata": {},
   "outputs": [],
   "source": [
    "excluded_df"
   ]
  },
  {
   "cell_type": "markdown",
   "metadata": {},
   "source": [
    "# Pearson and Spearman rhos"
   ]
  },
  {
   "cell_type": "code",
   "execution_count": null,
   "metadata": {},
   "outputs": [],
   "source": [
    "orig_df.corr(method='pearson')"
   ]
  },
  {
   "cell_type": "code",
   "execution_count": null,
   "metadata": {},
   "outputs": [],
   "source": [
    "orig_df.corr(method='spearman')"
   ]
  },
  {
   "cell_type": "code",
   "execution_count": null,
   "metadata": {},
   "outputs": [],
   "source": [
    "orig_df['Entropy'].describe()"
   ]
  },
  {
   "cell_type": "code",
   "execution_count": null,
   "metadata": {},
   "outputs": [],
   "source": [
    "enc = OrdinalEncoder()\n",
    "\n",
    "pearsons = []\n",
    "spearmans = []\n",
    "\n",
    "for v in orig_df['Vocab size'].unique():\n",
    "    subset = orig_df[orig_df['Vocab size'] == v].copy()\n",
    "    subset['Distribution'] = enc.fit_transform(subset[['Distribution']])\n",
    "    if v in (8193, 283, 60, 26):\n",
    "        continue\n",
    "    print(v, f'dist count = {len(subset[\"Distribution\"].unique())}')\n",
    "    pearsons.append(subset[['Entropy', 'Distribution']].corr(method='pearson').iloc[0, 1])\n",
    "    spearmans.append(subset[['Entropy', 'Distribution']].corr(method='spearman').iloc[0, 1])\n",
    "    \n",
    "print(sum(pearsons) / len(pearsons))\n",
    "print(sum(spearmans) / len(spearmans))"
   ]
  },
  {
   "cell_type": "markdown",
   "metadata": {},
   "source": [
    "# Mixed Effects"
   ]
  },
  {
   "cell_type": "code",
   "execution_count": null,
   "metadata": {},
   "outputs": [],
   "source": [
    "formula = \"Q('Test set average cross-entropy') ~ Q('Entropy') + Q('Distribution') + Q('Uni- or bigram') + Q('Vocab size') + Q('Softmax') + Q('Model type') + Q('Embedding size') - 1\""
   ]
  },
  {
   "cell_type": "code",
   "execution_count": null,
   "metadata": {},
   "outputs": [],
   "source": [
    "model = smf.mixedlm(\n",
    "    formula,\n",
    "    data=orig_df,\n",
    "    groups=orig_df['Entropy'] \n",
    ").fit()\n",
    "print(model.summary())"
   ]
  },
  {
   "cell_type": "code",
   "execution_count": null,
   "metadata": {},
   "outputs": [],
   "source": [
    "x = orig_df['Entropy']\n",
    "y = orig_df['Test set average cross-entropy']\n",
    "x = sm.add_constant(x)\n",
    "model = sm.OLS(y, x).fit()\n",
    "orig_df['Entropy residual'] = model.resid\n",
    "\n",
    "formula = \"Q('Entropy residual') ~ Q('Distribution') + Q('Uni- or bigram') + Q('Vocab size') + Q('Softmax') + Q('Model type') + Q('Embedding size') - 1\"\n",
    "\n",
    "model = smf.mixedlm(\n",
    "    formula,\n",
    "    data=orig_df,\n",
    "    groups=orig_df['Entropy']\n",
    ").fit()\n",
    "print(model.summary())"
   ]
  },
  {
   "cell_type": "markdown",
   "metadata": {},
   "source": [
    "# Paired test - effect of long-range dependencies"
   ]
  },
  {
   "cell_type": "code",
   "execution_count": null,
   "metadata": {},
   "outputs": [],
   "source": [
    "normal_bigrams = orig_df[orig_df['Uni- or bigram'] == 'bigrams']\n",
    "normal_bigrams = normal_bigrams[normal_bigrams['Distribution'] == 'normal']\n",
    "normal_bigrams = normal_bigrams.sort_values(by=['Vocab size', 'Softmax', 'Model type', 'Embedding size']).reset_index(drop=True)\n",
    "normal_bigrams = normal_bigrams[['Test set average cross-entropy', 'Entropy', 'Distribution']]\n",
    "normal_bigrams = normal_bigrams.rename(columns={'Test set average cross-entropy': 'ce', 'Entropy': 'ent', 'Distribution': 'dist'})\n",
    "normal_bigrams['pair_idx'] = normal_bigrams.index\n",
    "normal_bigrams.shape, normal_bigrams.head()"
   ]
  },
  {
   "cell_type": "code",
   "execution_count": null,
   "metadata": {},
   "outputs": [],
   "source": [
    "long_range_bigrams = orig_df[orig_df['Uni- or bigram'] == 'bigrams']\n",
    "long_range_bigrams = long_range_bigrams[long_range_bigrams['Distribution'] == 'long_range']\n",
    "long_range_bigrams = long_range_bigrams.sort_values(by=['Vocab size', 'Softmax', 'Model type', 'Embedding size']).reset_index(drop=True)\n",
    "long_range_bigrams = long_range_bigrams[['Test set average cross-entropy', 'Entropy', 'Distribution']]\n",
    "long_range_bigrams = long_range_bigrams.rename(columns={'Test set average cross-entropy': 'ce', 'Entropy': 'ent', 'Distribution': 'dist'})\n",
    "long_range_bigrams['pair_idx'] = long_range_bigrams.index\n",
    "long_range_bigrams.shape, long_range_bigrams.head()"
   ]
  },
  {
   "cell_type": "code",
   "execution_count": null,
   "metadata": {},
   "outputs": [],
   "source": [
    "paired_test_df = pd.concat([normal_bigrams, long_range_bigrams], axis=0)\n",
    "paired_test_df['deviation'] = paired_test_df['ent'] - paired_test_df['ce']\n",
    "paired_test_df['dist'] = pd.Categorical(paired_test_df['dist'], categories=['normal', 'long_range'], ordered=True)\n",
    "paired_test_df.shape, paired_test_df.head()"
   ]
  },
  {
   "cell_type": "code",
   "execution_count": null,
   "metadata": {},
   "outputs": [],
   "source": [
    "model = smf.mixedlm(\n",
    "    \"deviation ~ dist - 1\",\n",
    "    data=paired_test_df,\n",
    "    groups=paired_test_df['pair_idx']\n",
    ")\n",
    "res = model.fit()\n",
    "print(res.summary())"
   ]
  },
  {
   "cell_type": "code",
   "execution_count": null,
   "metadata": {},
   "outputs": [],
   "source": [
    "normal_bigrams['deviation'] = normal_bigrams['ent'] - normal_bigrams['ce']\n",
    "normal_bigrams.shape, normal_bigrams.head()"
   ]
  },
  {
   "cell_type": "code",
   "execution_count": null,
   "metadata": {},
   "outputs": [],
   "source": [
    "long_range_bigrams['deviation'] = long_range_bigrams['ent'] - long_range_bigrams['ce']\n",
    "long_range_bigrams.shape, long_range_bigrams.head()"
   ]
  },
  {
   "cell_type": "code",
   "execution_count": null,
   "metadata": {},
   "outputs": [],
   "source": [
    "ttest_rel(\n",
    "    normal_bigrams['deviation'],\n",
    "    long_range_bigrams['deviation']\n",
    ")"
   ]
  },
  {
   "cell_type": "markdown",
   "metadata": {},
   "source": [
    "# Heatmaps to show dists"
   ]
  },
  {
   "cell_type": "code",
   "execution_count": null,
   "metadata": {},
   "outputs": [],
   "source": [
    "fnames_100_nosoftmax = glob.glob('var_results/*_50_nosoftmax.json')\n",
    "fnames_100_softmax = glob.glob('var_results/*_50_softmax.json')\n",
    "jsons_100_nosoftmax = [\n",
    "    json.load(open(f)) for f in fnames_100_nosoftmax\n",
    "]\n",
    "jsons_100_softmax = [\n",
    "    json.load(open(f)) for f in fnames_100_softmax\n",
    "]\n",
    "\n",
    "manual = 'var_results/manual_unigrams_60_nosoftmax_manual_0.6.json'\n",
    "manual_json = json.load(open(manual))\n",
    "\n",
    "fnames = fnames_100_nosoftmax + fnames_100_softmax + [manual]\n",
    "tables = [j['table'] for j in jsons_100_nosoftmax] + [j['table'] for j in jsons_100_softmax] + [manual_json['table']]\n",
    "entropies = [j['entropy'] for j in jsons_100_nosoftmax] + [j['entropy'] for j in jsons_100_softmax] + [manual_json['entropy']]\n",
    "\n",
    "del jsons_100_nosoftmax\n",
    "del jsons_100_softmax"
   ]
  },
  {
   "cell_type": "code",
   "execution_count": null,
   "metadata": {},
   "outputs": [],
   "source": [
    "fnames[0]"
   ]
  },
  {
   "cell_type": "code",
   "execution_count": 193,
   "metadata": {},
   "outputs": [],
   "source": [
    "def plot_heatmap(fname, data, entropy):\n",
    "    save_name = fname.split('/')[-1].replace('.json', '.png')\n",
    "    title = fname.split('/')[-1].replace('.json', '').replace('_50_', ', ').replace(', nosoftmax', '').replace('_', ' ')\n",
    "    title = title[0].upper() + title[1:]\n",
    "    title += f', entropy={entropy:.4f}'\n",
    "    if 'manual' in title:\n",
    "        title = f'Manual unigrams, special token probability=0.6, entropy={entropy:.4f}'\n",
    "    # plt.figure()\n",
    "    # sns.heatmap(data, cmap='coolwarm', square=True)\n",
    "    # plt.title(title)\n",
    "    # plt.savefig('heatmaps/' + save_name)\n",
    "    # plt.show()\n",
    "    # plt.close()\n",
    "    layout = go.Layout(\n",
    "        margin = go.layout.Margin(\n",
    "            l=0,\n",
    "            r=0,\n",
    "            b=20,\n",
    "            t=50,\n",
    "        )\n",
    "    )\n",
    "    fig = px.imshow(\n",
    "        data,\n",
    "        title=title,\n",
    "        color_continuous_scale='RdBu_r'\n",
    "    )\n",
    "    fig.update_traces(\n",
    "        dict(\n",
    "            showscale=False,\n",
    "            coloraxis=None\n",
    "        )\n",
    "    )\n",
    "    fig.update_layout(layout, title_x=0.5)\n",
    "    fig.show()\n",
    "    fig.write_html('heatmaps/' + save_name.replace('.png', '.html'))\n",
    "    pio.write_image(fig, 'heatmaps/' + save_name.replace('.png', '.pdf'))"
   ]
  },
  {
   "cell_type": "code",
   "execution_count": 194,
   "metadata": {},
   "outputs": [
    {
     "data": {
      "image/svg+xml": [
       "<svg class=\"main-svg\" xmlns=\"http://www.w3.org/2000/svg\" xmlns:xlink=\"http://www.w3.org/1999/xlink\" width=\"700\" height=\"500\" style=\"\" viewBox=\"0 0 700 500\"><rect x=\"0\" y=\"0\" width=\"700\" height=\"500\" style=\"fill: rgb(255, 255, 255); fill-opacity: 1;\"/><defs id=\"defs-eaf4e1\"><g class=\"clips\"><clipPath id=\"clipeaf4e1xyplot\" class=\"plotclip\"><rect width=\"430\" height=\"430\"/></clipPath><clipPath class=\"axesclip\" id=\"clipeaf4e1x\"><rect x=\"135\" y=\"0\" width=\"430\" height=\"500\"/></clipPath><clipPath class=\"axesclip\" id=\"clipeaf4e1y\"><rect x=\"0\" y=\"50\" width=\"700\" height=\"430\"/></clipPath><clipPath class=\"axesclip\" id=\"clipeaf4e1xy\"><rect x=\"135\" y=\"50\" width=\"430\" height=\"430\"/></clipPath></g><g class=\"gradients\"/><g class=\"patterns\"/></defs><g class=\"bglayer\"><rect class=\"bg\" x=\"135\" y=\"50\" width=\"430\" height=\"430\" style=\"fill: rgb(229, 236, 246); fill-opacity: 1; stroke-width: 0;\"/></g><g class=\"layer-below\"><g class=\"imagelayer\"/><g class=\"shapelayer\"/></g><g class=\"cartesianlayer\"><g class=\"subplot xy\"><g class=\"layer-subplot\"><g class=\"shapelayer\"/><g class=\"imagelayer\"/></g><g class=\"gridlayer\"><g class=\"x\"><path class=\"xgrid crisp\" transform=\"translate(225.3,0)\" d=\"M0,50v430\" style=\"stroke: rgb(255, 255, 255); stroke-opacity: 1; stroke-width: 1px;\"/><path class=\"xgrid crisp\" transform=\"translate(311.3,0)\" d=\"M0,50v430\" style=\"stroke: rgb(255, 255, 255); stroke-opacity: 1; stroke-width: 1px;\"/><path class=\"xgrid crisp\" transform=\"translate(397.3,0)\" d=\"M0,50v430\" style=\"stroke: rgb(255, 255, 255); stroke-opacity: 1; stroke-width: 1px;\"/><path class=\"xgrid crisp\" transform=\"translate(483.3,0)\" d=\"M0,50v430\" style=\"stroke: rgb(255, 255, 255); stroke-opacity: 1; stroke-width: 1px;\"/></g><g class=\"y\"><path class=\"ygrid crisp\" transform=\"translate(0,398.3)\" d=\"M135,0h430\" style=\"stroke: rgb(255, 255, 255); stroke-opacity: 1; stroke-width: 1px;\"/><path class=\"ygrid crisp\" transform=\"translate(0,312.3)\" d=\"M135,0h430\" style=\"stroke: rgb(255, 255, 255); stroke-opacity: 1; stroke-width: 1px;\"/><path class=\"ygrid crisp\" transform=\"translate(0,226.3)\" d=\"M135,0h430\" style=\"stroke: rgb(255, 255, 255); stroke-opacity: 1; stroke-width: 1px;\"/><path class=\"ygrid crisp\" transform=\"translate(0,140.3)\" d=\"M135,0h430\" style=\"stroke: rgb(255, 255, 255); stroke-opacity: 1; stroke-width: 1px;\"/></g></g><g class=\"zerolinelayer\"><path class=\"xzl zl crisp\" transform=\"translate(139.3,0)\" d=\"M0,50v430\" style=\"stroke: rgb(255, 255, 255); stroke-opacity: 1; stroke-width: 2px;\"/><path class=\"yzl zl crisp\" transform=\"translate(0,54.3)\" d=\"M135,0h430\" style=\"stroke: rgb(255, 255, 255); stroke-opacity: 1; stroke-width: 2px;\"/></g><path class=\"xlines-below\"/><path class=\"ylines-below\"/><g class=\"overlines-below\"/><g class=\"xaxislayer-below\"/><g class=\"yaxislayer-below\"/><g class=\"overaxes-below\"/><g class=\"plot\" transform=\"translate(135,50)\" clip-path=\"url(#clipeaf4e1xyplot)\"><g class=\"heatmaplayer mlayer\"><g class=\"hm\"><image xmlns=\"http://www.w3.org/2000/svg\" preserveAspectRatio=\"none\" height=\"430\" width=\"430\" x=\"0\" y=\"0\" xlink:href=\"data:image/png;base64,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\" style=\"opacity: 1;\"/></g></g></g><g class=\"overplot\"/><path class=\"xlines-above crisp\" d=\"M0,0\" style=\"fill: none;\"/><path class=\"ylines-above crisp\" d=\"M0,0\" style=\"fill: none;\"/><g class=\"overlines-above\"/><g class=\"xaxislayer-above\"><g class=\"xtick\"><text text-anchor=\"middle\" x=\"0\" y=\"493\" transform=\"translate(139.3,0)\" style=\"font-family: 'Open Sans', verdana, arial, sans-serif; font-size: 12px; fill: rgb(42, 63, 95); fill-opacity: 1; white-space: pre; opacity: 1;\">0</text></g><g class=\"xtick\"><text text-anchor=\"middle\" x=\"0\" y=\"493\" style=\"font-family: 'Open Sans', verdana, arial, sans-serif; font-size: 12px; fill: rgb(42, 63, 95); fill-opacity: 1; white-space: pre; opacity: 1;\" transform=\"translate(225.3,0)\">10</text></g><g class=\"xtick\"><text text-anchor=\"middle\" x=\"0\" y=\"493\" style=\"font-family: 'Open Sans', verdana, arial, sans-serif; font-size: 12px; fill: rgb(42, 63, 95); fill-opacity: 1; white-space: pre; opacity: 1;\" transform=\"translate(311.3,0)\">20</text></g><g class=\"xtick\"><text text-anchor=\"middle\" x=\"0\" y=\"493\" style=\"font-family: 'Open Sans', verdana, arial, sans-serif; font-size: 12px; fill: rgb(42, 63, 95); fill-opacity: 1; white-space: pre; opacity: 1;\" transform=\"translate(397.3,0)\">30</text></g><g class=\"xtick\"><text text-anchor=\"middle\" x=\"0\" y=\"493\" style=\"font-family: 'Open Sans', verdana, arial, sans-serif; font-size: 12px; fill: rgb(42, 63, 95); fill-opacity: 1; white-space: pre; opacity: 1;\" transform=\"translate(483.3,0)\">40</text></g></g><g class=\"yaxislayer-above\"><g class=\"ytick\"><text text-anchor=\"end\" x=\"134\" y=\"4.199999999999999\" transform=\"translate(0,398.3)\" style=\"font-family: 'Open Sans', verdana, arial, sans-serif; font-size: 12px; fill: rgb(42, 63, 95); fill-opacity: 1; white-space: pre; opacity: 1;\">40</text></g><g class=\"ytick\"><text text-anchor=\"end\" x=\"134\" y=\"4.199999999999999\" style=\"font-family: 'Open Sans', verdana, arial, sans-serif; font-size: 12px; fill: rgb(42, 63, 95); fill-opacity: 1; white-space: pre; opacity: 1;\" transform=\"translate(0,312.3)\">30</text></g><g class=\"ytick\"><text text-anchor=\"end\" x=\"134\" y=\"4.199999999999999\" style=\"font-family: 'Open Sans', verdana, arial, sans-serif; font-size: 12px; fill: rgb(42, 63, 95); fill-opacity: 1; white-space: pre; opacity: 1;\" transform=\"translate(0,226.3)\">20</text></g><g class=\"ytick\"><text text-anchor=\"end\" x=\"134\" y=\"4.199999999999999\" style=\"font-family: 'Open Sans', verdana, arial, sans-serif; font-size: 12px; fill: rgb(42, 63, 95); fill-opacity: 1; white-space: pre; opacity: 1;\" transform=\"translate(0,140.3)\">10</text></g><g class=\"ytick\"><text text-anchor=\"end\" x=\"134\" y=\"4.199999999999999\" style=\"font-family: 'Open Sans', verdana, arial, sans-serif; font-size: 12px; fill: rgb(42, 63, 95); fill-opacity: 1; white-space: pre; opacity: 1;\" transform=\"translate(0,54.3)\">0</text></g></g><g class=\"overaxes-above\"/></g></g><g class=\"polarlayer\"/><g class=\"smithlayer\"/><g class=\"ternarylayer\"/><g class=\"geolayer\"/><g class=\"funnelarealayer\"/><g class=\"pielayer\"/><g class=\"iciclelayer\"/><g class=\"treemaplayer\"/><g class=\"sunburstlayer\"/><g class=\"glimages\"/><defs id=\"topdefs-eaf4e1\"><g class=\"clips\"/></defs><g class=\"layer-above\"><g class=\"imagelayer\"/><g class=\"shapelayer\"/></g><g class=\"infolayer\"><g class=\"g-gtitle\"><text class=\"gtitle\" x=\"350\" y=\"25\" text-anchor=\"middle\" dy=\"0em\" style=\"font-family: 'Open Sans', verdana, arial, sans-serif; font-size: 17px; fill: rgb(42, 63, 95); opacity: 1; font-weight: normal; white-space: pre;\">Long range bigrams, entropy=5.8842</text></g><g class=\"g-xtitle\"/><g class=\"g-ytitle\"/></g></svg>"
      ]
     },
     "metadata": {},
     "output_type": "display_data"
    }
   ],
   "source": [
    "for fname, table, entropy in zip(fnames, tables, entropies):\n",
    "    if 'unigrams' in fname:\n",
    "        table = [table]\n",
    "    plot_heatmap(fname, table, entropy)\n",
    "    break"
   ]
  },
  {
   "cell_type": "code",
   "execution_count": null,
   "metadata": {},
   "outputs": [],
   "source": []
  }
 ],
 "metadata": {
  "kernelspec": {
   "display_name": "base",
   "language": "python",
   "name": "python3"
  },
  "language_info": {
   "codemirror_mode": {
    "name": "ipython",
    "version": 3
   },
   "file_extension": ".py",
   "mimetype": "text/x-python",
   "name": "python",
   "nbconvert_exporter": "python",
   "pygments_lexer": "ipython3",
   "version": "3.9.12"
  }
 },
 "nbformat": 4,
 "nbformat_minor": 2
}
