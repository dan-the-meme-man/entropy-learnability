{
 "cells": [
  {
   "cell_type": "code",
   "execution_count": null,
   "metadata": {},
   "outputs": [],
   "source": [
    "from entropy import calculate_entropy_bigram, calculate_entropy_unigram\n",
    "from tables import create_normal_bigram_table, create_normal_unigram_table, create_uniform_unigram_table\n",
    "from generate_sequences import *\n",
    "from model import get_ffnn\n",
    "import torch"
   ]
  },
  {
   "cell_type": "code",
   "execution_count": null,
   "metadata": {},
   "outputs": [],
   "source": [
    "hparams = {\n",
    "    'device': 'cuda' if torch.cuda.is_available() else 'cpu',\n",
    "    'vocab_size': 100,\n",
    "    'n_positions': 64,\n",
    "    'n_embd': 64, # 64, 256\n",
    "    'n_layer': 4,\n",
    "    'n_head': 4,\n",
    "    'resid_pdrop': 0.05,\n",
    "    'embd_pdrop': 0.05,\n",
    "    'attn_pdrop': 0.05,\n",
    "    'summary_first_dropout': 0.05,\n",
    "    'bos_token_id': 0,\n",
    "    'eos_token_id': 1,\n",
    "    'pad_token_id': 2,\n",
    "    'batch_size': 4,\n",
    "    'sequence_length': 64,\n",
    "    'epochs': 4,\n",
    "    'learning_rate': 0.001,\n",
    "    'warmup_steps': 100,\n",
    "    'weight_decay': 0.01,\n",
    "    'adam_epsilon': 1e-8,\n",
    "    'max_grad_norm': 1.0,\n",
    "    'dist': 'normal_unigram',\n",
    "    'num_train_samples': 8000,\n",
    "    'num_test_samples': 2000,\n",
    "    'log_interval': 10,\n",
    "    'manual_option': 0\n",
    "}"
   ]
  },
  {
   "cell_type": "code",
   "execution_count": null,
   "metadata": {},
   "outputs": [],
   "source": [
    "model = get_ffnn(**hparams)"
   ]
  },
  {
   "cell_type": "code",
   "execution_count": null,
   "metadata": {},
   "outputs": [],
   "source": [
    "seqs = generate_unigram_sequences_using_table(\n",
    "    hparams['batch_size'],\n",
    "    hparams['sequence_length'],\n",
    "    create_uniform_unigram_table(hparams['vocab_size']),\n",
    "    hparams['bos_token_id'],\n",
    "    hparams['eos_token_id'],\n",
    "    hparams['pad_token_id']\n",
    ")"
   ]
  },
  {
   "cell_type": "code",
   "execution_count": null,
   "metadata": {},
   "outputs": [],
   "source": [
    "seqs"
   ]
  },
  {
   "cell_type": "code",
   "execution_count": null,
   "metadata": {},
   "outputs": [],
   "source": [
    "y = model(seqs, labels=seqs)"
   ]
  },
  {
   "cell_type": "code",
   "execution_count": null,
   "metadata": {},
   "outputs": [],
   "source": [
    "y.loss"
   ]
  },
  {
   "cell_type": "code",
   "execution_count": null,
   "metadata": {},
   "outputs": [],
   "source": [
    "def e(x):\n",
    "    print(calculate_entropy_unigram(x))"
   ]
  },
  {
   "cell_type": "code",
   "execution_count": null,
   "metadata": {},
   "outputs": [],
   "source": [
    "x = create_uniform_unigram_table(10)\n",
    "e(x)"
   ]
  },
  {
   "cell_type": "code",
   "execution_count": null,
   "metadata": {},
   "outputs": [],
   "source": [
    "n = 8192\n",
    "y = torch.tensor(\n",
    "    [0.8] + [0.2 / n] * n\n",
    ")\n",
    "print(y.sum())\n",
    "e(y)"
   ]
  },
  {
   "cell_type": "code",
   "execution_count": null,
   "metadata": {},
   "outputs": [],
   "source": [
    "n = 282\n",
    "y = torch.tensor(\n",
    "    [0.7] + [0.3 / n] * n\n",
    ")\n",
    "print(y.sum())\n",
    "e(y)"
   ]
  },
  {
   "cell_type": "code",
   "execution_count": null,
   "metadata": {},
   "outputs": [],
   "source": [
    "n = 59\n",
    "y = torch.tensor(\n",
    "    [0.6] + [0.4 / n] * n\n",
    ")\n",
    "print(y.sum())\n",
    "e(y)"
   ]
  },
  {
   "cell_type": "code",
   "execution_count": null,
   "metadata": {},
   "outputs": [],
   "source": [
    "n = 25\n",
    "y = torch.tensor(\n",
    "    [0.5] + [0.5 / n] * n\n",
    ")\n",
    "print(y.sum())\n",
    "e(y)"
   ]
  },
  {
   "cell_type": "code",
   "execution_count": null,
   "metadata": {},
   "outputs": [],
   "source": [
    "n = 15\n",
    "y = torch.tensor(\n",
    "    [0.4] + [0.6 / n] * n\n",
    ")\n",
    "print(y.sum())\n",
    "e(y)"
   ]
  },
  {
   "cell_type": "code",
   "execution_count": null,
   "metadata": {},
   "outputs": [],
   "source": [
    "n = 11\n",
    "y = torch.tensor(\n",
    "    [0.3] + [0.7 / n] * n\n",
    ")\n",
    "print(y.sum())\n",
    "e(y)"
   ]
  },
  {
   "cell_type": "code",
   "execution_count": null,
   "metadata": {},
   "outputs": [],
   "source": [
    "from generate_sequences import *\n",
    "from tables import create_normal_bigram_table, create_normal_unigram_table, create_uniform_unigram_table"
   ]
  },
  {
   "cell_type": "code",
   "execution_count": null,
   "metadata": {},
   "outputs": [],
   "source": [
    "x = create_normal_unigram_table(10)"
   ]
  },
  {
   "cell_type": "code",
   "execution_count": null,
   "metadata": {},
   "outputs": [],
   "source": [
    "generate_unigram_sequences_using_table(4, 8, x)"
   ]
  },
  {
   "cell_type": "code",
   "execution_count": null,
   "metadata": {},
   "outputs": [],
   "source": [
    "import json\n",
    "import glob\n",
    "import os"
   ]
  },
  {
   "cell_type": "code",
   "execution_count": null,
   "metadata": {},
   "outputs": [],
   "source": [
    "paths = glob.glob('results/u*.json') + glob.glob('results/m*.json') + glob.glob('results/n*.json')"
   ]
  },
  {
   "cell_type": "code",
   "execution_count": null,
   "metadata": {},
   "outputs": [],
   "source": [
    "paths = sorted(list(set(paths)))"
   ]
  },
  {
   "cell_type": "code",
   "execution_count": null,
   "metadata": {},
   "outputs": [],
   "source": [
    "for path in paths:\n",
    "    with open(path, 'r', encoding='utf-8') as f:\n",
    "        try:\n",
    "            data = json.load(f)\n",
    "            dist = os.path.splitext(os.path.basename(path))[0]\n",
    "            print(dist)\n",
    "            print(data['entropy'] - data['transient_entropy'], min(data['test_set_perplexities']))\n",
    "            print()\n",
    "        except:\n",
    "            print('no data:', path)\n",
    "            continue"
   ]
  },
  {
   "cell_type": "code",
   "execution_count": null,
   "metadata": {},
   "outputs": [],
   "source": []
  }
 ],
 "metadata": {
  "kernelspec": {
   "display_name": "base",
   "language": "python",
   "name": "python3"
  },
  "language_info": {
   "codemirror_mode": {
    "name": "ipython",
    "version": 3
   },
   "file_extension": ".py",
   "mimetype": "text/x-python",
   "name": "python",
   "nbconvert_exporter": "python",
   "pygments_lexer": "ipython3",
   "version": "3.9.12"
  }
 },
 "nbformat": 4,
 "nbformat_minor": 2
}
