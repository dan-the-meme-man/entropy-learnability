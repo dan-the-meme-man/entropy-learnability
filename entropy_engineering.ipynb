{
 "cells": [
  {
   "cell_type": "code",
   "execution_count": 4,
   "metadata": {},
   "outputs": [],
   "source": [
    "from entropy import calculate_entropy_bigram, calculate_entropy_unigram\n",
    "from tables import create_normal_bigram_table, create_normal_unigram_table, create_uniform_unigram_table\n",
    "from generate_sequences import *\n",
    "from model import get_ffnn\n",
    "import torch"
   ]
  },
  {
   "cell_type": "code",
   "execution_count": 5,
   "metadata": {},
   "outputs": [],
   "source": [
    "hparams = {\n",
    "    'device': 'cuda' if torch.cuda.is_available() else 'cpu',\n",
    "    'vocab_size': 100,\n",
    "    'n_positions': 64,\n",
    "    'n_embd': 64, # 64, 256\n",
    "    'n_layer': 4,\n",
    "    'n_head': 4,\n",
    "    'resid_pdrop': 0.05,\n",
    "    'embd_pdrop': 0.05,\n",
    "    'attn_pdrop': 0.05,\n",
    "    'summary_first_dropout': 0.05,\n",
    "    'bos_token_id': 0,\n",
    "    'eos_token_id': 1,\n",
    "    'pad_token_id': 2,\n",
    "    'batch_size': 4,\n",
    "    'sequence_length': 64,\n",
    "    'epochs': 4,\n",
    "    'learning_rate': 0.001,\n",
    "    'warmup_steps': 100,\n",
    "    'weight_decay': 0.01,\n",
    "    'adam_epsilon': 1e-8,\n",
    "    'max_grad_norm': 1.0,\n",
    "    'dist': 'normal_unigram',\n",
    "    'num_train_samples': 8000,\n",
    "    'num_test_samples': 2000,\n",
    "    'log_interval': 10,\n",
    "    'manual_option': 0\n",
    "}"
   ]
  },
  {
   "cell_type": "code",
   "execution_count": 6,
   "metadata": {},
   "outputs": [],
   "source": [
    "model = get_ffnn(**hparams)"
   ]
  },
  {
   "cell_type": "code",
   "execution_count": 8,
   "metadata": {},
   "outputs": [],
   "source": [
    "seqs = generate_unigram_sequences_using_table(\n",
    "    hparams['batch_size'],\n",
    "    hparams['sequence_length'],\n",
    "    create_uniform_unigram_table(hparams['vocab_size']),\n",
    "    hparams['bos_token_id'],\n",
    "    hparams['eos_token_id'],\n",
    "    hparams['pad_token_id']\n",
    ")"
   ]
  },
  {
   "cell_type": "code",
   "execution_count": 17,
   "metadata": {},
   "outputs": [
    {
     "data": {
      "text/plain": [
       "tensor([[92, 28, 13, 27,  5, 94, 58, 83, 81, 59, 98, 71, 38, 20, 88, 13, 72, 73,\n",
       "         31, 84, 23, 74,  2,  2, 13, 81,  4, 92, 30, 15, 90, 20, 96, 75, 92, 74,\n",
       "         65, 51, 93, 20, 10, 60, 32, 15, 95, 81, 26, 92, 54, 62,  5, 33, 66, 26,\n",
       "         27, 78, 88, 71, 11, 77, 67,  7, 61,  1],\n",
       "        [19, 29, 42, 67, 65, 78, 41, 63, 39, 77, 79, 81, 64, 84, 75, 93, 31, 95,\n",
       "         59, 12, 59, 76, 97, 91, 49, 59, 78, 65, 57, 11, 74, 23, 28, 98,  2, 88,\n",
       "         89, 83, 19, 16, 12, 59, 35, 30, 48, 95, 87, 54,  8, 58, 71, 73, 89, 13,\n",
       "         83, 72, 71, 80, 88, 70, 87, 94, 85,  1],\n",
       "        [38, 12, 26, 58, 43, 54, 36, 13,  4, 92, 92, 87, 76,  2,  2, 45, 93, 26,\n",
       "         97, 46, 21, 91, 63, 78, 10, 37, 66, 93, 29, 62, 41, 68, 19, 55, 52,  1,\n",
       "         44, 52, 27,  1, 75, 83, 49, 56, 82, 56, 49, 63,  3,  1,  2,  2,  2,  2,\n",
       "          2,  2,  2,  2,  2,  2,  2,  2,  2,  2],\n",
       "        [73, 53,  9,  2, 41, 68, 76, 71, 80,  8,  3,  1,  2,  2,  2,  2,  2,  2,\n",
       "          2,  2,  2,  2,  2,  2,  2,  2,  2,  2,  2,  2,  2,  2,  2,  2,  2,  2,\n",
       "          2,  2,  2,  2,  2,  2,  2,  2,  2,  2,  2,  2,  2,  2,  2,  2,  2,  2,\n",
       "          2,  2,  2,  2,  2,  2,  2,  2,  2,  2]])"
      ]
     },
     "execution_count": 17,
     "metadata": {},
     "output_type": "execute_result"
    }
   ],
   "source": [
    "seqs"
   ]
  },
  {
   "cell_type": "code",
   "execution_count": 14,
   "metadata": {},
   "outputs": [],
   "source": [
    "y = model(seqs, labels=seqs)"
   ]
  },
  {
   "cell_type": "code",
   "execution_count": 16,
   "metadata": {},
   "outputs": [
    {
     "data": {
      "text/plain": [
       "tensor(4.6111, grad_fn=<NllLossBackward0>)"
      ]
     },
     "execution_count": 16,
     "metadata": {},
     "output_type": "execute_result"
    }
   ],
   "source": [
    "y.loss"
   ]
  },
  {
   "cell_type": "code",
   "execution_count": 16,
   "metadata": {},
   "outputs": [],
   "source": [
    "def e(x):\n",
    "    print(calculate_entropy_unigram(x))"
   ]
  },
  {
   "cell_type": "code",
   "execution_count": 19,
   "metadata": {},
   "outputs": [
    {
     "name": "stdout",
     "output_type": "stream",
     "text": [
      "2.3025848865509033\n"
     ]
    }
   ],
   "source": [
    "x = create_uniform_unigram_table(10)\n",
    "e(x)"
   ]
  },
  {
   "cell_type": "code",
   "execution_count": 44,
   "metadata": {},
   "outputs": [
    {
     "name": "stdout",
     "output_type": "stream",
     "text": [
      "tensor(1.0000)\n",
      "2.302584171295166\n"
     ]
    }
   ],
   "source": [
    "n = 8192\n",
    "y = torch.tensor(\n",
    "    [0.8] + [0.2 / n] * n\n",
    ")\n",
    "print(y.sum())\n",
    "e(y)"
   ]
  },
  {
   "cell_type": "code",
   "execution_count": 60,
   "metadata": {},
   "outputs": [
    {
     "name": "stdout",
     "output_type": "stream",
     "text": [
      "tensor(1.0000)\n",
      "2.303436279296875\n"
     ]
    }
   ],
   "source": [
    "n = 282\n",
    "y = torch.tensor(\n",
    "    [0.7] + [0.3 / n] * n\n",
    ")\n",
    "print(y.sum())\n",
    "e(y)"
   ]
  },
  {
   "cell_type": "code",
   "execution_count": 68,
   "metadata": {},
   "outputs": [
    {
     "name": "stdout",
     "output_type": "stream",
     "text": [
      "tensor(1.0000)\n",
      "2.3040266036987305\n"
     ]
    }
   ],
   "source": [
    "n = 59\n",
    "y = torch.tensor(\n",
    "    [0.6] + [0.4 / n] * n\n",
    ")\n",
    "print(y.sum())\n",
    "e(y)"
   ]
  },
  {
   "cell_type": "code",
   "execution_count": 74,
   "metadata": {},
   "outputs": [
    {
     "name": "stdout",
     "output_type": "stream",
     "text": [
      "tensor(1.)\n",
      "2.3025853633880615\n"
     ]
    }
   ],
   "source": [
    "n = 25\n",
    "y = torch.tensor(\n",
    "    [0.5] + [0.5 / n] * n\n",
    ")\n",
    "print(y.sum())\n",
    "e(y)"
   ]
  },
  {
   "cell_type": "code",
   "execution_count": 86,
   "metadata": {},
   "outputs": [
    {
     "name": "stdout",
     "output_type": "stream",
     "text": [
      "tensor(1.0000)\n",
      "2.297842025756836\n"
     ]
    }
   ],
   "source": [
    "n = 15\n",
    "y = torch.tensor(\n",
    "    [0.4] + [0.6 / n] * n\n",
    ")\n",
    "print(y.sum())\n",
    "e(y)"
   ]
  },
  {
   "cell_type": "code",
   "execution_count": 92,
   "metadata": {},
   "outputs": [
    {
     "name": "stdout",
     "output_type": "stream",
     "text": [
      "tensor(1.)\n",
      "2.289391040802002\n"
     ]
    }
   ],
   "source": [
    "n = 11\n",
    "y = torch.tensor(\n",
    "    [0.3] + [0.7 / n] * n\n",
    ")\n",
    "print(y.sum())\n",
    "e(y)"
   ]
  },
  {
   "cell_type": "code",
   "execution_count": 3,
   "metadata": {},
   "outputs": [],
   "source": [
    "from generate_sequences import *\n",
    "from tables import create_normal_bigram_table, create_normal_unigram_table, create_uniform_unigram_table"
   ]
  },
  {
   "cell_type": "code",
   "execution_count": 4,
   "metadata": {},
   "outputs": [],
   "source": [
    "x = create_normal_unigram_table(10)"
   ]
  },
  {
   "cell_type": "code",
   "execution_count": 7,
   "metadata": {},
   "outputs": [
    {
     "data": {
      "text/plain": [
       "tensor([[   8,    2,    2,    7,    6,    1,    9,    9],\n",
       "        [   1,    0, -100, -100, -100, -100, -100, -100],\n",
       "        [   5,    9,    7,    2,    0, -100, -100, -100],\n",
       "        [   0, -100, -100, -100, -100, -100, -100, -100]])"
      ]
     },
     "execution_count": 7,
     "metadata": {},
     "output_type": "execute_result"
    }
   ],
   "source": [
    "generate_unigram_sequences_using_table(4, 8, x)"
   ]
  },
  {
   "cell_type": "code",
   "execution_count": null,
   "metadata": {},
   "outputs": [],
   "source": []
  }
 ],
 "metadata": {
  "kernelspec": {
   "display_name": "base",
   "language": "python",
   "name": "python3"
  },
  "language_info": {
   "codemirror_mode": {
    "name": "ipython",
    "version": 3
   },
   "file_extension": ".py",
   "mimetype": "text/x-python",
   "name": "python",
   "nbconvert_exporter": "python",
   "pygments_lexer": "ipython3",
   "version": "3.9.12"
  }
 },
 "nbformat": 4,
 "nbformat_minor": 2
}
