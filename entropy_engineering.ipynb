{
 "cells": [
  {
   "cell_type": "code",
   "execution_count": 6,
   "metadata": {},
   "outputs": [],
   "source": [
    "from entropy import calculate_entropy_bigram, calculate_entropy_unigram\n",
    "from tables import create_normal_bigram_table, create_normal_unigram_table, create_uniform_unigram_table\n",
    "import torch"
   ]
  },
  {
   "cell_type": "code",
   "execution_count": 16,
   "metadata": {},
   "outputs": [],
   "source": [
    "def e(x):\n",
    "    print(calculate_entropy_unigram(x))"
   ]
  },
  {
   "cell_type": "code",
   "execution_count": 19,
   "metadata": {},
   "outputs": [
    {
     "name": "stdout",
     "output_type": "stream",
     "text": [
      "2.3025848865509033\n"
     ]
    }
   ],
   "source": [
    "x = create_uniform_unigram_table(10)\n",
    "e(x)"
   ]
  },
  {
   "cell_type": "code",
   "execution_count": 44,
   "metadata": {},
   "outputs": [
    {
     "name": "stdout",
     "output_type": "stream",
     "text": [
      "tensor(1.0000)\n",
      "2.302584171295166\n"
     ]
    }
   ],
   "source": [
    "n = 8192\n",
    "y = torch.tensor(\n",
    "    [0.8] + [0.2 / n] * n\n",
    ")\n",
    "print(y.sum())\n",
    "e(y)"
   ]
  },
  {
   "cell_type": "code",
   "execution_count": 60,
   "metadata": {},
   "outputs": [
    {
     "name": "stdout",
     "output_type": "stream",
     "text": [
      "tensor(1.0000)\n",
      "2.303436279296875\n"
     ]
    }
   ],
   "source": [
    "n = 282\n",
    "y = torch.tensor(\n",
    "    [0.7] + [0.3 / n] * n\n",
    ")\n",
    "print(y.sum())\n",
    "e(y)"
   ]
  },
  {
   "cell_type": "code",
   "execution_count": 68,
   "metadata": {},
   "outputs": [
    {
     "name": "stdout",
     "output_type": "stream",
     "text": [
      "tensor(1.0000)\n",
      "2.3040266036987305\n"
     ]
    }
   ],
   "source": [
    "n = 59\n",
    "y = torch.tensor(\n",
    "    [0.6] + [0.4 / n] * n\n",
    ")\n",
    "print(y.sum())\n",
    "e(y)"
   ]
  },
  {
   "cell_type": "code",
   "execution_count": 74,
   "metadata": {},
   "outputs": [
    {
     "name": "stdout",
     "output_type": "stream",
     "text": [
      "tensor(1.)\n",
      "2.3025853633880615\n"
     ]
    }
   ],
   "source": [
    "n = 25\n",
    "y = torch.tensor(\n",
    "    [0.5] + [0.5 / n] * n\n",
    ")\n",
    "print(y.sum())\n",
    "e(y)"
   ]
  },
  {
   "cell_type": "code",
   "execution_count": 86,
   "metadata": {},
   "outputs": [
    {
     "name": "stdout",
     "output_type": "stream",
     "text": [
      "tensor(1.0000)\n",
      "2.297842025756836\n"
     ]
    }
   ],
   "source": [
    "n = 15\n",
    "y = torch.tensor(\n",
    "    [0.4] + [0.6 / n] * n\n",
    ")\n",
    "print(y.sum())\n",
    "e(y)"
   ]
  },
  {
   "cell_type": "code",
   "execution_count": 92,
   "metadata": {},
   "outputs": [
    {
     "name": "stdout",
     "output_type": "stream",
     "text": [
      "tensor(1.)\n",
      "2.289391040802002\n"
     ]
    }
   ],
   "source": [
    "n = 11\n",
    "y = torch.tensor(\n",
    "    [0.3] + [0.7 / n] * n\n",
    ")\n",
    "print(y.sum())\n",
    "e(y)"
   ]
  }
 ],
 "metadata": {
  "kernelspec": {
   "display_name": "base",
   "language": "python",
   "name": "python3"
  },
  "language_info": {
   "codemirror_mode": {
    "name": "ipython",
    "version": 3
   },
   "file_extension": ".py",
   "mimetype": "text/x-python",
   "name": "python",
   "nbconvert_exporter": "python",
   "pygments_lexer": "ipython3",
   "version": "3.9.12"
  }
 },
 "nbformat": 4,
 "nbformat_minor": 2
}
