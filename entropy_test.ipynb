{
 "cells": [
  {
   "cell_type": "code",
   "execution_count": 1,
   "metadata": {},
   "outputs": [],
   "source": [
    "from itertools import product\n",
    "\n",
    "from tables import *\n",
    "from entropy import calculate_entropy_unigram, calculate_entropy_bigram"
   ]
  },
  {
   "cell_type": "code",
   "execution_count": 21,
   "metadata": {},
   "outputs": [],
   "source": [
    "def ent(x):\n",
    "    if not isinstance (x, torch.Tensor):\n",
    "        x = torch.tensor(x)\n",
    "    if x.dtype != torch.float32:\n",
    "        x = x.float()\n",
    "    x += x.min()\n",
    "    x = x.abs()\n",
    "    x /= x.sum()\n",
    "    print(x)\n",
    "    t = -1 * (x * x.log()).sum()\n",
    "    return t.item()"
   ]
  },
  {
   "cell_type": "code",
   "execution_count": 22,
   "metadata": {},
   "outputs": [
    {
     "name": "stdout",
     "output_type": "stream",
     "text": [
      "tensor([0.1109, 0.0872, 0.0975, 0.0616, 0.1436, 0.0708, 0.1869, 0.0745, 0.0539,\n",
      "        0.1131])\n"
     ]
    },
    {
     "data": {
      "text/plain": [
       "2.232290267944336"
      ]
     },
     "execution_count": 22,
     "metadata": {},
     "output_type": "execute_result"
    }
   ],
   "source": [
    "ent(torch.randn(10))"
   ]
  },
  {
   "cell_type": "code",
   "execution_count": 67,
   "metadata": {},
   "outputs": [
    {
     "name": "stdout",
     "output_type": "stream",
     "text": [
      "tensor([0.1071, 0.0917, 0.0984, 0.0750, 0.1283, 0.0810, 0.1565, 0.0834, 0.0700,\n",
      "        0.1085])\n"
     ]
    },
    {
     "data": {
      "text/plain": [
       "2.272552251815796"
      ]
     },
     "execution_count": 67,
     "metadata": {},
     "output_type": "execute_result"
    }
   ],
   "source": [
    "ent_to_target = ent(\n",
    "    tensor(\n",
    "        [0.1109, 0.0872, 0.0975, 0.0616, 0.1436, 0.0708, 0.1869, 0.0745, 0.0539, 0.1131]\n",
    "    )\n",
    ")\n",
    "ent_to_target"
   ]
  },
  {
   "cell_type": "code",
   "execution_count": 116,
   "metadata": {},
   "outputs": [
    {
     "name": "stdout",
     "output_type": "stream",
     "text": [
      "tensor([0.1808, 0.0910, 0.0910, 0.0910, 0.0910, 0.0910, 0.0910, 0.0910, 0.0910,\n",
      "        0.0910])\n"
     ]
    },
    {
     "data": {
      "text/plain": [
       "2.272552013397217"
      ]
     },
     "execution_count": 116,
     "metadata": {},
     "output_type": "execute_result"
    }
   ],
   "source": [
    "ent([2.97339, 1, 1, 1, 1, 1, 1, 1, 1, 1])"
   ]
  },
  {
   "cell_type": "code",
   "execution_count": null,
   "metadata": {},
   "outputs": [],
   "source": []
  }
 ],
 "metadata": {
  "kernelspec": {
   "display_name": "Python 3",
   "language": "python",
   "name": "python3"
  },
  "language_info": {
   "codemirror_mode": {
    "name": "ipython",
    "version": 3
   },
   "file_extension": ".py",
   "mimetype": "text/x-python",
   "name": "python",
   "nbconvert_exporter": "python",
   "pygments_lexer": "ipython3",
   "version": "3.11.0"
  }
 },
 "nbformat": 4,
 "nbformat_minor": 2
}
