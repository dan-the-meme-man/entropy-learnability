{
 "cells": [
  {
   "cell_type": "code",
   "execution_count": 25,
   "metadata": {},
   "outputs": [],
   "source": [
    "import os\n",
    "import math\n",
    "import json\n",
    "import numpy as np\n",
    "from scipy.optimize import curve_fit\n",
    "import plotly\n",
    "import plotly.express as px\n",
    "import plotly.graph_objects as go"
   ]
  },
  {
   "cell_type": "code",
   "execution_count": null,
   "metadata": {},
   "outputs": [],
   "source": [
    "def combine_attrs(list1, list2):\n",
    "    return [str(list1[i]) + ', ' + str(list2[i]) for i in range(len(list1))]\n",
    "\n",
    "def data(json_file):\n",
    "    j = json.load(open(json_file))\n",
    "    settings = os.path.basename(json_file).replace('.json', '').split('_')\n",
    "    j['dist'] = settings[0]\n",
    "    j['uni_or_bi'] = settings[1]\n",
    "    j['vocab_size'] = int(settings[2])\n",
    "    j['softmax'] = True if settings[3] == 'softmax' else False\n",
    "    j['settings'] = settings\n",
    "    j['losses'] = []\n",
    "    if 'lstm' in settings:\n",
    "        j['model_type'] = 'lstm'\n",
    "    else:\n",
    "        j['model_type'] = 'trf'\n",
    "    if 'embd256' in settings:\n",
    "        j['embd_size'] = 256\n",
    "    else:\n",
    "        j['embd_size'] = 64\n",
    "    for i in range(len(j['train_losses'])):\n",
    "        j['losses'].extend(j['train_losses'][i])\n",
    "    del j['train_losses']\n",
    "    if 'val_losses' in j:\n",
    "        print(json_file)\n",
    "    return j\n",
    "\n",
    "json_files = [\n",
    "    os.path.join('results', x) for x in os.listdir('results') if x.endswith('.json')\n",
    "]\n",
    "\n",
    "jsons = [data(json_file) for json_file in json_files]\n",
    "\n",
    "test_set_perplexity = []\n",
    "entropy = []\n",
    "dist = []\n",
    "uni_or_bi = []\n",
    "vocab_size = []\n",
    "softmax = []\n",
    "model_type = []\n",
    "embd_size = []\n",
    "\n",
    "for j in jsons:\n",
    "    test_set_perplexity.append(min(j['test_set_perplexities']))\n",
    "    entropy.append(j['entropy'])\n",
    "    dist.append(j['dist'])\n",
    "    uni_or_bi.append(j['uni_or_bi'])\n",
    "    vocab_size.append(j['vocab_size'])\n",
    "    softmax.append(j['softmax'])\n",
    "    model_type.append(j['model_type'])\n",
    "    embd_size.append(j['embd_size'])\n",
    "    \n",
    "for i in range(len(entropy)):\n",
    "    if uni_or_bi[i] == 'bigrams':\n",
    "        entropy[i] = entropy[i] / 2\n",
    "    \n",
    "test_set_avg_cross_entropy = [math.log(x) for x in test_set_perplexity]\n",
    "\n",
    "df = {\n",
    "    'Test set perplexity': test_set_perplexity,\n",
    "    'Test set average cross-entropy': test_set_avg_cross_entropy,\n",
    "    'Entropy': entropy,\n",
    "    'Distribution': dist,\n",
    "    'Uni- or bigram': uni_or_bi,\n",
    "    'Vocab size': vocab_size,\n",
    "    'Softmax': softmax,\n",
    "    'Model type': model_type,\n",
    "    'Embedding size': embd_size\n",
    "}"
   ]
  },
  {
   "cell_type": "code",
   "execution_count": 27,
   "metadata": {},
   "outputs": [
    {
     "name": "stdout",
     "output_type": "stream",
     "text": [
      "\n"
     ]
    }
   ],
   "source": [
    "# curve fitting\n",
    "def exponential(x, a, b, c):\n",
    "    return a * np.exp(b * x) + c\n",
    "\n",
    "def linear(x, a, b):\n",
    "    return a * x + b\n",
    "\n",
    "x_ent = np.linspace(min(entropy), max(entropy), 100)\n",
    "\n",
    "ppl_vs_ent = curve_fit(exponential, entropy, test_set_perplexity)\n",
    "\n",
    "y_ppl = exponential(x_ent, *ppl_vs_ent[0])\n",
    "\n",
    "ce_vs_ent = curve_fit(linear, entropy, test_set_avg_cross_entropy)\n",
    "\n",
    "y_ce = linear(x_ent, *ce_vs_ent[0])\n",
    "\n",
    "ppl_fit = go.Scatter(\n",
    "    x=x_ent,\n",
    "    y=y_ppl,\n",
    "    mode='lines',\n",
    "    name=f'{ppl_vs_ent[0][0]:.2f} * exp({ppl_vs_ent[0][1]:.2f} * x) + {ppl_vs_ent[0][2]:.2f}'\n",
    ")\n",
    "\n",
    "ce_fit = go.Scatter(\n",
    "    x=x_ent,\n",
    "    y=y_ce,\n",
    "    mode='lines',\n",
    "    name=f'{ce_vs_ent[0][0]:.2f} * x + {ce_vs_ent[0][1]:.2f}'\n",
    ")\n",
    "\n",
    "default_colors = plotly.colors.qualitative.Plotly\n",
    "next_color = default_colors[13 % len(default_colors)]\n",
    "ppl_fit.update(marker_color=next_color)\n",
    "ce_fit.update(marker_color=next_color)\n",
    "print()"
   ]
  },
  {
   "cell_type": "code",
   "execution_count": 28,
   "metadata": {},
   "outputs": [],
   "source": [
    "# plotting options\n",
    "legend_dict = dict(\n",
    "    orientation='h',\n",
    "    y=-0.15,\n",
    ")\n",
    "\n",
    "marker_dict = dict(\n",
    "    size=12,\n",
    "    opacity=0.5,\n",
    ")"
   ]
  },
  {
   "cell_type": "code",
   "execution_count": null,
   "metadata": {},
   "outputs": [
    {
     "name": "stderr",
     "output_type": "stream",
     "text": [
      "c:\\Users\\danie\\AppData\\Local\\Programs\\Python\\Python311\\Lib\\site-packages\\plotly\\express\\_core.py:2065: FutureWarning:\n",
      "\n",
      "When grouping with a length-1 list-like, you will need to pass a length-1 tuple to get_group in a future version of pandas. Pass `(name,)` instead of `name` to silence this warning.\n",
      "\n"
     ]
    }
   ],
   "source": [
    "fig = px.scatter(\n",
    "    df,\n",
    "    x='Entropy',\n",
    "    y='Test set perplexity',\n",
    "    title='Test set perplexity vs. entropy',\n",
    "    labels={'x': 'Entropy', 'y': 'Test set perplexity', 'color': 'Uni- or bigram'},\n",
    "    color=uni_or_bi,\n",
    "    hover_data={'Vocab size': True, 'Softmax': True, 'Distribution': True, 'Model type': True, 'Embedding size': True},\n",
    ")\n",
    "fig.update_layout(legend=legend_dict)\n",
    "fig.update_traces(marker=marker_dict)\n",
    "fig.add_trace(ppl_fit)\n",
    "fig.data = fig.data[::-1]\n",
    "fig.write_html('plots/uni_or_bi.html')"
   ]
  },
  {
   "cell_type": "code",
   "execution_count": null,
   "metadata": {},
   "outputs": [
    {
     "name": "stderr",
     "output_type": "stream",
     "text": [
      "c:\\Users\\danie\\AppData\\Local\\Programs\\Python\\Python311\\Lib\\site-packages\\plotly\\express\\_core.py:2065: FutureWarning:\n",
      "\n",
      "When grouping with a length-1 list-like, you will need to pass a length-1 tuple to get_group in a future version of pandas. Pass `(name,)` instead of `name` to silence this warning.\n",
      "\n"
     ]
    }
   ],
   "source": [
    "fig = px.scatter(\n",
    "    df,\n",
    "    x='Entropy',\n",
    "    y='Test set perplexity',\n",
    "    title='Test set perplexity vs. entropy',\n",
    "    labels={'x': 'Entropy', 'y': 'Test set perplexity', 'color': 'Vocab size'},\n",
    "    color=[str(x) for x in vocab_size],\n",
    "    category_orders={'color': reversed([str(x) for x in sorted(vocab_size)])},\n",
    "    hover_data={'Uni- or bigram': True, 'Softmax': True, 'Distribution': True, 'Model type': True, 'Embedding size': True},\n",
    ")\n",
    "fig.update_layout(legend=legend_dict)\n",
    "fig.update_traces(marker=marker_dict)\n",
    "fig.add_trace(ppl_fit)\n",
    "fig.data = fig.data[::-1]\n",
    "fig.write_html('plots/vocab.html')"
   ]
  },
  {
   "cell_type": "code",
   "execution_count": null,
   "metadata": {},
   "outputs": [
    {
     "name": "stderr",
     "output_type": "stream",
     "text": [
      "c:\\Users\\danie\\AppData\\Local\\Programs\\Python\\Python311\\Lib\\site-packages\\plotly\\express\\_core.py:2065: FutureWarning:\n",
      "\n",
      "When grouping with a length-1 list-like, you will need to pass a length-1 tuple to get_group in a future version of pandas. Pass `(name,)` instead of `name` to silence this warning.\n",
      "\n"
     ]
    }
   ],
   "source": [
    "fig = px.scatter(\n",
    "    df,\n",
    "    x='Entropy',\n",
    "    y='Test set perplexity',\n",
    "    title='Test set perplexity vs. entropy',\n",
    "    labels={'x': 'Entropy', 'y': 'Test set perplexity', 'color': 'Uni- or bigram and distribution'},\n",
    "    color=combine_attrs(uni_or_bi, dist),\n",
    "    hover_data={'Vocab size': True, 'Softmax': True, 'Model type': True, 'Embedding size': True},\n",
    ")\n",
    "fig.update_layout(legend=legend_dict)\n",
    "fig.update_traces(marker=marker_dict)\n",
    "fig.add_trace(ppl_fit)\n",
    "fig.data = fig.data[::-1]\n",
    "fig.write_html('plots/uni_or_bi_dist.html')"
   ]
  },
  {
   "cell_type": "code",
   "execution_count": null,
   "metadata": {},
   "outputs": [
    {
     "name": "stderr",
     "output_type": "stream",
     "text": [
      "c:\\Users\\danie\\AppData\\Local\\Programs\\Python\\Python311\\Lib\\site-packages\\plotly\\express\\_core.py:2065: FutureWarning:\n",
      "\n",
      "When grouping with a length-1 list-like, you will need to pass a length-1 tuple to get_group in a future version of pandas. Pass `(name,)` instead of `name` to silence this warning.\n",
      "\n"
     ]
    }
   ],
   "source": [
    "fig = px.scatter(\n",
    "    df,\n",
    "    x='Entropy',\n",
    "    y='Test set perplexity',\n",
    "    title='Test set perplexity vs. entropy',\n",
    "    labels={'x': 'Entropy', 'y': 'Test set perplexity', 'color': 'Model type'},\n",
    "    color='Model type',\n",
    "    hover_data={'Vocab size': True, 'Softmax': True, 'Uni- or bigram': True, 'Distribution': True, 'Embedding size': True},\n",
    ")\n",
    "fig.update_layout(legend=legend_dict)\n",
    "fig.update_traces(marker=marker_dict)\n",
    "fig.add_trace(ppl_fit)\n",
    "fig.data = fig.data[::-1]\n",
    "fig.write_html('plots/model_type.html')"
   ]
  },
  {
   "cell_type": "code",
   "execution_count": null,
   "metadata": {},
   "outputs": [],
   "source": [
    "fig = px.scatter(\n",
    "    df,\n",
    "    x='Entropy',\n",
    "    y='Test set perplexity',\n",
    "    title='Test set perplexity vs. entropy',\n",
    "    labels={'x': 'Entropy', 'y': 'Test set perplexity', 'color': 'Embedding size'},\n",
    "    color='Embedding size',\n",
    "    hover_data={'Vocab size': True, 'Softmax': True, 'Uni- or bigram': True, 'Distribution': True, 'Model type': True},\n",
    ")\n",
    "fig.update_layout(legend=legend_dict)\n",
    "fig.update_traces(marker=marker_dict)\n",
    "fig.add_trace(ppl_fit)\n",
    "fig.data = fig.data[::-1]\n",
    "fig.write_html('plots/embd_size.html')"
   ]
  },
  {
   "cell_type": "code",
   "execution_count": null,
   "metadata": {},
   "outputs": [
    {
     "name": "stderr",
     "output_type": "stream",
     "text": [
      "c:\\Users\\danie\\AppData\\Local\\Programs\\Python\\Python311\\Lib\\site-packages\\plotly\\express\\_core.py:2065: FutureWarning:\n",
      "\n",
      "When grouping with a length-1 list-like, you will need to pass a length-1 tuple to get_group in a future version of pandas. Pass `(name,)` instead of `name` to silence this warning.\n",
      "\n"
     ]
    }
   ],
   "source": [
    "fig = px.scatter(\n",
    "    df,\n",
    "    x='Entropy',\n",
    "    y='Test set average cross-entropy',\n",
    "    title='Test set average cross-entropy vs. entropy',\n",
    "    labels={'x': 'Entropy', 'y': 'Test set average cross-entropy', 'color': 'Uni- or bigram'},\n",
    "    color='Uni- or bigram',\n",
    "    hover_data={'Vocab size': True, 'Softmax': True, 'Distribution': True, 'Model type': True, 'Embedding size': True},\n",
    ")\n",
    "fig.update_layout(legend=legend_dict)\n",
    "fig.update_traces(marker=marker_dict)\n",
    "fig.add_trace(ce_fit)\n",
    "fig.data = fig.data[::-1]\n",
    "fig.write_html('plots/uni_or_bi_ce.html')"
   ]
  },
  {
   "cell_type": "code",
   "execution_count": null,
   "metadata": {},
   "outputs": [
    {
     "name": "stderr",
     "output_type": "stream",
     "text": [
      "c:\\Users\\danie\\AppData\\Local\\Programs\\Python\\Python311\\Lib\\site-packages\\plotly\\express\\_core.py:2065: FutureWarning:\n",
      "\n",
      "When grouping with a length-1 list-like, you will need to pass a length-1 tuple to get_group in a future version of pandas. Pass `(name,)` instead of `name` to silence this warning.\n",
      "\n"
     ]
    }
   ],
   "source": [
    "fig = px.scatter(\n",
    "    df,\n",
    "    x='Entropy',\n",
    "    y='Test set average cross-entropy',\n",
    "    title='Test set average cross-entropy vs. entropy',\n",
    "    labels={'x': 'Entropy', 'y': 'Test set average cross-entropy', 'color': 'Vocab size'},\n",
    "    color=[str(x) for x in vocab_size],\n",
    "    category_orders={'color': reversed([str(x) for x in sorted(vocab_size)])},\n",
    "    hover_data={'Uni- or bigram': True, 'Softmax': True, 'Distribution': True, 'Model type': True, 'Embedding size': True},\n",
    ")\n",
    "fig.update_layout(legend=legend_dict)\n",
    "fig.update_traces(marker=marker_dict)\n",
    "fig.add_trace(ce_fit)\n",
    "fig.data = fig.data[::-1]\n",
    "fig.write_html('plots/vocab_ce.html')"
   ]
  },
  {
   "cell_type": "code",
   "execution_count": null,
   "metadata": {},
   "outputs": [
    {
     "name": "stderr",
     "output_type": "stream",
     "text": [
      "c:\\Users\\danie\\AppData\\Local\\Programs\\Python\\Python311\\Lib\\site-packages\\plotly\\express\\_core.py:2065: FutureWarning:\n",
      "\n",
      "When grouping with a length-1 list-like, you will need to pass a length-1 tuple to get_group in a future version of pandas. Pass `(name,)` instead of `name` to silence this warning.\n",
      "\n"
     ]
    }
   ],
   "source": [
    "fig = px.scatter(\n",
    "    df,\n",
    "    x='Entropy',\n",
    "    y='Test set average cross-entropy',\n",
    "    title='Test set average cross-entropy vs. entropy',\n",
    "    labels={'x': 'Entropy', 'y': 'Test set average cross-entropy', 'color': 'Uni- or bigram and distribution'},\n",
    "    color=combine_attrs(uni_or_bi, dist),\n",
    "    hover_data={'Vocab size': True, 'Softmax': True, 'Model type': True, 'Embedding size': True},\n",
    ")\n",
    "fig.update_layout(legend=legend_dict)\n",
    "fig.update_traces(marker=marker_dict)\n",
    "fig.add_trace(ce_fit)\n",
    "fig.data = fig.data[::-1]\n",
    "fig.write_html('plots/uni_or_bi_dist_ce.html')"
   ]
  },
  {
   "cell_type": "code",
   "execution_count": null,
   "metadata": {},
   "outputs": [
    {
     "name": "stderr",
     "output_type": "stream",
     "text": [
      "c:\\Users\\danie\\AppData\\Local\\Programs\\Python\\Python311\\Lib\\site-packages\\plotly\\express\\_core.py:2065: FutureWarning:\n",
      "\n",
      "When grouping with a length-1 list-like, you will need to pass a length-1 tuple to get_group in a future version of pandas. Pass `(name,)` instead of `name` to silence this warning.\n",
      "\n"
     ]
    }
   ],
   "source": [
    "fig = px.scatter(\n",
    "    df,\n",
    "    x='Entropy',\n",
    "    y='Test set average cross-entropy',\n",
    "    title='Test set average cross-entropy vs. entropy',\n",
    "    labels={'x': 'Entropy', 'y': 'Test set average cross-entropy', 'color': 'Uni- or bigram'},\n",
    "    color='Model type',\n",
    "    hover_data={'Vocab size': True, 'Softmax': True, 'Uni- or bigram': True, 'Distribution': True, 'Embedding size': True},\n",
    ")\n",
    "fig.update_layout(legend=legend_dict)\n",
    "fig.update_traces(marker=marker_dict)\n",
    "fig.add_trace(ce_fit)\n",
    "fig.data = fig.data[::-1]\n",
    "fig.write_html('plots/model_type_ce.html')"
   ]
  },
  {
   "cell_type": "code",
   "execution_count": null,
   "metadata": {},
   "outputs": [],
   "source": [
    "fig = px.scatter(\n",
    "    df,\n",
    "    x='Entropy',\n",
    "    y='Test set average cross-entropy',\n",
    "    title='Test set average cross-entropy vs. entropy',\n",
    "    labels={'x': 'Entropy', 'y': 'Test set average cross-entropy', 'color': 'Embedding size'},\n",
    "    color='Embedding size',\n",
    "    hover_data={'Vocab size': True, 'Softmax': True, 'Uni- or bigram': True, 'Distribution': True, 'Model type': True},\n",
    ")\n",
    "fig.update_layout(legend=legend_dict)\n",
    "fig.update_traces(marker=marker_dict)\n",
    "fig.add_trace(ce_fit)\n",
    "fig.data = fig.data[::-1]\n",
    "fig.write_html('plots/embd_size_ce.html')"
   ]
  }
 ],
 "metadata": {
  "kernelspec": {
   "display_name": "Python 3",
   "language": "python",
   "name": "python3"
  },
  "language_info": {
   "codemirror_mode": {
    "name": "ipython",
    "version": 3
   },
   "file_extension": ".py",
   "mimetype": "text/x-python",
   "name": "python",
   "nbconvert_exporter": "python",
   "pygments_lexer": "ipython3",
   "version": "3.11.0"
  }
 },
 "nbformat": 4,
 "nbformat_minor": 2
}
