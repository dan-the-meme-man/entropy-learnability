{
 "cells": [
  {
   "cell_type": "code",
   "execution_count": 38,
   "metadata": {},
   "outputs": [],
   "source": [
    "import os\n",
    "import math\n",
    "import json\n",
    "import numpy as np\n",
    "from scipy.optimize import curve_fit\n",
    "import plotly.express as px\n",
    "import plotly.graph_objects as go"
   ]
  },
  {
   "cell_type": "code",
   "execution_count": 39,
   "metadata": {},
   "outputs": [],
   "source": [
    "def combine_attrs(list1, list2):\n",
    "    return [str(list1[i]) + ', ' + str(list2[i]) for i in range(len(list1))]\n",
    "\n",
    "def data(json_file):\n",
    "    j = json.load(open(json_file))\n",
    "    settings = os.path.basename(json_file).replace('.json', '').split('_')\n",
    "    j['dist'] = settings[0]\n",
    "    j['uni_or_bi'] = settings[1]\n",
    "    j['vocab_size'] = int(settings[2])\n",
    "    j['softmax'] = True if settings[3] == 'softmax' else False\n",
    "    j['settings'] = settings\n",
    "    j['losses'] = []\n",
    "    for i in range(len(j['train_losses'])):\n",
    "        j['losses'].extend(j['train_losses'][i])\n",
    "    del j['train_losses']\n",
    "    if 'val_losses' in j:\n",
    "        print(json_file)\n",
    "    return j\n",
    "\n",
    "json_files = [\n",
    "    os.path.join('results', x) for x in os.listdir('results') if x.endswith('.json')\n",
    "]\n",
    "\n",
    "jsons = [data(json_file) for json_file in json_files]\n",
    "\n",
    "test_set_perplexity = []\n",
    "entropy = []\n",
    "dist = []\n",
    "uni_or_bi = []\n",
    "vocab_size = []\n",
    "softmax = []\n",
    "\n",
    "for j in jsons:\n",
    "    test_set_perplexity.append(min(j['test_set_perplexities']))\n",
    "    entropy.append(j['entropy'])\n",
    "    dist.append(j['dist'])\n",
    "    uni_or_bi.append(j['uni_or_bi'])\n",
    "    vocab_size.append(j['vocab_size'])\n",
    "    softmax.append(j['softmax'])\n",
    "    \n",
    "test_set_avg_cross_entropy = [math.log(x) for x in test_set_perplexity]\n",
    "\n",
    "df = {\n",
    "    'Test set perplexity': test_set_perplexity,\n",
    "    'Test set average cross-entropy': test_set_avg_cross_entropy,\n",
    "    'Entropy': entropy,\n",
    "    'Distribution': dist,\n",
    "    'Uni- or bigram': uni_or_bi,\n",
    "    'Vocab size': vocab_size,\n",
    "    'Softmax': softmax\n",
    "}"
   ]
  },
  {
   "cell_type": "code",
   "execution_count": 40,
   "metadata": {},
   "outputs": [],
   "source": [
    "# curve fitting\n",
    "def exponential(x, a, b, c):\n",
    "    return a * np.exp(b * x) + c\n",
    "\n",
    "def linear(x, a, b):\n",
    "    return a * x + b\n",
    "\n",
    "uni_ppls = [test_set_perplexity[i] for i in range(len(uni_or_bi)) if uni_or_bi[i] == 'unigrams']\n",
    "bi_ppls = [test_set_perplexity[i] for i in range(len(uni_or_bi)) if uni_or_bi[i] == 'bigrams']\n",
    "\n",
    "uni_ces = [test_set_avg_cross_entropy[i] for i in range(len(uni_or_bi)) if uni_or_bi[i] == 'unigrams']\n",
    "bi_ces = [test_set_avg_cross_entropy[i] for i in range(len(uni_or_bi)) if uni_or_bi[i] == 'bigrams']\n",
    "\n",
    "uni_ents = [entropy[i] for i in range(len(uni_or_bi)) if uni_or_bi[i] == 'unigrams']\n",
    "bi_ents = [entropy[i] for i in range(len(uni_or_bi)) if uni_or_bi[i] == 'bigrams']\n",
    "\n",
    "uni_ppl_vs_ent = curve_fit(exponential, uni_ents, uni_ppls)\n",
    "bi_ppl_vs_ent = curve_fit(exponential, bi_ents, bi_ppls)\n",
    "\n",
    "uni_ce_vs_ent = curve_fit(linear, uni_ents, uni_ces)\n",
    "bi_ce_vs_ent = curve_fit(linear, bi_ents, bi_ces)"
   ]
  },
  {
   "cell_type": "code",
   "execution_count": 41,
   "metadata": {},
   "outputs": [
    {
     "name": "stderr",
     "output_type": "stream",
     "text": [
      "c:\\Users\\danie\\AppData\\Local\\Programs\\Python\\Python311\\Lib\\site-packages\\plotly\\express\\_core.py:2065: FutureWarning:\n",
      "\n",
      "When grouping with a length-1 list-like, you will need to pass a length-1 tuple to get_group in a future version of pandas. Pass `(name,)` instead of `name` to silence this warning.\n",
      "\n"
     ]
    }
   ],
   "source": [
    "fig = px.scatter(\n",
    "    df,\n",
    "    x='Entropy',\n",
    "    y='Test set perplexity',\n",
    "    title='Test set perplexity vs. entropy',\n",
    "    labels={'x': 'Entropy', 'y': 'Test set perplexity', 'color': 'Uni- or bigram'},\n",
    "    color=uni_or_bi,\n",
    "    hover_data={'Vocab size': True, 'Softmax': True, 'Distribution': True}\n",
    ")\n",
    "fig.update_layout(\n",
    "    legend=dict(\n",
    "        x=0.015,\n",
    "        y=0.97\n",
    "    )\n",
    ")\n",
    "x1 = np.linspace(min(uni_ents), max(uni_ents), 100)\n",
    "y1 = exponential(x1, *uni_ppl_vs_ent[0])\n",
    "x2 = np.linspace(min(bi_ents), max(bi_ents), 100)\n",
    "y2 = exponential(x2, *bi_ppl_vs_ent[0])\n",
    "fig.add_trace(go.Scatter(\n",
    "    x=x1,\n",
    "    y=y1,\n",
    "    mode='lines',\n",
    "    name=f'unigrams: {uni_ppl_vs_ent[0][0]:.2f} * exp({uni_ppl_vs_ent[0][1]:.2f} * x) - {abs(uni_ppl_vs_ent[0][2]):.2f}')\n",
    ")\n",
    "fig.add_trace(go.Scatter(\n",
    "    x=x2,\n",
    "    y=y2,\n",
    "    mode='lines',\n",
    "    name=f'bigrams: {bi_ppl_vs_ent[0][0]:.2f} * exp({bi_ppl_vs_ent[0][1]:.2f} * x) - {abs(bi_ppl_vs_ent[0][2]):.2f}')\n",
    ")\n",
    "fig.write_html('plots/uni_or_bi.html')"
   ]
  },
  {
   "cell_type": "code",
   "execution_count": 42,
   "metadata": {},
   "outputs": [
    {
     "name": "stderr",
     "output_type": "stream",
     "text": [
      "c:\\Users\\danie\\AppData\\Local\\Programs\\Python\\Python311\\Lib\\site-packages\\plotly\\express\\_core.py:2065: FutureWarning:\n",
      "\n",
      "When grouping with a length-1 list-like, you will need to pass a length-1 tuple to get_group in a future version of pandas. Pass `(name,)` instead of `name` to silence this warning.\n",
      "\n"
     ]
    }
   ],
   "source": [
    "fig = px.scatter(\n",
    "    df,\n",
    "    x='Entropy',\n",
    "    y='Test set perplexity',\n",
    "    title='Test set perplexity vs. entropy',\n",
    "    labels={'x': 'Entropy', 'y': 'Test set perplexity', 'color': 'Vocab size'},\n",
    "    color=[str(x) for x in vocab_size],\n",
    "    category_orders={'color': reversed([str(x) for x in sorted(vocab_size)])},\n",
    "    hover_data={'Uni- or bigram': True, 'Softmax': True, 'Distribution': True}\n",
    ")\n",
    "fig.update_layout(\n",
    "    legend=dict(\n",
    "        x=0.015,\n",
    "        y=0.97\n",
    "    )\n",
    ")\n",
    "fig.add_trace(go.Scatter(\n",
    "    x=x1,\n",
    "    y=y1,\n",
    "    mode='lines',\n",
    "    name=f'unigrams: {uni_ppl_vs_ent[0][0]:.2f} * exp({uni_ppl_vs_ent[0][1]:.2f} * x) - {abs(uni_ppl_vs_ent[0][2]):.2f}')\n",
    ")\n",
    "fig.add_trace(go.Scatter(\n",
    "    x=x2,\n",
    "    y=y2,\n",
    "    mode='lines',\n",
    "    name=f'bigrams: {bi_ppl_vs_ent[0][0]:.2f} * exp({bi_ppl_vs_ent[0][1]:.2f} * x) - {abs(bi_ppl_vs_ent[0][2]):.2f}')\n",
    ")\n",
    "fig.write_html('plots/vocab.html')"
   ]
  },
  {
   "cell_type": "code",
   "execution_count": 43,
   "metadata": {},
   "outputs": [
    {
     "name": "stderr",
     "output_type": "stream",
     "text": [
      "c:\\Users\\danie\\AppData\\Local\\Programs\\Python\\Python311\\Lib\\site-packages\\plotly\\express\\_core.py:2065: FutureWarning:\n",
      "\n",
      "When grouping with a length-1 list-like, you will need to pass a length-1 tuple to get_group in a future version of pandas. Pass `(name,)` instead of `name` to silence this warning.\n",
      "\n"
     ]
    }
   ],
   "source": [
    "fig = px.scatter(\n",
    "    df,\n",
    "    x='Entropy',\n",
    "    y='Test set perplexity',\n",
    "    title='Test set perplexity vs. entropy',\n",
    "    labels={'x': 'Entropy', 'y': 'Test set perplexity', 'color': 'Uni- or bigram and distribution'},\n",
    "    color=combine_attrs(uni_or_bi, dist),\n",
    "    hover_data={'Vocab size': True, 'Softmax': True}\n",
    ")\n",
    "fig.update_layout(\n",
    "    legend=dict(\n",
    "        x=0.015,\n",
    "        y=0.97\n",
    "    )\n",
    ")\n",
    "fig.add_trace(go.Scatter(\n",
    "    x=x1,\n",
    "    y=y1,\n",
    "    mode='lines',\n",
    "    name=f'unigrams: {uni_ppl_vs_ent[0][0]:.2f} * exp({uni_ppl_vs_ent[0][1]:.2f} * x) - {abs(uni_ppl_vs_ent[0][2]):.2f}')\n",
    ")\n",
    "fig.add_trace(go.Scatter(\n",
    "    x=x2,\n",
    "    y=y2,\n",
    "    mode='lines',\n",
    "    name=f'bigrams: {bi_ppl_vs_ent[0][0]:.2f} * exp({bi_ppl_vs_ent[0][1]:.2f} * x) - {abs(bi_ppl_vs_ent[0][2]):.2f}')\n",
    ")\n",
    "fig.write_html('plots/uni_or_bi_dist.html')"
   ]
  },
  {
   "cell_type": "code",
   "execution_count": 44,
   "metadata": {},
   "outputs": [
    {
     "name": "stderr",
     "output_type": "stream",
     "text": [
      "c:\\Users\\danie\\AppData\\Local\\Programs\\Python\\Python311\\Lib\\site-packages\\plotly\\express\\_core.py:2065: FutureWarning:\n",
      "\n",
      "When grouping with a length-1 list-like, you will need to pass a length-1 tuple to get_group in a future version of pandas. Pass `(name,)` instead of `name` to silence this warning.\n",
      "\n"
     ]
    }
   ],
   "source": [
    "fig = px.scatter(\n",
    "    df,\n",
    "    x='Entropy',\n",
    "    y='Test set average cross-entropy',\n",
    "    title='Test set average cross-entropy vs. entropy',\n",
    "    labels={'x': 'Entropy', 'y': 'Test set average cross-entropy', 'color': 'Uni- or bigram'},\n",
    "    color='Uni- or bigram',\n",
    "    hover_data={'Vocab size': True, 'Softmax': True, 'Distribution': True}\n",
    ")\n",
    "fig.update_layout(\n",
    "    legend=dict(\n",
    "        x=0.015,\n",
    "        y=0.97\n",
    "    )\n",
    ")\n",
    "x1 = np.linspace(min(uni_ents), max(uni_ents), 100)\n",
    "y1 = linear(x1, *uni_ce_vs_ent[0])\n",
    "x2 = np.linspace(min(bi_ents), max(bi_ents), 100)\n",
    "y2 = linear(x2, *bi_ce_vs_ent[0])\n",
    "fig.add_trace(go.Scatter(\n",
    "    x=x1,\n",
    "    y=y1,\n",
    "    mode='lines',\n",
    "    name=f'unigrams: {uni_ce_vs_ent[0][0]:.2f} * x + {uni_ce_vs_ent[0][1]:.2f}')\n",
    ")\n",
    "fig.add_trace(go.Scatter(\n",
    "    x=x2,\n",
    "    y=y2,\n",
    "    mode='lines',\n",
    "    name=f'bigrams: {bi_ce_vs_ent[0][0]:.2f} * x + {bi_ce_vs_ent[0][1]:.2f}')\n",
    ")\n",
    "fig.write_html('plots/uni_or_bi_ce.html')"
   ]
  },
  {
   "cell_type": "code",
   "execution_count": 45,
   "metadata": {},
   "outputs": [
    {
     "name": "stderr",
     "output_type": "stream",
     "text": [
      "c:\\Users\\danie\\AppData\\Local\\Programs\\Python\\Python311\\Lib\\site-packages\\plotly\\express\\_core.py:2065: FutureWarning:\n",
      "\n",
      "When grouping with a length-1 list-like, you will need to pass a length-1 tuple to get_group in a future version of pandas. Pass `(name,)` instead of `name` to silence this warning.\n",
      "\n"
     ]
    }
   ],
   "source": [
    "fig = px.scatter(\n",
    "    df,\n",
    "    x='Entropy',\n",
    "    y='Test set average cross-entropy',\n",
    "    title='Test set average cross-entropy vs. entropy',\n",
    "    labels={'x': 'Entropy', 'y': 'Test set average cross-entropy', 'color': 'Vocab size'},\n",
    "    color=[str(x) for x in vocab_size],\n",
    "    category_orders={'color': reversed([str(x) for x in sorted(vocab_size)])},\n",
    "    hover_data={'Uni- or bigram': True, 'Softmax': True, 'Distribution': True}\n",
    ")\n",
    "fig.update_layout(\n",
    "    legend=dict(\n",
    "        x=0.015,\n",
    "        y=0.97\n",
    "    )\n",
    ")\n",
    "fig.add_trace(go.Scatter(\n",
    "    x=x1,\n",
    "    y=y1,\n",
    "    mode='lines',\n",
    "    name=f'unigrams: {uni_ce_vs_ent[0][0]:.2f} * x + {uni_ce_vs_ent[0][1]:.2f}')\n",
    ")\n",
    "fig.add_trace(go.Scatter(\n",
    "    x=x2,\n",
    "    y=y2,\n",
    "    mode='lines',\n",
    "    name=f'bigrams: {bi_ce_vs_ent[0][0]:.2f} * x + {bi_ce_vs_ent[0][1]:.2f}')\n",
    ")\n",
    "fig.write_html('plots/vocab_ce.html')"
   ]
  },
  {
   "cell_type": "code",
   "execution_count": 46,
   "metadata": {},
   "outputs": [
    {
     "name": "stderr",
     "output_type": "stream",
     "text": [
      "c:\\Users\\danie\\AppData\\Local\\Programs\\Python\\Python311\\Lib\\site-packages\\plotly\\express\\_core.py:2065: FutureWarning:\n",
      "\n",
      "When grouping with a length-1 list-like, you will need to pass a length-1 tuple to get_group in a future version of pandas. Pass `(name,)` instead of `name` to silence this warning.\n",
      "\n"
     ]
    }
   ],
   "source": [
    "fig = px.scatter(\n",
    "    df,\n",
    "    x='Entropy',\n",
    "    y='Test set average cross-entropy',\n",
    "    title='Test set average cross-entropy vs. entropy',\n",
    "    labels={'x': 'Entropy', 'y': 'Test set average cross-entropy', 'color': 'Uni- or bigram and distribution'},\n",
    "    color=combine_attrs(uni_or_bi, dist),\n",
    "    hover_data={'Vocab size': True, 'Softmax': True}\n",
    ")\n",
    "fig.update_layout(\n",
    "    legend=dict(\n",
    "        x=0.015,\n",
    "        y=0.97\n",
    "    )\n",
    ")\n",
    "fig.add_trace(go.Scatter(\n",
    "    x=x1,\n",
    "    y=y1,\n",
    "    mode='lines',\n",
    "    name=f'unigrams: {uni_ce_vs_ent[0][0]:.2f} * x + {uni_ce_vs_ent[0][1]:.2f}')\n",
    ")\n",
    "fig.add_trace(go.Scatter(\n",
    "    x=x2,\n",
    "    y=y2,\n",
    "    mode='lines',\n",
    "    name=f'bigrams: {bi_ce_vs_ent[0][0]:.2f} * x + {bi_ce_vs_ent[0][1]:.2f}')\n",
    ")\n",
    "fig.write_html('plots/uni_or_bi_dist_ce.html')"
   ]
  },
  {
   "cell_type": "code",
   "execution_count": null,
   "metadata": {},
   "outputs": [],
   "source": []
  }
 ],
 "metadata": {
  "kernelspec": {
   "display_name": "Python 3",
   "language": "python",
   "name": "python3"
  },
  "language_info": {
   "codemirror_mode": {
    "name": "ipython",
    "version": 3
   },
   "file_extension": ".py",
   "mimetype": "text/x-python",
   "name": "python",
   "nbconvert_exporter": "python",
   "pygments_lexer": "ipython3",
   "version": "3.11.0"
  }
 },
 "nbformat": 4,
 "nbformat_minor": 2
}
